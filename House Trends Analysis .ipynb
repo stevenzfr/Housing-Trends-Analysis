{
 "cells": [
  {
   "cell_type": "markdown",
   "metadata": {
    "id": "oLK9xxGb5sDq"
   },
   "source": [
    "## Ames Iowa Housing Trends Analysis\n",
    "\n",
    "By: Feiran Zhang and Samridhi Verma"
   ]
  },
  {
   "cell_type": "markdown",
   "metadata": {
    "id": "x5a-oOn25sDt"
   },
   "source": [
    "## 1. Introduction"
   ]
  },
  {
   "cell_type": "markdown",
   "metadata": {
    "id": "D6TnlQaQ5sDu"
   },
   "source": [
    "#### Our team chose the Ames, Iowa Housing Dataset which is about resendential home sales in Iowa between 2006 to 2010 and the dataset includes other properties about the houses. \n"
   ]
  },
  {
   "cell_type": "markdown",
   "metadata": {
    "id": "m39YKoFpf-Ay"
   },
   "source": [
    "#### The motiavtion to choose this dataset was because we wanted to analyze at what could be the housing cost for living in a city of Iowa. Also, it has been found that Ames's housing expenses are 5% lower than the national average and the utility prices are 20% lower than the national average. (https://www.payscale.com/cost-of-living-calculator/Iowa-Ames).\n",
    "\n",
    "#### Additionally, the motiavtion behind choosing this dataset is to be able to provide interested buyers of these houses, the trends on the basis of various factors."
   ]
  },
  {
   "cell_type": "code",
   "execution_count": null,
   "metadata": {
    "colab": {
     "base_uri": "https://localhost:8080/"
    },
    "id": "B2OkY59-5sDu",
    "outputId": "e7314340-1b68-45a9-a76e-e888757990b7"
   },
   "outputs": [
    {
     "name": "stderr",
     "output_type": "stream",
     "text": [
      "/usr/local/lib/python3.7/dist-packages/statsmodels/tools/_testing.py:19: FutureWarning: pandas.util.testing is deprecated. Use the functions in the public API at pandas.testing instead.\n",
      "  import pandas.util.testing as tm\n"
     ]
    }
   ],
   "source": [
    "#Imports here\n",
    "import pandas as pd\n",
    "import numpy as np\n",
    "import matplotlib.pyplot as plt\n",
    "import seaborn as sns\n",
    "import statsmodels.api as sm\n",
    "import statsmodels.formula.api as smf\n",
    "\n",
    "from scipy.stats import t\n",
    "from scipy.stats import norm\n",
    "\n",
    "from sklearn.model_selection import train_test_split\n",
    "from sklearn.metrics import confusion_matrix, roc_curve, roc_auc_score"
   ]
  },
  {
   "cell_type": "code",
   "execution_count": null,
   "metadata": {
    "id": "BQ3bAiIs5sDv"
   },
   "outputs": [],
   "source": [
    "Ames = pd.read_csv('ames.csv')"
   ]
  },
  {
   "cell_type": "code",
   "execution_count": null,
   "metadata": {
    "colab": {
     "base_uri": "https://localhost:8080/",
     "height": 488
    },
    "id": "GjJIU-zY5sDv",
    "outputId": "c3e5277c-74cd-42f4-c311-1bd6a8b3c479"
   },
   "outputs": [
    {
     "data": {
      "text/html": [
       "\n",
       "  <div id=\"df-15cff77c-13fe-4ec3-a971-5bb1f2ef61de\">\n",
       "    <div class=\"colab-df-container\">\n",
       "      <div>\n",
       "<style scoped>\n",
       "    .dataframe tbody tr th:only-of-type {\n",
       "        vertical-align: middle;\n",
       "    }\n",
       "\n",
       "    .dataframe tbody tr th {\n",
       "        vertical-align: top;\n",
       "    }\n",
       "\n",
       "    .dataframe thead th {\n",
       "        text-align: right;\n",
       "    }\n",
       "</style>\n",
       "<table border=\"1\" class=\"dataframe\">\n",
       "  <thead>\n",
       "    <tr style=\"text-align: right;\">\n",
       "      <th></th>\n",
       "      <th>Order</th>\n",
       "      <th>PID</th>\n",
       "      <th>MS.SubClass</th>\n",
       "      <th>MS.Zoning</th>\n",
       "      <th>Lot.Frontage</th>\n",
       "      <th>Lot.Area</th>\n",
       "      <th>Street</th>\n",
       "      <th>Alley</th>\n",
       "      <th>Lot.Shape</th>\n",
       "      <th>Land.Contour</th>\n",
       "      <th>...</th>\n",
       "      <th>Pool.Area</th>\n",
       "      <th>Pool.QC</th>\n",
       "      <th>Fence</th>\n",
       "      <th>Misc.Feature</th>\n",
       "      <th>Misc.Val</th>\n",
       "      <th>Mo.Sold</th>\n",
       "      <th>Yr.Sold</th>\n",
       "      <th>Sale.Type</th>\n",
       "      <th>Sale.Condition</th>\n",
       "      <th>SalePrice</th>\n",
       "    </tr>\n",
       "  </thead>\n",
       "  <tbody>\n",
       "    <tr>\n",
       "      <th>0</th>\n",
       "      <td>1</td>\n",
       "      <td>526301100</td>\n",
       "      <td>20</td>\n",
       "      <td>RL</td>\n",
       "      <td>141.0</td>\n",
       "      <td>31770</td>\n",
       "      <td>Pave</td>\n",
       "      <td>NaN</td>\n",
       "      <td>IR1</td>\n",
       "      <td>Lvl</td>\n",
       "      <td>...</td>\n",
       "      <td>0</td>\n",
       "      <td>NaN</td>\n",
       "      <td>NaN</td>\n",
       "      <td>NaN</td>\n",
       "      <td>0</td>\n",
       "      <td>5</td>\n",
       "      <td>2010</td>\n",
       "      <td>WD</td>\n",
       "      <td>Normal</td>\n",
       "      <td>215000</td>\n",
       "    </tr>\n",
       "    <tr>\n",
       "      <th>1</th>\n",
       "      <td>2</td>\n",
       "      <td>526350040</td>\n",
       "      <td>20</td>\n",
       "      <td>RH</td>\n",
       "      <td>80.0</td>\n",
       "      <td>11622</td>\n",
       "      <td>Pave</td>\n",
       "      <td>NaN</td>\n",
       "      <td>Reg</td>\n",
       "      <td>Lvl</td>\n",
       "      <td>...</td>\n",
       "      <td>0</td>\n",
       "      <td>NaN</td>\n",
       "      <td>MnPrv</td>\n",
       "      <td>NaN</td>\n",
       "      <td>0</td>\n",
       "      <td>6</td>\n",
       "      <td>2010</td>\n",
       "      <td>WD</td>\n",
       "      <td>Normal</td>\n",
       "      <td>105000</td>\n",
       "    </tr>\n",
       "    <tr>\n",
       "      <th>2</th>\n",
       "      <td>3</td>\n",
       "      <td>526351010</td>\n",
       "      <td>20</td>\n",
       "      <td>RL</td>\n",
       "      <td>81.0</td>\n",
       "      <td>14267</td>\n",
       "      <td>Pave</td>\n",
       "      <td>NaN</td>\n",
       "      <td>IR1</td>\n",
       "      <td>Lvl</td>\n",
       "      <td>...</td>\n",
       "      <td>0</td>\n",
       "      <td>NaN</td>\n",
       "      <td>NaN</td>\n",
       "      <td>Gar2</td>\n",
       "      <td>12500</td>\n",
       "      <td>6</td>\n",
       "      <td>2010</td>\n",
       "      <td>WD</td>\n",
       "      <td>Normal</td>\n",
       "      <td>172000</td>\n",
       "    </tr>\n",
       "    <tr>\n",
       "      <th>3</th>\n",
       "      <td>4</td>\n",
       "      <td>526353030</td>\n",
       "      <td>20</td>\n",
       "      <td>RL</td>\n",
       "      <td>93.0</td>\n",
       "      <td>11160</td>\n",
       "      <td>Pave</td>\n",
       "      <td>NaN</td>\n",
       "      <td>Reg</td>\n",
       "      <td>Lvl</td>\n",
       "      <td>...</td>\n",
       "      <td>0</td>\n",
       "      <td>NaN</td>\n",
       "      <td>NaN</td>\n",
       "      <td>NaN</td>\n",
       "      <td>0</td>\n",
       "      <td>4</td>\n",
       "      <td>2010</td>\n",
       "      <td>WD</td>\n",
       "      <td>Normal</td>\n",
       "      <td>244000</td>\n",
       "    </tr>\n",
       "    <tr>\n",
       "      <th>4</th>\n",
       "      <td>5</td>\n",
       "      <td>527105010</td>\n",
       "      <td>60</td>\n",
       "      <td>RL</td>\n",
       "      <td>74.0</td>\n",
       "      <td>13830</td>\n",
       "      <td>Pave</td>\n",
       "      <td>NaN</td>\n",
       "      <td>IR1</td>\n",
       "      <td>Lvl</td>\n",
       "      <td>...</td>\n",
       "      <td>0</td>\n",
       "      <td>NaN</td>\n",
       "      <td>MnPrv</td>\n",
       "      <td>NaN</td>\n",
       "      <td>0</td>\n",
       "      <td>3</td>\n",
       "      <td>2010</td>\n",
       "      <td>WD</td>\n",
       "      <td>Normal</td>\n",
       "      <td>189900</td>\n",
       "    </tr>\n",
       "    <tr>\n",
       "      <th>...</th>\n",
       "      <td>...</td>\n",
       "      <td>...</td>\n",
       "      <td>...</td>\n",
       "      <td>...</td>\n",
       "      <td>...</td>\n",
       "      <td>...</td>\n",
       "      <td>...</td>\n",
       "      <td>...</td>\n",
       "      <td>...</td>\n",
       "      <td>...</td>\n",
       "      <td>...</td>\n",
       "      <td>...</td>\n",
       "      <td>...</td>\n",
       "      <td>...</td>\n",
       "      <td>...</td>\n",
       "      <td>...</td>\n",
       "      <td>...</td>\n",
       "      <td>...</td>\n",
       "      <td>...</td>\n",
       "      <td>...</td>\n",
       "      <td>...</td>\n",
       "    </tr>\n",
       "    <tr>\n",
       "      <th>2925</th>\n",
       "      <td>2926</td>\n",
       "      <td>923275080</td>\n",
       "      <td>80</td>\n",
       "      <td>RL</td>\n",
       "      <td>37.0</td>\n",
       "      <td>7937</td>\n",
       "      <td>Pave</td>\n",
       "      <td>NaN</td>\n",
       "      <td>IR1</td>\n",
       "      <td>Lvl</td>\n",
       "      <td>...</td>\n",
       "      <td>0</td>\n",
       "      <td>NaN</td>\n",
       "      <td>GdPrv</td>\n",
       "      <td>NaN</td>\n",
       "      <td>0</td>\n",
       "      <td>3</td>\n",
       "      <td>2006</td>\n",
       "      <td>WD</td>\n",
       "      <td>Normal</td>\n",
       "      <td>142500</td>\n",
       "    </tr>\n",
       "    <tr>\n",
       "      <th>2926</th>\n",
       "      <td>2927</td>\n",
       "      <td>923276100</td>\n",
       "      <td>20</td>\n",
       "      <td>RL</td>\n",
       "      <td>NaN</td>\n",
       "      <td>8885</td>\n",
       "      <td>Pave</td>\n",
       "      <td>NaN</td>\n",
       "      <td>IR1</td>\n",
       "      <td>Low</td>\n",
       "      <td>...</td>\n",
       "      <td>0</td>\n",
       "      <td>NaN</td>\n",
       "      <td>MnPrv</td>\n",
       "      <td>NaN</td>\n",
       "      <td>0</td>\n",
       "      <td>6</td>\n",
       "      <td>2006</td>\n",
       "      <td>WD</td>\n",
       "      <td>Normal</td>\n",
       "      <td>131000</td>\n",
       "    </tr>\n",
       "    <tr>\n",
       "      <th>2927</th>\n",
       "      <td>2928</td>\n",
       "      <td>923400125</td>\n",
       "      <td>85</td>\n",
       "      <td>RL</td>\n",
       "      <td>62.0</td>\n",
       "      <td>10441</td>\n",
       "      <td>Pave</td>\n",
       "      <td>NaN</td>\n",
       "      <td>Reg</td>\n",
       "      <td>Lvl</td>\n",
       "      <td>...</td>\n",
       "      <td>0</td>\n",
       "      <td>NaN</td>\n",
       "      <td>MnPrv</td>\n",
       "      <td>Shed</td>\n",
       "      <td>700</td>\n",
       "      <td>7</td>\n",
       "      <td>2006</td>\n",
       "      <td>WD</td>\n",
       "      <td>Normal</td>\n",
       "      <td>132000</td>\n",
       "    </tr>\n",
       "    <tr>\n",
       "      <th>2928</th>\n",
       "      <td>2929</td>\n",
       "      <td>924100070</td>\n",
       "      <td>20</td>\n",
       "      <td>RL</td>\n",
       "      <td>77.0</td>\n",
       "      <td>10010</td>\n",
       "      <td>Pave</td>\n",
       "      <td>NaN</td>\n",
       "      <td>Reg</td>\n",
       "      <td>Lvl</td>\n",
       "      <td>...</td>\n",
       "      <td>0</td>\n",
       "      <td>NaN</td>\n",
       "      <td>NaN</td>\n",
       "      <td>NaN</td>\n",
       "      <td>0</td>\n",
       "      <td>4</td>\n",
       "      <td>2006</td>\n",
       "      <td>WD</td>\n",
       "      <td>Normal</td>\n",
       "      <td>170000</td>\n",
       "    </tr>\n",
       "    <tr>\n",
       "      <th>2929</th>\n",
       "      <td>2930</td>\n",
       "      <td>924151050</td>\n",
       "      <td>60</td>\n",
       "      <td>RL</td>\n",
       "      <td>74.0</td>\n",
       "      <td>9627</td>\n",
       "      <td>Pave</td>\n",
       "      <td>NaN</td>\n",
       "      <td>Reg</td>\n",
       "      <td>Lvl</td>\n",
       "      <td>...</td>\n",
       "      <td>0</td>\n",
       "      <td>NaN</td>\n",
       "      <td>NaN</td>\n",
       "      <td>NaN</td>\n",
       "      <td>0</td>\n",
       "      <td>11</td>\n",
       "      <td>2006</td>\n",
       "      <td>WD</td>\n",
       "      <td>Normal</td>\n",
       "      <td>188000</td>\n",
       "    </tr>\n",
       "  </tbody>\n",
       "</table>\n",
       "<p>2930 rows × 82 columns</p>\n",
       "</div>\n",
       "      <button class=\"colab-df-convert\" onclick=\"convertToInteractive('df-15cff77c-13fe-4ec3-a971-5bb1f2ef61de')\"\n",
       "              title=\"Convert this dataframe to an interactive table.\"\n",
       "              style=\"display:none;\">\n",
       "        \n",
       "  <svg xmlns=\"http://www.w3.org/2000/svg\" height=\"24px\"viewBox=\"0 0 24 24\"\n",
       "       width=\"24px\">\n",
       "    <path d=\"M0 0h24v24H0V0z\" fill=\"none\"/>\n",
       "    <path d=\"M18.56 5.44l.94 2.06.94-2.06 2.06-.94-2.06-.94-.94-2.06-.94 2.06-2.06.94zm-11 1L8.5 8.5l.94-2.06 2.06-.94-2.06-.94L8.5 2.5l-.94 2.06-2.06.94zm10 10l.94 2.06.94-2.06 2.06-.94-2.06-.94-.94-2.06-.94 2.06-2.06.94z\"/><path d=\"M17.41 7.96l-1.37-1.37c-.4-.4-.92-.59-1.43-.59-.52 0-1.04.2-1.43.59L10.3 9.45l-7.72 7.72c-.78.78-.78 2.05 0 2.83L4 21.41c.39.39.9.59 1.41.59.51 0 1.02-.2 1.41-.59l7.78-7.78 2.81-2.81c.8-.78.8-2.07 0-2.86zM5.41 20L4 18.59l7.72-7.72 1.47 1.35L5.41 20z\"/>\n",
       "  </svg>\n",
       "      </button>\n",
       "      \n",
       "  <style>\n",
       "    .colab-df-container {\n",
       "      display:flex;\n",
       "      flex-wrap:wrap;\n",
       "      gap: 12px;\n",
       "    }\n",
       "\n",
       "    .colab-df-convert {\n",
       "      background-color: #E8F0FE;\n",
       "      border: none;\n",
       "      border-radius: 50%;\n",
       "      cursor: pointer;\n",
       "      display: none;\n",
       "      fill: #1967D2;\n",
       "      height: 32px;\n",
       "      padding: 0 0 0 0;\n",
       "      width: 32px;\n",
       "    }\n",
       "\n",
       "    .colab-df-convert:hover {\n",
       "      background-color: #E2EBFA;\n",
       "      box-shadow: 0px 1px 2px rgba(60, 64, 67, 0.3), 0px 1px 3px 1px rgba(60, 64, 67, 0.15);\n",
       "      fill: #174EA6;\n",
       "    }\n",
       "\n",
       "    [theme=dark] .colab-df-convert {\n",
       "      background-color: #3B4455;\n",
       "      fill: #D2E3FC;\n",
       "    }\n",
       "\n",
       "    [theme=dark] .colab-df-convert:hover {\n",
       "      background-color: #434B5C;\n",
       "      box-shadow: 0px 1px 3px 1px rgba(0, 0, 0, 0.15);\n",
       "      filter: drop-shadow(0px 1px 2px rgba(0, 0, 0, 0.3));\n",
       "      fill: #FFFFFF;\n",
       "    }\n",
       "  </style>\n",
       "\n",
       "      <script>\n",
       "        const buttonEl =\n",
       "          document.querySelector('#df-15cff77c-13fe-4ec3-a971-5bb1f2ef61de button.colab-df-convert');\n",
       "        buttonEl.style.display =\n",
       "          google.colab.kernel.accessAllowed ? 'block' : 'none';\n",
       "\n",
       "        async function convertToInteractive(key) {\n",
       "          const element = document.querySelector('#df-15cff77c-13fe-4ec3-a971-5bb1f2ef61de');\n",
       "          const dataTable =\n",
       "            await google.colab.kernel.invokeFunction('convertToInteractive',\n",
       "                                                     [key], {});\n",
       "          if (!dataTable) return;\n",
       "\n",
       "          const docLinkHtml = 'Like what you see? Visit the ' +\n",
       "            '<a target=\"_blank\" href=https://colab.research.google.com/notebooks/data_table.ipynb>data table notebook</a>'\n",
       "            + ' to learn more about interactive tables.';\n",
       "          element.innerHTML = '';\n",
       "          dataTable['output_type'] = 'display_data';\n",
       "          await google.colab.output.renderOutput(dataTable, element);\n",
       "          const docLink = document.createElement('div');\n",
       "          docLink.innerHTML = docLinkHtml;\n",
       "          element.appendChild(docLink);\n",
       "        }\n",
       "      </script>\n",
       "    </div>\n",
       "  </div>\n",
       "  "
      ],
      "text/plain": [
       "      Order        PID  MS.SubClass MS.Zoning  Lot.Frontage  Lot.Area Street  \\\n",
       "0         1  526301100           20        RL         141.0     31770   Pave   \n",
       "1         2  526350040           20        RH          80.0     11622   Pave   \n",
       "2         3  526351010           20        RL          81.0     14267   Pave   \n",
       "3         4  526353030           20        RL          93.0     11160   Pave   \n",
       "4         5  527105010           60        RL          74.0     13830   Pave   \n",
       "...     ...        ...          ...       ...           ...       ...    ...   \n",
       "2925   2926  923275080           80        RL          37.0      7937   Pave   \n",
       "2926   2927  923276100           20        RL           NaN      8885   Pave   \n",
       "2927   2928  923400125           85        RL          62.0     10441   Pave   \n",
       "2928   2929  924100070           20        RL          77.0     10010   Pave   \n",
       "2929   2930  924151050           60        RL          74.0      9627   Pave   \n",
       "\n",
       "     Alley Lot.Shape Land.Contour  ... Pool.Area Pool.QC  Fence Misc.Feature  \\\n",
       "0      NaN       IR1          Lvl  ...         0     NaN    NaN          NaN   \n",
       "1      NaN       Reg          Lvl  ...         0     NaN  MnPrv          NaN   \n",
       "2      NaN       IR1          Lvl  ...         0     NaN    NaN         Gar2   \n",
       "3      NaN       Reg          Lvl  ...         0     NaN    NaN          NaN   \n",
       "4      NaN       IR1          Lvl  ...         0     NaN  MnPrv          NaN   \n",
       "...    ...       ...          ...  ...       ...     ...    ...          ...   \n",
       "2925   NaN       IR1          Lvl  ...         0     NaN  GdPrv          NaN   \n",
       "2926   NaN       IR1          Low  ...         0     NaN  MnPrv          NaN   \n",
       "2927   NaN       Reg          Lvl  ...         0     NaN  MnPrv         Shed   \n",
       "2928   NaN       Reg          Lvl  ...         0     NaN    NaN          NaN   \n",
       "2929   NaN       Reg          Lvl  ...         0     NaN    NaN          NaN   \n",
       "\n",
       "     Misc.Val Mo.Sold Yr.Sold Sale.Type  Sale.Condition  SalePrice  \n",
       "0           0       5    2010       WD           Normal     215000  \n",
       "1           0       6    2010       WD           Normal     105000  \n",
       "2       12500       6    2010       WD           Normal     172000  \n",
       "3           0       4    2010       WD           Normal     244000  \n",
       "4           0       3    2010       WD           Normal     189900  \n",
       "...       ...     ...     ...       ...             ...        ...  \n",
       "2925        0       3    2006       WD           Normal     142500  \n",
       "2926        0       6    2006       WD           Normal     131000  \n",
       "2927      700       7    2006       WD           Normal     132000  \n",
       "2928        0       4    2006       WD           Normal     170000  \n",
       "2929        0      11    2006       WD           Normal     188000  \n",
       "\n",
       "[2930 rows x 82 columns]"
      ]
     },
     "execution_count": 5,
     "metadata": {},
     "output_type": "execute_result"
    }
   ],
   "source": [
    "#our dataset\n",
    "Ames"
   ]
  },
  {
   "cell_type": "markdown",
   "metadata": {
    "id": "GXiIUFr-nZMn"
   },
   "source": [
    "### To make our analysis easier as we move further. We'll get rid of the of the null values and clean our dataset."
   ]
  },
  {
   "cell_type": "code",
   "execution_count": null,
   "metadata": {
    "colab": {
     "base_uri": "https://localhost:8080/"
    },
    "id": "qf1JqWQT5sDx",
    "outputId": "437fcf5a-cb32-4e5c-d940-35286ad0abe6"
   },
   "outputs": [
    {
     "data": {
      "text/plain": [
       "Order               0\n",
       "PID                 0\n",
       "MS.SubClass         0\n",
       "MS.Zoning           0\n",
       "Lot.Frontage      490\n",
       "                 ... \n",
       "Mo.Sold             0\n",
       "Yr.Sold             0\n",
       "Sale.Type           0\n",
       "Sale.Condition      0\n",
       "SalePrice           0\n",
       "Length: 82, dtype: int64"
      ]
     },
     "execution_count": 6,
     "metadata": {},
     "output_type": "execute_result"
    }
   ],
   "source": [
    "Ames.isna().sum()"
   ]
  },
  {
   "cell_type": "code",
   "execution_count": null,
   "metadata": {
    "colab": {
     "base_uri": "https://localhost:8080/"
    },
    "id": "yV_pys6p9B7D",
    "outputId": "881eec1f-721f-49e6-8c20-f6c14a31f01b"
   },
   "outputs": [
    {
     "name": "stdout",
     "output_type": "stream",
     "text": [
      "<class 'pandas.core.frame.DataFrame'>\n",
      "RangeIndex: 2930 entries, 0 to 2929\n",
      "Data columns (total 82 columns):\n",
      " #   Column           Non-Null Count  Dtype  \n",
      "---  ------           --------------  -----  \n",
      " 0   Order            2930 non-null   int64  \n",
      " 1   PID              2930 non-null   int64  \n",
      " 2   MS.SubClass      2930 non-null   int64  \n",
      " 3   MS.Zoning        2930 non-null   object \n",
      " 4   Lot.Frontage     2440 non-null   float64\n",
      " 5   Lot.Area         2930 non-null   int64  \n",
      " 6   Street           2930 non-null   object \n",
      " 7   Alley            198 non-null    object \n",
      " 8   Lot.Shape        2930 non-null   object \n",
      " 9   Land.Contour     2930 non-null   object \n",
      " 10  Utilities        2930 non-null   object \n",
      " 11  Lot.Config       2930 non-null   object \n",
      " 12  Land.Slope       2930 non-null   object \n",
      " 13  Neighborhood     2930 non-null   object \n",
      " 14  Condition.1      2930 non-null   object \n",
      " 15  Condition.2      2930 non-null   object \n",
      " 16  Bldg.Type        2930 non-null   object \n",
      " 17  House.Style      2930 non-null   object \n",
      " 18  Overall.Qual     2930 non-null   int64  \n",
      " 19  Overall.Cond     2930 non-null   int64  \n",
      " 20  Year.Built       2930 non-null   int64  \n",
      " 21  Year.Remod.Add   2930 non-null   int64  \n",
      " 22  Roof.Style       2930 non-null   object \n",
      " 23  Roof.Matl        2930 non-null   object \n",
      " 24  Exterior.1st     2930 non-null   object \n",
      " 25  Exterior.2nd     2930 non-null   object \n",
      " 26  Mas.Vnr.Type     2907 non-null   object \n",
      " 27  Mas.Vnr.Area     2907 non-null   float64\n",
      " 28  Exter.Qual       2930 non-null   object \n",
      " 29  Exter.Cond       2930 non-null   object \n",
      " 30  Foundation       2930 non-null   object \n",
      " 31  Bsmt.Qual        2850 non-null   object \n",
      " 32  Bsmt.Cond        2850 non-null   object \n",
      " 33  Bsmt.Exposure    2847 non-null   object \n",
      " 34  BsmtFin.Type.1   2850 non-null   object \n",
      " 35  BsmtFin.SF.1     2929 non-null   float64\n",
      " 36  BsmtFin.Type.2   2849 non-null   object \n",
      " 37  BsmtFin.SF.2     2929 non-null   float64\n",
      " 38  Bsmt.Unf.SF      2929 non-null   float64\n",
      " 39  Total.Bsmt.SF    2929 non-null   float64\n",
      " 40  Heating          2930 non-null   object \n",
      " 41  Heating.QC       2930 non-null   object \n",
      " 42  Central.Air      2930 non-null   object \n",
      " 43  Electrical       2929 non-null   object \n",
      " 44  X1st.Flr.SF      2930 non-null   int64  \n",
      " 45  X2nd.Flr.SF      2930 non-null   int64  \n",
      " 46  Low.Qual.Fin.SF  2930 non-null   int64  \n",
      " 47  Gr.Liv.Area      2930 non-null   int64  \n",
      " 48  Bsmt.Full.Bath   2928 non-null   float64\n",
      " 49  Bsmt.Half.Bath   2928 non-null   float64\n",
      " 50  Full.Bath        2930 non-null   int64  \n",
      " 51  Half.Bath        2930 non-null   int64  \n",
      " 52  Bedroom.AbvGr    2930 non-null   int64  \n",
      " 53  Kitchen.AbvGr    2930 non-null   int64  \n",
      " 54  Kitchen.Qual     2930 non-null   object \n",
      " 55  TotRms.AbvGrd    2930 non-null   int64  \n",
      " 56  Functional       2930 non-null   object \n",
      " 57  Fireplaces       2930 non-null   int64  \n",
      " 58  Fireplace.Qu     1508 non-null   object \n",
      " 59  Garage.Type      2773 non-null   object \n",
      " 60  Garage.Yr.Blt    2771 non-null   float64\n",
      " 61  Garage.Finish    2771 non-null   object \n",
      " 62  Garage.Cars      2929 non-null   float64\n",
      " 63  Garage.Area      2929 non-null   float64\n",
      " 64  Garage.Qual      2771 non-null   object \n",
      " 65  Garage.Cond      2771 non-null   object \n",
      " 66  Paved.Drive      2930 non-null   object \n",
      " 67  Wood.Deck.SF     2930 non-null   int64  \n",
      " 68  Open.Porch.SF    2930 non-null   int64  \n",
      " 69  Enclosed.Porch   2930 non-null   int64  \n",
      " 70  X3Ssn.Porch      2930 non-null   int64  \n",
      " 71  Screen.Porch     2930 non-null   int64  \n",
      " 72  Pool.Area        2930 non-null   int64  \n",
      " 73  Pool.QC          13 non-null     object \n",
      " 74  Fence            572 non-null    object \n",
      " 75  Misc.Feature     106 non-null    object \n",
      " 76  Misc.Val         2930 non-null   int64  \n",
      " 77  Mo.Sold          2930 non-null   int64  \n",
      " 78  Yr.Sold          2930 non-null   int64  \n",
      " 79  Sale.Type        2930 non-null   object \n",
      " 80  Sale.Condition   2930 non-null   object \n",
      " 81  SalePrice        2930 non-null   int64  \n",
      "dtypes: float64(11), int64(28), object(43)\n",
      "memory usage: 1.8+ MB\n"
     ]
    }
   ],
   "source": [
    "Ames.info()"
   ]
  },
  {
   "cell_type": "markdown",
   "metadata": {
    "id": "Vgsysj6koQFy"
   },
   "source": [
    "#### After observing the information above, we would like to drop all the columns that have less than 1000 non-null values. "
   ]
  },
  {
   "cell_type": "code",
   "execution_count": null,
   "metadata": {
    "colab": {
     "base_uri": "https://localhost:8080/",
     "height": 488
    },
    "id": "mgh8HakJlfOD",
    "outputId": "26208461-9e3d-4f87-e8af-159d61f616cd"
   },
   "outputs": [
    {
     "data": {
      "text/html": [
       "\n",
       "  <div id=\"df-c6f3bb8b-d24d-4474-b405-65beca218ed3\">\n",
       "    <div class=\"colab-df-container\">\n",
       "      <div>\n",
       "<style scoped>\n",
       "    .dataframe tbody tr th:only-of-type {\n",
       "        vertical-align: middle;\n",
       "    }\n",
       "\n",
       "    .dataframe tbody tr th {\n",
       "        vertical-align: top;\n",
       "    }\n",
       "\n",
       "    .dataframe thead th {\n",
       "        text-align: right;\n",
       "    }\n",
       "</style>\n",
       "<table border=\"1\" class=\"dataframe\">\n",
       "  <thead>\n",
       "    <tr style=\"text-align: right;\">\n",
       "      <th></th>\n",
       "      <th>Order</th>\n",
       "      <th>PID</th>\n",
       "      <th>MS.SubClass</th>\n",
       "      <th>MS.Zoning</th>\n",
       "      <th>Lot.Frontage</th>\n",
       "      <th>Lot.Area</th>\n",
       "      <th>Street</th>\n",
       "      <th>Lot.Shape</th>\n",
       "      <th>Land.Contour</th>\n",
       "      <th>Utilities</th>\n",
       "      <th>...</th>\n",
       "      <th>Enclosed.Porch</th>\n",
       "      <th>X3Ssn.Porch</th>\n",
       "      <th>Screen.Porch</th>\n",
       "      <th>Pool.Area</th>\n",
       "      <th>Misc.Val</th>\n",
       "      <th>Mo.Sold</th>\n",
       "      <th>Yr.Sold</th>\n",
       "      <th>Sale.Type</th>\n",
       "      <th>Sale.Condition</th>\n",
       "      <th>SalePrice</th>\n",
       "    </tr>\n",
       "  </thead>\n",
       "  <tbody>\n",
       "    <tr>\n",
       "      <th>0</th>\n",
       "      <td>1</td>\n",
       "      <td>526301100</td>\n",
       "      <td>20</td>\n",
       "      <td>RL</td>\n",
       "      <td>141.0</td>\n",
       "      <td>31770</td>\n",
       "      <td>Pave</td>\n",
       "      <td>IR1</td>\n",
       "      <td>Lvl</td>\n",
       "      <td>AllPub</td>\n",
       "      <td>...</td>\n",
       "      <td>0</td>\n",
       "      <td>0</td>\n",
       "      <td>0</td>\n",
       "      <td>0</td>\n",
       "      <td>0</td>\n",
       "      <td>5</td>\n",
       "      <td>2010</td>\n",
       "      <td>WD</td>\n",
       "      <td>Normal</td>\n",
       "      <td>215000</td>\n",
       "    </tr>\n",
       "    <tr>\n",
       "      <th>1</th>\n",
       "      <td>2</td>\n",
       "      <td>526350040</td>\n",
       "      <td>20</td>\n",
       "      <td>RH</td>\n",
       "      <td>80.0</td>\n",
       "      <td>11622</td>\n",
       "      <td>Pave</td>\n",
       "      <td>Reg</td>\n",
       "      <td>Lvl</td>\n",
       "      <td>AllPub</td>\n",
       "      <td>...</td>\n",
       "      <td>0</td>\n",
       "      <td>0</td>\n",
       "      <td>120</td>\n",
       "      <td>0</td>\n",
       "      <td>0</td>\n",
       "      <td>6</td>\n",
       "      <td>2010</td>\n",
       "      <td>WD</td>\n",
       "      <td>Normal</td>\n",
       "      <td>105000</td>\n",
       "    </tr>\n",
       "    <tr>\n",
       "      <th>2</th>\n",
       "      <td>3</td>\n",
       "      <td>526351010</td>\n",
       "      <td>20</td>\n",
       "      <td>RL</td>\n",
       "      <td>81.0</td>\n",
       "      <td>14267</td>\n",
       "      <td>Pave</td>\n",
       "      <td>IR1</td>\n",
       "      <td>Lvl</td>\n",
       "      <td>AllPub</td>\n",
       "      <td>...</td>\n",
       "      <td>0</td>\n",
       "      <td>0</td>\n",
       "      <td>0</td>\n",
       "      <td>0</td>\n",
       "      <td>12500</td>\n",
       "      <td>6</td>\n",
       "      <td>2010</td>\n",
       "      <td>WD</td>\n",
       "      <td>Normal</td>\n",
       "      <td>172000</td>\n",
       "    </tr>\n",
       "    <tr>\n",
       "      <th>3</th>\n",
       "      <td>4</td>\n",
       "      <td>526353030</td>\n",
       "      <td>20</td>\n",
       "      <td>RL</td>\n",
       "      <td>93.0</td>\n",
       "      <td>11160</td>\n",
       "      <td>Pave</td>\n",
       "      <td>Reg</td>\n",
       "      <td>Lvl</td>\n",
       "      <td>AllPub</td>\n",
       "      <td>...</td>\n",
       "      <td>0</td>\n",
       "      <td>0</td>\n",
       "      <td>0</td>\n",
       "      <td>0</td>\n",
       "      <td>0</td>\n",
       "      <td>4</td>\n",
       "      <td>2010</td>\n",
       "      <td>WD</td>\n",
       "      <td>Normal</td>\n",
       "      <td>244000</td>\n",
       "    </tr>\n",
       "    <tr>\n",
       "      <th>4</th>\n",
       "      <td>5</td>\n",
       "      <td>527105010</td>\n",
       "      <td>60</td>\n",
       "      <td>RL</td>\n",
       "      <td>74.0</td>\n",
       "      <td>13830</td>\n",
       "      <td>Pave</td>\n",
       "      <td>IR1</td>\n",
       "      <td>Lvl</td>\n",
       "      <td>AllPub</td>\n",
       "      <td>...</td>\n",
       "      <td>0</td>\n",
       "      <td>0</td>\n",
       "      <td>0</td>\n",
       "      <td>0</td>\n",
       "      <td>0</td>\n",
       "      <td>3</td>\n",
       "      <td>2010</td>\n",
       "      <td>WD</td>\n",
       "      <td>Normal</td>\n",
       "      <td>189900</td>\n",
       "    </tr>\n",
       "    <tr>\n",
       "      <th>...</th>\n",
       "      <td>...</td>\n",
       "      <td>...</td>\n",
       "      <td>...</td>\n",
       "      <td>...</td>\n",
       "      <td>...</td>\n",
       "      <td>...</td>\n",
       "      <td>...</td>\n",
       "      <td>...</td>\n",
       "      <td>...</td>\n",
       "      <td>...</td>\n",
       "      <td>...</td>\n",
       "      <td>...</td>\n",
       "      <td>...</td>\n",
       "      <td>...</td>\n",
       "      <td>...</td>\n",
       "      <td>...</td>\n",
       "      <td>...</td>\n",
       "      <td>...</td>\n",
       "      <td>...</td>\n",
       "      <td>...</td>\n",
       "      <td>...</td>\n",
       "    </tr>\n",
       "    <tr>\n",
       "      <th>2925</th>\n",
       "      <td>2926</td>\n",
       "      <td>923275080</td>\n",
       "      <td>80</td>\n",
       "      <td>RL</td>\n",
       "      <td>37.0</td>\n",
       "      <td>7937</td>\n",
       "      <td>Pave</td>\n",
       "      <td>IR1</td>\n",
       "      <td>Lvl</td>\n",
       "      <td>AllPub</td>\n",
       "      <td>...</td>\n",
       "      <td>0</td>\n",
       "      <td>0</td>\n",
       "      <td>0</td>\n",
       "      <td>0</td>\n",
       "      <td>0</td>\n",
       "      <td>3</td>\n",
       "      <td>2006</td>\n",
       "      <td>WD</td>\n",
       "      <td>Normal</td>\n",
       "      <td>142500</td>\n",
       "    </tr>\n",
       "    <tr>\n",
       "      <th>2926</th>\n",
       "      <td>2927</td>\n",
       "      <td>923276100</td>\n",
       "      <td>20</td>\n",
       "      <td>RL</td>\n",
       "      <td>NaN</td>\n",
       "      <td>8885</td>\n",
       "      <td>Pave</td>\n",
       "      <td>IR1</td>\n",
       "      <td>Low</td>\n",
       "      <td>AllPub</td>\n",
       "      <td>...</td>\n",
       "      <td>0</td>\n",
       "      <td>0</td>\n",
       "      <td>0</td>\n",
       "      <td>0</td>\n",
       "      <td>0</td>\n",
       "      <td>6</td>\n",
       "      <td>2006</td>\n",
       "      <td>WD</td>\n",
       "      <td>Normal</td>\n",
       "      <td>131000</td>\n",
       "    </tr>\n",
       "    <tr>\n",
       "      <th>2927</th>\n",
       "      <td>2928</td>\n",
       "      <td>923400125</td>\n",
       "      <td>85</td>\n",
       "      <td>RL</td>\n",
       "      <td>62.0</td>\n",
       "      <td>10441</td>\n",
       "      <td>Pave</td>\n",
       "      <td>Reg</td>\n",
       "      <td>Lvl</td>\n",
       "      <td>AllPub</td>\n",
       "      <td>...</td>\n",
       "      <td>0</td>\n",
       "      <td>0</td>\n",
       "      <td>0</td>\n",
       "      <td>0</td>\n",
       "      <td>700</td>\n",
       "      <td>7</td>\n",
       "      <td>2006</td>\n",
       "      <td>WD</td>\n",
       "      <td>Normal</td>\n",
       "      <td>132000</td>\n",
       "    </tr>\n",
       "    <tr>\n",
       "      <th>2928</th>\n",
       "      <td>2929</td>\n",
       "      <td>924100070</td>\n",
       "      <td>20</td>\n",
       "      <td>RL</td>\n",
       "      <td>77.0</td>\n",
       "      <td>10010</td>\n",
       "      <td>Pave</td>\n",
       "      <td>Reg</td>\n",
       "      <td>Lvl</td>\n",
       "      <td>AllPub</td>\n",
       "      <td>...</td>\n",
       "      <td>0</td>\n",
       "      <td>0</td>\n",
       "      <td>0</td>\n",
       "      <td>0</td>\n",
       "      <td>0</td>\n",
       "      <td>4</td>\n",
       "      <td>2006</td>\n",
       "      <td>WD</td>\n",
       "      <td>Normal</td>\n",
       "      <td>170000</td>\n",
       "    </tr>\n",
       "    <tr>\n",
       "      <th>2929</th>\n",
       "      <td>2930</td>\n",
       "      <td>924151050</td>\n",
       "      <td>60</td>\n",
       "      <td>RL</td>\n",
       "      <td>74.0</td>\n",
       "      <td>9627</td>\n",
       "      <td>Pave</td>\n",
       "      <td>Reg</td>\n",
       "      <td>Lvl</td>\n",
       "      <td>AllPub</td>\n",
       "      <td>...</td>\n",
       "      <td>0</td>\n",
       "      <td>0</td>\n",
       "      <td>0</td>\n",
       "      <td>0</td>\n",
       "      <td>0</td>\n",
       "      <td>11</td>\n",
       "      <td>2006</td>\n",
       "      <td>WD</td>\n",
       "      <td>Normal</td>\n",
       "      <td>188000</td>\n",
       "    </tr>\n",
       "  </tbody>\n",
       "</table>\n",
       "<p>2930 rows × 78 columns</p>\n",
       "</div>\n",
       "      <button class=\"colab-df-convert\" onclick=\"convertToInteractive('df-c6f3bb8b-d24d-4474-b405-65beca218ed3')\"\n",
       "              title=\"Convert this dataframe to an interactive table.\"\n",
       "              style=\"display:none;\">\n",
       "        \n",
       "  <svg xmlns=\"http://www.w3.org/2000/svg\" height=\"24px\"viewBox=\"0 0 24 24\"\n",
       "       width=\"24px\">\n",
       "    <path d=\"M0 0h24v24H0V0z\" fill=\"none\"/>\n",
       "    <path d=\"M18.56 5.44l.94 2.06.94-2.06 2.06-.94-2.06-.94-.94-2.06-.94 2.06-2.06.94zm-11 1L8.5 8.5l.94-2.06 2.06-.94-2.06-.94L8.5 2.5l-.94 2.06-2.06.94zm10 10l.94 2.06.94-2.06 2.06-.94-2.06-.94-.94-2.06-.94 2.06-2.06.94z\"/><path d=\"M17.41 7.96l-1.37-1.37c-.4-.4-.92-.59-1.43-.59-.52 0-1.04.2-1.43.59L10.3 9.45l-7.72 7.72c-.78.78-.78 2.05 0 2.83L4 21.41c.39.39.9.59 1.41.59.51 0 1.02-.2 1.41-.59l7.78-7.78 2.81-2.81c.8-.78.8-2.07 0-2.86zM5.41 20L4 18.59l7.72-7.72 1.47 1.35L5.41 20z\"/>\n",
       "  </svg>\n",
       "      </button>\n",
       "      \n",
       "  <style>\n",
       "    .colab-df-container {\n",
       "      display:flex;\n",
       "      flex-wrap:wrap;\n",
       "      gap: 12px;\n",
       "    }\n",
       "\n",
       "    .colab-df-convert {\n",
       "      background-color: #E8F0FE;\n",
       "      border: none;\n",
       "      border-radius: 50%;\n",
       "      cursor: pointer;\n",
       "      display: none;\n",
       "      fill: #1967D2;\n",
       "      height: 32px;\n",
       "      padding: 0 0 0 0;\n",
       "      width: 32px;\n",
       "    }\n",
       "\n",
       "    .colab-df-convert:hover {\n",
       "      background-color: #E2EBFA;\n",
       "      box-shadow: 0px 1px 2px rgba(60, 64, 67, 0.3), 0px 1px 3px 1px rgba(60, 64, 67, 0.15);\n",
       "      fill: #174EA6;\n",
       "    }\n",
       "\n",
       "    [theme=dark] .colab-df-convert {\n",
       "      background-color: #3B4455;\n",
       "      fill: #D2E3FC;\n",
       "    }\n",
       "\n",
       "    [theme=dark] .colab-df-convert:hover {\n",
       "      background-color: #434B5C;\n",
       "      box-shadow: 0px 1px 3px 1px rgba(0, 0, 0, 0.15);\n",
       "      filter: drop-shadow(0px 1px 2px rgba(0, 0, 0, 0.3));\n",
       "      fill: #FFFFFF;\n",
       "    }\n",
       "  </style>\n",
       "\n",
       "      <script>\n",
       "        const buttonEl =\n",
       "          document.querySelector('#df-c6f3bb8b-d24d-4474-b405-65beca218ed3 button.colab-df-convert');\n",
       "        buttonEl.style.display =\n",
       "          google.colab.kernel.accessAllowed ? 'block' : 'none';\n",
       "\n",
       "        async function convertToInteractive(key) {\n",
       "          const element = document.querySelector('#df-c6f3bb8b-d24d-4474-b405-65beca218ed3');\n",
       "          const dataTable =\n",
       "            await google.colab.kernel.invokeFunction('convertToInteractive',\n",
       "                                                     [key], {});\n",
       "          if (!dataTable) return;\n",
       "\n",
       "          const docLinkHtml = 'Like what you see? Visit the ' +\n",
       "            '<a target=\"_blank\" href=https://colab.research.google.com/notebooks/data_table.ipynb>data table notebook</a>'\n",
       "            + ' to learn more about interactive tables.';\n",
       "          element.innerHTML = '';\n",
       "          dataTable['output_type'] = 'display_data';\n",
       "          await google.colab.output.renderOutput(dataTable, element);\n",
       "          const docLink = document.createElement('div');\n",
       "          docLink.innerHTML = docLinkHtml;\n",
       "          element.appendChild(docLink);\n",
       "        }\n",
       "      </script>\n",
       "    </div>\n",
       "  </div>\n",
       "  "
      ],
      "text/plain": [
       "      Order        PID  MS.SubClass MS.Zoning  Lot.Frontage  Lot.Area Street  \\\n",
       "0         1  526301100           20        RL         141.0     31770   Pave   \n",
       "1         2  526350040           20        RH          80.0     11622   Pave   \n",
       "2         3  526351010           20        RL          81.0     14267   Pave   \n",
       "3         4  526353030           20        RL          93.0     11160   Pave   \n",
       "4         5  527105010           60        RL          74.0     13830   Pave   \n",
       "...     ...        ...          ...       ...           ...       ...    ...   \n",
       "2925   2926  923275080           80        RL          37.0      7937   Pave   \n",
       "2926   2927  923276100           20        RL           NaN      8885   Pave   \n",
       "2927   2928  923400125           85        RL          62.0     10441   Pave   \n",
       "2928   2929  924100070           20        RL          77.0     10010   Pave   \n",
       "2929   2930  924151050           60        RL          74.0      9627   Pave   \n",
       "\n",
       "     Lot.Shape Land.Contour Utilities  ... Enclosed.Porch X3Ssn.Porch  \\\n",
       "0          IR1          Lvl    AllPub  ...              0           0   \n",
       "1          Reg          Lvl    AllPub  ...              0           0   \n",
       "2          IR1          Lvl    AllPub  ...              0           0   \n",
       "3          Reg          Lvl    AllPub  ...              0           0   \n",
       "4          IR1          Lvl    AllPub  ...              0           0   \n",
       "...        ...          ...       ...  ...            ...         ...   \n",
       "2925       IR1          Lvl    AllPub  ...              0           0   \n",
       "2926       IR1          Low    AllPub  ...              0           0   \n",
       "2927       Reg          Lvl    AllPub  ...              0           0   \n",
       "2928       Reg          Lvl    AllPub  ...              0           0   \n",
       "2929       Reg          Lvl    AllPub  ...              0           0   \n",
       "\n",
       "     Screen.Porch Pool.Area Misc.Val Mo.Sold Yr.Sold  Sale.Type  \\\n",
       "0               0         0        0       5    2010        WD    \n",
       "1             120         0        0       6    2010        WD    \n",
       "2               0         0    12500       6    2010        WD    \n",
       "3               0         0        0       4    2010        WD    \n",
       "4               0         0        0       3    2010        WD    \n",
       "...           ...       ...      ...     ...     ...        ...   \n",
       "2925            0         0        0       3    2006        WD    \n",
       "2926            0         0        0       6    2006        WD    \n",
       "2927            0         0      700       7    2006        WD    \n",
       "2928            0         0        0       4    2006        WD    \n",
       "2929            0         0        0      11    2006        WD    \n",
       "\n",
       "      Sale.Condition  SalePrice  \n",
       "0             Normal     215000  \n",
       "1             Normal     105000  \n",
       "2             Normal     172000  \n",
       "3             Normal     244000  \n",
       "4             Normal     189900  \n",
       "...              ...        ...  \n",
       "2925          Normal     142500  \n",
       "2926          Normal     131000  \n",
       "2927          Normal     132000  \n",
       "2928          Normal     170000  \n",
       "2929          Normal     188000  \n",
       "\n",
       "[2930 rows x 78 columns]"
      ]
     },
     "execution_count": 8,
     "metadata": {},
     "output_type": "execute_result"
    }
   ],
   "source": [
    "Ames_new = Ames.drop(columns = ['Pool.QC', 'Alley', 'Fence', 'Misc.Feature'])\n",
    "Ames_new"
   ]
  },
  {
   "cell_type": "code",
   "execution_count": null,
   "metadata": {
    "colab": {
     "base_uri": "https://localhost:8080/"
    },
    "id": "w47aJiUClx21",
    "outputId": "2ec6973f-b080-48b6-9d0a-16b7cc74fa52"
   },
   "outputs": [
    {
     "name": "stdout",
     "output_type": "stream",
     "text": [
      "<class 'pandas.core.frame.DataFrame'>\n",
      "RangeIndex: 2930 entries, 0 to 2929\n",
      "Data columns (total 78 columns):\n",
      " #   Column           Non-Null Count  Dtype  \n",
      "---  ------           --------------  -----  \n",
      " 0   Order            2930 non-null   int64  \n",
      " 1   PID              2930 non-null   int64  \n",
      " 2   MS.SubClass      2930 non-null   int64  \n",
      " 3   MS.Zoning        2930 non-null   object \n",
      " 4   Lot.Frontage     2440 non-null   float64\n",
      " 5   Lot.Area         2930 non-null   int64  \n",
      " 6   Street           2930 non-null   object \n",
      " 7   Lot.Shape        2930 non-null   object \n",
      " 8   Land.Contour     2930 non-null   object \n",
      " 9   Utilities        2930 non-null   object \n",
      " 10  Lot.Config       2930 non-null   object \n",
      " 11  Land.Slope       2930 non-null   object \n",
      " 12  Neighborhood     2930 non-null   object \n",
      " 13  Condition.1      2930 non-null   object \n",
      " 14  Condition.2      2930 non-null   object \n",
      " 15  Bldg.Type        2930 non-null   object \n",
      " 16  House.Style      2930 non-null   object \n",
      " 17  Overall.Qual     2930 non-null   int64  \n",
      " 18  Overall.Cond     2930 non-null   int64  \n",
      " 19  Year.Built       2930 non-null   int64  \n",
      " 20  Year.Remod.Add   2930 non-null   int64  \n",
      " 21  Roof.Style       2930 non-null   object \n",
      " 22  Roof.Matl        2930 non-null   object \n",
      " 23  Exterior.1st     2930 non-null   object \n",
      " 24  Exterior.2nd     2930 non-null   object \n",
      " 25  Mas.Vnr.Type     2907 non-null   object \n",
      " 26  Mas.Vnr.Area     2907 non-null   float64\n",
      " 27  Exter.Qual       2930 non-null   object \n",
      " 28  Exter.Cond       2930 non-null   object \n",
      " 29  Foundation       2930 non-null   object \n",
      " 30  Bsmt.Qual        2850 non-null   object \n",
      " 31  Bsmt.Cond        2850 non-null   object \n",
      " 32  Bsmt.Exposure    2847 non-null   object \n",
      " 33  BsmtFin.Type.1   2850 non-null   object \n",
      " 34  BsmtFin.SF.1     2929 non-null   float64\n",
      " 35  BsmtFin.Type.2   2849 non-null   object \n",
      " 36  BsmtFin.SF.2     2929 non-null   float64\n",
      " 37  Bsmt.Unf.SF      2929 non-null   float64\n",
      " 38  Total.Bsmt.SF    2929 non-null   float64\n",
      " 39  Heating          2930 non-null   object \n",
      " 40  Heating.QC       2930 non-null   object \n",
      " 41  Central.Air      2930 non-null   object \n",
      " 42  Electrical       2929 non-null   object \n",
      " 43  X1st.Flr.SF      2930 non-null   int64  \n",
      " 44  X2nd.Flr.SF      2930 non-null   int64  \n",
      " 45  Low.Qual.Fin.SF  2930 non-null   int64  \n",
      " 46  Gr.Liv.Area      2930 non-null   int64  \n",
      " 47  Bsmt.Full.Bath   2928 non-null   float64\n",
      " 48  Bsmt.Half.Bath   2928 non-null   float64\n",
      " 49  Full.Bath        2930 non-null   int64  \n",
      " 50  Half.Bath        2930 non-null   int64  \n",
      " 51  Bedroom.AbvGr    2930 non-null   int64  \n",
      " 52  Kitchen.AbvGr    2930 non-null   int64  \n",
      " 53  Kitchen.Qual     2930 non-null   object \n",
      " 54  TotRms.AbvGrd    2930 non-null   int64  \n",
      " 55  Functional       2930 non-null   object \n",
      " 56  Fireplaces       2930 non-null   int64  \n",
      " 57  Fireplace.Qu     1508 non-null   object \n",
      " 58  Garage.Type      2773 non-null   object \n",
      " 59  Garage.Yr.Blt    2771 non-null   float64\n",
      " 60  Garage.Finish    2771 non-null   object \n",
      " 61  Garage.Cars      2929 non-null   float64\n",
      " 62  Garage.Area      2929 non-null   float64\n",
      " 63  Garage.Qual      2771 non-null   object \n",
      " 64  Garage.Cond      2771 non-null   object \n",
      " 65  Paved.Drive      2930 non-null   object \n",
      " 66  Wood.Deck.SF     2930 non-null   int64  \n",
      " 67  Open.Porch.SF    2930 non-null   int64  \n",
      " 68  Enclosed.Porch   2930 non-null   int64  \n",
      " 69  X3Ssn.Porch      2930 non-null   int64  \n",
      " 70  Screen.Porch     2930 non-null   int64  \n",
      " 71  Pool.Area        2930 non-null   int64  \n",
      " 72  Misc.Val         2930 non-null   int64  \n",
      " 73  Mo.Sold          2930 non-null   int64  \n",
      " 74  Yr.Sold          2930 non-null   int64  \n",
      " 75  Sale.Type        2930 non-null   object \n",
      " 76  Sale.Condition   2930 non-null   object \n",
      " 77  SalePrice        2930 non-null   int64  \n",
      "dtypes: float64(11), int64(28), object(39)\n",
      "memory usage: 1.7+ MB\n"
     ]
    }
   ],
   "source": [
    "Ames_new.info()"
   ]
  },
  {
   "cell_type": "code",
   "execution_count": null,
   "metadata": {
    "colab": {
     "base_uri": "https://localhost:8080/",
     "height": 488
    },
    "id": "R5KBEYxrmLnY",
    "outputId": "78e881e0-8c77-46c3-acf9-03cbaa3c99b7"
   },
   "outputs": [
    {
     "data": {
      "text/html": [
       "\n",
       "  <div id=\"df-46e1b7c5-ddeb-4b18-a8b6-94f6818040da\">\n",
       "    <div class=\"colab-df-container\">\n",
       "      <div>\n",
       "<style scoped>\n",
       "    .dataframe tbody tr th:only-of-type {\n",
       "        vertical-align: middle;\n",
       "    }\n",
       "\n",
       "    .dataframe tbody tr th {\n",
       "        vertical-align: top;\n",
       "    }\n",
       "\n",
       "    .dataframe thead th {\n",
       "        text-align: right;\n",
       "    }\n",
       "</style>\n",
       "<table border=\"1\" class=\"dataframe\">\n",
       "  <thead>\n",
       "    <tr style=\"text-align: right;\">\n",
       "      <th></th>\n",
       "      <th>Order</th>\n",
       "      <th>PID</th>\n",
       "      <th>MS.SubClass</th>\n",
       "      <th>MS.Zoning</th>\n",
       "      <th>Lot.Frontage</th>\n",
       "      <th>Lot.Area</th>\n",
       "      <th>Street</th>\n",
       "      <th>Lot.Shape</th>\n",
       "      <th>Land.Contour</th>\n",
       "      <th>Utilities</th>\n",
       "      <th>...</th>\n",
       "      <th>Enclosed.Porch</th>\n",
       "      <th>X3Ssn.Porch</th>\n",
       "      <th>Screen.Porch</th>\n",
       "      <th>Pool.Area</th>\n",
       "      <th>Misc.Val</th>\n",
       "      <th>Mo.Sold</th>\n",
       "      <th>Yr.Sold</th>\n",
       "      <th>Sale.Type</th>\n",
       "      <th>Sale.Condition</th>\n",
       "      <th>SalePrice</th>\n",
       "    </tr>\n",
       "  </thead>\n",
       "  <tbody>\n",
       "    <tr>\n",
       "      <th>0</th>\n",
       "      <td>1</td>\n",
       "      <td>526301100</td>\n",
       "      <td>20</td>\n",
       "      <td>RL</td>\n",
       "      <td>141.0</td>\n",
       "      <td>31770</td>\n",
       "      <td>Pave</td>\n",
       "      <td>IR1</td>\n",
       "      <td>Lvl</td>\n",
       "      <td>AllPub</td>\n",
       "      <td>...</td>\n",
       "      <td>0</td>\n",
       "      <td>0</td>\n",
       "      <td>0</td>\n",
       "      <td>0</td>\n",
       "      <td>0</td>\n",
       "      <td>5</td>\n",
       "      <td>2010</td>\n",
       "      <td>WD</td>\n",
       "      <td>Normal</td>\n",
       "      <td>215000</td>\n",
       "    </tr>\n",
       "    <tr>\n",
       "      <th>3</th>\n",
       "      <td>4</td>\n",
       "      <td>526353030</td>\n",
       "      <td>20</td>\n",
       "      <td>RL</td>\n",
       "      <td>93.0</td>\n",
       "      <td>11160</td>\n",
       "      <td>Pave</td>\n",
       "      <td>Reg</td>\n",
       "      <td>Lvl</td>\n",
       "      <td>AllPub</td>\n",
       "      <td>...</td>\n",
       "      <td>0</td>\n",
       "      <td>0</td>\n",
       "      <td>0</td>\n",
       "      <td>0</td>\n",
       "      <td>0</td>\n",
       "      <td>4</td>\n",
       "      <td>2010</td>\n",
       "      <td>WD</td>\n",
       "      <td>Normal</td>\n",
       "      <td>244000</td>\n",
       "    </tr>\n",
       "    <tr>\n",
       "      <th>4</th>\n",
       "      <td>5</td>\n",
       "      <td>527105010</td>\n",
       "      <td>60</td>\n",
       "      <td>RL</td>\n",
       "      <td>74.0</td>\n",
       "      <td>13830</td>\n",
       "      <td>Pave</td>\n",
       "      <td>IR1</td>\n",
       "      <td>Lvl</td>\n",
       "      <td>AllPub</td>\n",
       "      <td>...</td>\n",
       "      <td>0</td>\n",
       "      <td>0</td>\n",
       "      <td>0</td>\n",
       "      <td>0</td>\n",
       "      <td>0</td>\n",
       "      <td>3</td>\n",
       "      <td>2010</td>\n",
       "      <td>WD</td>\n",
       "      <td>Normal</td>\n",
       "      <td>189900</td>\n",
       "    </tr>\n",
       "    <tr>\n",
       "      <th>5</th>\n",
       "      <td>6</td>\n",
       "      <td>527105030</td>\n",
       "      <td>60</td>\n",
       "      <td>RL</td>\n",
       "      <td>78.0</td>\n",
       "      <td>9978</td>\n",
       "      <td>Pave</td>\n",
       "      <td>IR1</td>\n",
       "      <td>Lvl</td>\n",
       "      <td>AllPub</td>\n",
       "      <td>...</td>\n",
       "      <td>0</td>\n",
       "      <td>0</td>\n",
       "      <td>0</td>\n",
       "      <td>0</td>\n",
       "      <td>0</td>\n",
       "      <td>6</td>\n",
       "      <td>2010</td>\n",
       "      <td>WD</td>\n",
       "      <td>Normal</td>\n",
       "      <td>195500</td>\n",
       "    </tr>\n",
       "    <tr>\n",
       "      <th>8</th>\n",
       "      <td>9</td>\n",
       "      <td>527146030</td>\n",
       "      <td>120</td>\n",
       "      <td>RL</td>\n",
       "      <td>39.0</td>\n",
       "      <td>5389</td>\n",
       "      <td>Pave</td>\n",
       "      <td>IR1</td>\n",
       "      <td>Lvl</td>\n",
       "      <td>AllPub</td>\n",
       "      <td>...</td>\n",
       "      <td>0</td>\n",
       "      <td>0</td>\n",
       "      <td>0</td>\n",
       "      <td>0</td>\n",
       "      <td>0</td>\n",
       "      <td>3</td>\n",
       "      <td>2010</td>\n",
       "      <td>WD</td>\n",
       "      <td>Normal</td>\n",
       "      <td>236500</td>\n",
       "    </tr>\n",
       "    <tr>\n",
       "      <th>...</th>\n",
       "      <td>...</td>\n",
       "      <td>...</td>\n",
       "      <td>...</td>\n",
       "      <td>...</td>\n",
       "      <td>...</td>\n",
       "      <td>...</td>\n",
       "      <td>...</td>\n",
       "      <td>...</td>\n",
       "      <td>...</td>\n",
       "      <td>...</td>\n",
       "      <td>...</td>\n",
       "      <td>...</td>\n",
       "      <td>...</td>\n",
       "      <td>...</td>\n",
       "      <td>...</td>\n",
       "      <td>...</td>\n",
       "      <td>...</td>\n",
       "      <td>...</td>\n",
       "      <td>...</td>\n",
       "      <td>...</td>\n",
       "      <td>...</td>\n",
       "    </tr>\n",
       "    <tr>\n",
       "      <th>2915</th>\n",
       "      <td>2916</td>\n",
       "      <td>923227100</td>\n",
       "      <td>20</td>\n",
       "      <td>RL</td>\n",
       "      <td>80.0</td>\n",
       "      <td>13384</td>\n",
       "      <td>Pave</td>\n",
       "      <td>Reg</td>\n",
       "      <td>Lvl</td>\n",
       "      <td>AllPub</td>\n",
       "      <td>...</td>\n",
       "      <td>0</td>\n",
       "      <td>0</td>\n",
       "      <td>0</td>\n",
       "      <td>0</td>\n",
       "      <td>0</td>\n",
       "      <td>5</td>\n",
       "      <td>2006</td>\n",
       "      <td>WD</td>\n",
       "      <td>Normal</td>\n",
       "      <td>140000</td>\n",
       "    </tr>\n",
       "    <tr>\n",
       "      <th>2923</th>\n",
       "      <td>2924</td>\n",
       "      <td>923250060</td>\n",
       "      <td>20</td>\n",
       "      <td>RL</td>\n",
       "      <td>80.0</td>\n",
       "      <td>17400</td>\n",
       "      <td>Pave</td>\n",
       "      <td>Reg</td>\n",
       "      <td>Low</td>\n",
       "      <td>AllPub</td>\n",
       "      <td>...</td>\n",
       "      <td>0</td>\n",
       "      <td>0</td>\n",
       "      <td>0</td>\n",
       "      <td>0</td>\n",
       "      <td>0</td>\n",
       "      <td>5</td>\n",
       "      <td>2006</td>\n",
       "      <td>WD</td>\n",
       "      <td>Normal</td>\n",
       "      <td>160000</td>\n",
       "    </tr>\n",
       "    <tr>\n",
       "      <th>2924</th>\n",
       "      <td>2925</td>\n",
       "      <td>923251180</td>\n",
       "      <td>20</td>\n",
       "      <td>RL</td>\n",
       "      <td>160.0</td>\n",
       "      <td>20000</td>\n",
       "      <td>Pave</td>\n",
       "      <td>Reg</td>\n",
       "      <td>Lvl</td>\n",
       "      <td>AllPub</td>\n",
       "      <td>...</td>\n",
       "      <td>0</td>\n",
       "      <td>0</td>\n",
       "      <td>0</td>\n",
       "      <td>0</td>\n",
       "      <td>0</td>\n",
       "      <td>9</td>\n",
       "      <td>2006</td>\n",
       "      <td>WD</td>\n",
       "      <td>Abnorml</td>\n",
       "      <td>131000</td>\n",
       "    </tr>\n",
       "    <tr>\n",
       "      <th>2928</th>\n",
       "      <td>2929</td>\n",
       "      <td>924100070</td>\n",
       "      <td>20</td>\n",
       "      <td>RL</td>\n",
       "      <td>77.0</td>\n",
       "      <td>10010</td>\n",
       "      <td>Pave</td>\n",
       "      <td>Reg</td>\n",
       "      <td>Lvl</td>\n",
       "      <td>AllPub</td>\n",
       "      <td>...</td>\n",
       "      <td>0</td>\n",
       "      <td>0</td>\n",
       "      <td>0</td>\n",
       "      <td>0</td>\n",
       "      <td>0</td>\n",
       "      <td>4</td>\n",
       "      <td>2006</td>\n",
       "      <td>WD</td>\n",
       "      <td>Normal</td>\n",
       "      <td>170000</td>\n",
       "    </tr>\n",
       "    <tr>\n",
       "      <th>2929</th>\n",
       "      <td>2930</td>\n",
       "      <td>924151050</td>\n",
       "      <td>60</td>\n",
       "      <td>RL</td>\n",
       "      <td>74.0</td>\n",
       "      <td>9627</td>\n",
       "      <td>Pave</td>\n",
       "      <td>Reg</td>\n",
       "      <td>Lvl</td>\n",
       "      <td>AllPub</td>\n",
       "      <td>...</td>\n",
       "      <td>0</td>\n",
       "      <td>0</td>\n",
       "      <td>0</td>\n",
       "      <td>0</td>\n",
       "      <td>0</td>\n",
       "      <td>11</td>\n",
       "      <td>2006</td>\n",
       "      <td>WD</td>\n",
       "      <td>Normal</td>\n",
       "      <td>188000</td>\n",
       "    </tr>\n",
       "  </tbody>\n",
       "</table>\n",
       "<p>1156 rows × 78 columns</p>\n",
       "</div>\n",
       "      <button class=\"colab-df-convert\" onclick=\"convertToInteractive('df-46e1b7c5-ddeb-4b18-a8b6-94f6818040da')\"\n",
       "              title=\"Convert this dataframe to an interactive table.\"\n",
       "              style=\"display:none;\">\n",
       "        \n",
       "  <svg xmlns=\"http://www.w3.org/2000/svg\" height=\"24px\"viewBox=\"0 0 24 24\"\n",
       "       width=\"24px\">\n",
       "    <path d=\"M0 0h24v24H0V0z\" fill=\"none\"/>\n",
       "    <path d=\"M18.56 5.44l.94 2.06.94-2.06 2.06-.94-2.06-.94-.94-2.06-.94 2.06-2.06.94zm-11 1L8.5 8.5l.94-2.06 2.06-.94-2.06-.94L8.5 2.5l-.94 2.06-2.06.94zm10 10l.94 2.06.94-2.06 2.06-.94-2.06-.94-.94-2.06-.94 2.06-2.06.94z\"/><path d=\"M17.41 7.96l-1.37-1.37c-.4-.4-.92-.59-1.43-.59-.52 0-1.04.2-1.43.59L10.3 9.45l-7.72 7.72c-.78.78-.78 2.05 0 2.83L4 21.41c.39.39.9.59 1.41.59.51 0 1.02-.2 1.41-.59l7.78-7.78 2.81-2.81c.8-.78.8-2.07 0-2.86zM5.41 20L4 18.59l7.72-7.72 1.47 1.35L5.41 20z\"/>\n",
       "  </svg>\n",
       "      </button>\n",
       "      \n",
       "  <style>\n",
       "    .colab-df-container {\n",
       "      display:flex;\n",
       "      flex-wrap:wrap;\n",
       "      gap: 12px;\n",
       "    }\n",
       "\n",
       "    .colab-df-convert {\n",
       "      background-color: #E8F0FE;\n",
       "      border: none;\n",
       "      border-radius: 50%;\n",
       "      cursor: pointer;\n",
       "      display: none;\n",
       "      fill: #1967D2;\n",
       "      height: 32px;\n",
       "      padding: 0 0 0 0;\n",
       "      width: 32px;\n",
       "    }\n",
       "\n",
       "    .colab-df-convert:hover {\n",
       "      background-color: #E2EBFA;\n",
       "      box-shadow: 0px 1px 2px rgba(60, 64, 67, 0.3), 0px 1px 3px 1px rgba(60, 64, 67, 0.15);\n",
       "      fill: #174EA6;\n",
       "    }\n",
       "\n",
       "    [theme=dark] .colab-df-convert {\n",
       "      background-color: #3B4455;\n",
       "      fill: #D2E3FC;\n",
       "    }\n",
       "\n",
       "    [theme=dark] .colab-df-convert:hover {\n",
       "      background-color: #434B5C;\n",
       "      box-shadow: 0px 1px 3px 1px rgba(0, 0, 0, 0.15);\n",
       "      filter: drop-shadow(0px 1px 2px rgba(0, 0, 0, 0.3));\n",
       "      fill: #FFFFFF;\n",
       "    }\n",
       "  </style>\n",
       "\n",
       "      <script>\n",
       "        const buttonEl =\n",
       "          document.querySelector('#df-46e1b7c5-ddeb-4b18-a8b6-94f6818040da button.colab-df-convert');\n",
       "        buttonEl.style.display =\n",
       "          google.colab.kernel.accessAllowed ? 'block' : 'none';\n",
       "\n",
       "        async function convertToInteractive(key) {\n",
       "          const element = document.querySelector('#df-46e1b7c5-ddeb-4b18-a8b6-94f6818040da');\n",
       "          const dataTable =\n",
       "            await google.colab.kernel.invokeFunction('convertToInteractive',\n",
       "                                                     [key], {});\n",
       "          if (!dataTable) return;\n",
       "\n",
       "          const docLinkHtml = 'Like what you see? Visit the ' +\n",
       "            '<a target=\"_blank\" href=https://colab.research.google.com/notebooks/data_table.ipynb>data table notebook</a>'\n",
       "            + ' to learn more about interactive tables.';\n",
       "          element.innerHTML = '';\n",
       "          dataTable['output_type'] = 'display_data';\n",
       "          await google.colab.output.renderOutput(dataTable, element);\n",
       "          const docLink = document.createElement('div');\n",
       "          docLink.innerHTML = docLinkHtml;\n",
       "          element.appendChild(docLink);\n",
       "        }\n",
       "      </script>\n",
       "    </div>\n",
       "  </div>\n",
       "  "
      ],
      "text/plain": [
       "      Order        PID  MS.SubClass MS.Zoning  Lot.Frontage  Lot.Area Street  \\\n",
       "0         1  526301100           20        RL         141.0     31770   Pave   \n",
       "3         4  526353030           20        RL          93.0     11160   Pave   \n",
       "4         5  527105010           60        RL          74.0     13830   Pave   \n",
       "5         6  527105030           60        RL          78.0      9978   Pave   \n",
       "8         9  527146030          120        RL          39.0      5389   Pave   \n",
       "...     ...        ...          ...       ...           ...       ...    ...   \n",
       "2915   2916  923227100           20        RL          80.0     13384   Pave   \n",
       "2923   2924  923250060           20        RL          80.0     17400   Pave   \n",
       "2924   2925  923251180           20        RL         160.0     20000   Pave   \n",
       "2928   2929  924100070           20        RL          77.0     10010   Pave   \n",
       "2929   2930  924151050           60        RL          74.0      9627   Pave   \n",
       "\n",
       "     Lot.Shape Land.Contour Utilities  ... Enclosed.Porch X3Ssn.Porch  \\\n",
       "0          IR1          Lvl    AllPub  ...              0           0   \n",
       "3          Reg          Lvl    AllPub  ...              0           0   \n",
       "4          IR1          Lvl    AllPub  ...              0           0   \n",
       "5          IR1          Lvl    AllPub  ...              0           0   \n",
       "8          IR1          Lvl    AllPub  ...              0           0   \n",
       "...        ...          ...       ...  ...            ...         ...   \n",
       "2915       Reg          Lvl    AllPub  ...              0           0   \n",
       "2923       Reg          Low    AllPub  ...              0           0   \n",
       "2924       Reg          Lvl    AllPub  ...              0           0   \n",
       "2928       Reg          Lvl    AllPub  ...              0           0   \n",
       "2929       Reg          Lvl    AllPub  ...              0           0   \n",
       "\n",
       "     Screen.Porch Pool.Area Misc.Val Mo.Sold Yr.Sold  Sale.Type  \\\n",
       "0               0         0        0       5    2010        WD    \n",
       "3               0         0        0       4    2010        WD    \n",
       "4               0         0        0       3    2010        WD    \n",
       "5               0         0        0       6    2010        WD    \n",
       "8               0         0        0       3    2010        WD    \n",
       "...           ...       ...      ...     ...     ...        ...   \n",
       "2915            0         0        0       5    2006        WD    \n",
       "2923            0         0        0       5    2006        WD    \n",
       "2924            0         0        0       9    2006        WD    \n",
       "2928            0         0        0       4    2006        WD    \n",
       "2929            0         0        0      11    2006        WD    \n",
       "\n",
       "      Sale.Condition  SalePrice  \n",
       "0             Normal     215000  \n",
       "3             Normal     244000  \n",
       "4             Normal     189900  \n",
       "5             Normal     195500  \n",
       "8             Normal     236500  \n",
       "...              ...        ...  \n",
       "2915          Normal     140000  \n",
       "2923          Normal     160000  \n",
       "2924         Abnorml     131000  \n",
       "2928          Normal     170000  \n",
       "2929          Normal     188000  \n",
       "\n",
       "[1156 rows x 78 columns]"
      ]
     },
     "execution_count": 10,
     "metadata": {},
     "output_type": "execute_result"
    }
   ],
   "source": [
    "Ames_new = Ames_new.dropna()\n",
    "Ames_new"
   ]
  },
  {
   "cell_type": "code",
   "execution_count": null,
   "metadata": {
    "colab": {
     "base_uri": "https://localhost:8080/",
     "height": 488
    },
    "id": "TQi_eVLpcLU3",
    "outputId": "9c275c15-4049-4e8d-a429-ba23640da67c"
   },
   "outputs": [
    {
     "data": {
      "text/html": [
       "\n",
       "  <div id=\"df-3f1eaacb-f441-4905-aa44-2c93b8bbc521\">\n",
       "    <div class=\"colab-df-container\">\n",
       "      <div>\n",
       "<style scoped>\n",
       "    .dataframe tbody tr th:only-of-type {\n",
       "        vertical-align: middle;\n",
       "    }\n",
       "\n",
       "    .dataframe tbody tr th {\n",
       "        vertical-align: top;\n",
       "    }\n",
       "\n",
       "    .dataframe thead th {\n",
       "        text-align: right;\n",
       "    }\n",
       "</style>\n",
       "<table border=\"1\" class=\"dataframe\">\n",
       "  <thead>\n",
       "    <tr style=\"text-align: right;\">\n",
       "      <th></th>\n",
       "      <th>Order</th>\n",
       "      <th>PID</th>\n",
       "      <th>MS_SubClass</th>\n",
       "      <th>MS_Zoning</th>\n",
       "      <th>Lot_Frontage</th>\n",
       "      <th>Lot_Area</th>\n",
       "      <th>Street</th>\n",
       "      <th>Lot_Shape</th>\n",
       "      <th>Land_Contour</th>\n",
       "      <th>Utilities</th>\n",
       "      <th>...</th>\n",
       "      <th>Enclosed_Porch</th>\n",
       "      <th>X3Ssn_Porch</th>\n",
       "      <th>Screen_Porch</th>\n",
       "      <th>Pool_Area</th>\n",
       "      <th>Misc_Val</th>\n",
       "      <th>Mo_Sold</th>\n",
       "      <th>Yr_Sold</th>\n",
       "      <th>Sale_Type</th>\n",
       "      <th>Sale_Condition</th>\n",
       "      <th>SalePrice</th>\n",
       "    </tr>\n",
       "  </thead>\n",
       "  <tbody>\n",
       "    <tr>\n",
       "      <th>0</th>\n",
       "      <td>1</td>\n",
       "      <td>526301100</td>\n",
       "      <td>20</td>\n",
       "      <td>RL</td>\n",
       "      <td>141.0</td>\n",
       "      <td>31770</td>\n",
       "      <td>Pave</td>\n",
       "      <td>IR1</td>\n",
       "      <td>Lvl</td>\n",
       "      <td>AllPub</td>\n",
       "      <td>...</td>\n",
       "      <td>0</td>\n",
       "      <td>0</td>\n",
       "      <td>0</td>\n",
       "      <td>0</td>\n",
       "      <td>0</td>\n",
       "      <td>5</td>\n",
       "      <td>2010</td>\n",
       "      <td>WD</td>\n",
       "      <td>Normal</td>\n",
       "      <td>215000</td>\n",
       "    </tr>\n",
       "    <tr>\n",
       "      <th>3</th>\n",
       "      <td>4</td>\n",
       "      <td>526353030</td>\n",
       "      <td>20</td>\n",
       "      <td>RL</td>\n",
       "      <td>93.0</td>\n",
       "      <td>11160</td>\n",
       "      <td>Pave</td>\n",
       "      <td>Reg</td>\n",
       "      <td>Lvl</td>\n",
       "      <td>AllPub</td>\n",
       "      <td>...</td>\n",
       "      <td>0</td>\n",
       "      <td>0</td>\n",
       "      <td>0</td>\n",
       "      <td>0</td>\n",
       "      <td>0</td>\n",
       "      <td>4</td>\n",
       "      <td>2010</td>\n",
       "      <td>WD</td>\n",
       "      <td>Normal</td>\n",
       "      <td>244000</td>\n",
       "    </tr>\n",
       "    <tr>\n",
       "      <th>4</th>\n",
       "      <td>5</td>\n",
       "      <td>527105010</td>\n",
       "      <td>60</td>\n",
       "      <td>RL</td>\n",
       "      <td>74.0</td>\n",
       "      <td>13830</td>\n",
       "      <td>Pave</td>\n",
       "      <td>IR1</td>\n",
       "      <td>Lvl</td>\n",
       "      <td>AllPub</td>\n",
       "      <td>...</td>\n",
       "      <td>0</td>\n",
       "      <td>0</td>\n",
       "      <td>0</td>\n",
       "      <td>0</td>\n",
       "      <td>0</td>\n",
       "      <td>3</td>\n",
       "      <td>2010</td>\n",
       "      <td>WD</td>\n",
       "      <td>Normal</td>\n",
       "      <td>189900</td>\n",
       "    </tr>\n",
       "    <tr>\n",
       "      <th>5</th>\n",
       "      <td>6</td>\n",
       "      <td>527105030</td>\n",
       "      <td>60</td>\n",
       "      <td>RL</td>\n",
       "      <td>78.0</td>\n",
       "      <td>9978</td>\n",
       "      <td>Pave</td>\n",
       "      <td>IR1</td>\n",
       "      <td>Lvl</td>\n",
       "      <td>AllPub</td>\n",
       "      <td>...</td>\n",
       "      <td>0</td>\n",
       "      <td>0</td>\n",
       "      <td>0</td>\n",
       "      <td>0</td>\n",
       "      <td>0</td>\n",
       "      <td>6</td>\n",
       "      <td>2010</td>\n",
       "      <td>WD</td>\n",
       "      <td>Normal</td>\n",
       "      <td>195500</td>\n",
       "    </tr>\n",
       "    <tr>\n",
       "      <th>8</th>\n",
       "      <td>9</td>\n",
       "      <td>527146030</td>\n",
       "      <td>120</td>\n",
       "      <td>RL</td>\n",
       "      <td>39.0</td>\n",
       "      <td>5389</td>\n",
       "      <td>Pave</td>\n",
       "      <td>IR1</td>\n",
       "      <td>Lvl</td>\n",
       "      <td>AllPub</td>\n",
       "      <td>...</td>\n",
       "      <td>0</td>\n",
       "      <td>0</td>\n",
       "      <td>0</td>\n",
       "      <td>0</td>\n",
       "      <td>0</td>\n",
       "      <td>3</td>\n",
       "      <td>2010</td>\n",
       "      <td>WD</td>\n",
       "      <td>Normal</td>\n",
       "      <td>236500</td>\n",
       "    </tr>\n",
       "    <tr>\n",
       "      <th>...</th>\n",
       "      <td>...</td>\n",
       "      <td>...</td>\n",
       "      <td>...</td>\n",
       "      <td>...</td>\n",
       "      <td>...</td>\n",
       "      <td>...</td>\n",
       "      <td>...</td>\n",
       "      <td>...</td>\n",
       "      <td>...</td>\n",
       "      <td>...</td>\n",
       "      <td>...</td>\n",
       "      <td>...</td>\n",
       "      <td>...</td>\n",
       "      <td>...</td>\n",
       "      <td>...</td>\n",
       "      <td>...</td>\n",
       "      <td>...</td>\n",
       "      <td>...</td>\n",
       "      <td>...</td>\n",
       "      <td>...</td>\n",
       "      <td>...</td>\n",
       "    </tr>\n",
       "    <tr>\n",
       "      <th>2915</th>\n",
       "      <td>2916</td>\n",
       "      <td>923227100</td>\n",
       "      <td>20</td>\n",
       "      <td>RL</td>\n",
       "      <td>80.0</td>\n",
       "      <td>13384</td>\n",
       "      <td>Pave</td>\n",
       "      <td>Reg</td>\n",
       "      <td>Lvl</td>\n",
       "      <td>AllPub</td>\n",
       "      <td>...</td>\n",
       "      <td>0</td>\n",
       "      <td>0</td>\n",
       "      <td>0</td>\n",
       "      <td>0</td>\n",
       "      <td>0</td>\n",
       "      <td>5</td>\n",
       "      <td>2006</td>\n",
       "      <td>WD</td>\n",
       "      <td>Normal</td>\n",
       "      <td>140000</td>\n",
       "    </tr>\n",
       "    <tr>\n",
       "      <th>2923</th>\n",
       "      <td>2924</td>\n",
       "      <td>923250060</td>\n",
       "      <td>20</td>\n",
       "      <td>RL</td>\n",
       "      <td>80.0</td>\n",
       "      <td>17400</td>\n",
       "      <td>Pave</td>\n",
       "      <td>Reg</td>\n",
       "      <td>Low</td>\n",
       "      <td>AllPub</td>\n",
       "      <td>...</td>\n",
       "      <td>0</td>\n",
       "      <td>0</td>\n",
       "      <td>0</td>\n",
       "      <td>0</td>\n",
       "      <td>0</td>\n",
       "      <td>5</td>\n",
       "      <td>2006</td>\n",
       "      <td>WD</td>\n",
       "      <td>Normal</td>\n",
       "      <td>160000</td>\n",
       "    </tr>\n",
       "    <tr>\n",
       "      <th>2924</th>\n",
       "      <td>2925</td>\n",
       "      <td>923251180</td>\n",
       "      <td>20</td>\n",
       "      <td>RL</td>\n",
       "      <td>160.0</td>\n",
       "      <td>20000</td>\n",
       "      <td>Pave</td>\n",
       "      <td>Reg</td>\n",
       "      <td>Lvl</td>\n",
       "      <td>AllPub</td>\n",
       "      <td>...</td>\n",
       "      <td>0</td>\n",
       "      <td>0</td>\n",
       "      <td>0</td>\n",
       "      <td>0</td>\n",
       "      <td>0</td>\n",
       "      <td>9</td>\n",
       "      <td>2006</td>\n",
       "      <td>WD</td>\n",
       "      <td>Abnorml</td>\n",
       "      <td>131000</td>\n",
       "    </tr>\n",
       "    <tr>\n",
       "      <th>2928</th>\n",
       "      <td>2929</td>\n",
       "      <td>924100070</td>\n",
       "      <td>20</td>\n",
       "      <td>RL</td>\n",
       "      <td>77.0</td>\n",
       "      <td>10010</td>\n",
       "      <td>Pave</td>\n",
       "      <td>Reg</td>\n",
       "      <td>Lvl</td>\n",
       "      <td>AllPub</td>\n",
       "      <td>...</td>\n",
       "      <td>0</td>\n",
       "      <td>0</td>\n",
       "      <td>0</td>\n",
       "      <td>0</td>\n",
       "      <td>0</td>\n",
       "      <td>4</td>\n",
       "      <td>2006</td>\n",
       "      <td>WD</td>\n",
       "      <td>Normal</td>\n",
       "      <td>170000</td>\n",
       "    </tr>\n",
       "    <tr>\n",
       "      <th>2929</th>\n",
       "      <td>2930</td>\n",
       "      <td>924151050</td>\n",
       "      <td>60</td>\n",
       "      <td>RL</td>\n",
       "      <td>74.0</td>\n",
       "      <td>9627</td>\n",
       "      <td>Pave</td>\n",
       "      <td>Reg</td>\n",
       "      <td>Lvl</td>\n",
       "      <td>AllPub</td>\n",
       "      <td>...</td>\n",
       "      <td>0</td>\n",
       "      <td>0</td>\n",
       "      <td>0</td>\n",
       "      <td>0</td>\n",
       "      <td>0</td>\n",
       "      <td>11</td>\n",
       "      <td>2006</td>\n",
       "      <td>WD</td>\n",
       "      <td>Normal</td>\n",
       "      <td>188000</td>\n",
       "    </tr>\n",
       "  </tbody>\n",
       "</table>\n",
       "<p>1156 rows × 78 columns</p>\n",
       "</div>\n",
       "      <button class=\"colab-df-convert\" onclick=\"convertToInteractive('df-3f1eaacb-f441-4905-aa44-2c93b8bbc521')\"\n",
       "              title=\"Convert this dataframe to an interactive table.\"\n",
       "              style=\"display:none;\">\n",
       "        \n",
       "  <svg xmlns=\"http://www.w3.org/2000/svg\" height=\"24px\"viewBox=\"0 0 24 24\"\n",
       "       width=\"24px\">\n",
       "    <path d=\"M0 0h24v24H0V0z\" fill=\"none\"/>\n",
       "    <path d=\"M18.56 5.44l.94 2.06.94-2.06 2.06-.94-2.06-.94-.94-2.06-.94 2.06-2.06.94zm-11 1L8.5 8.5l.94-2.06 2.06-.94-2.06-.94L8.5 2.5l-.94 2.06-2.06.94zm10 10l.94 2.06.94-2.06 2.06-.94-2.06-.94-.94-2.06-.94 2.06-2.06.94z\"/><path d=\"M17.41 7.96l-1.37-1.37c-.4-.4-.92-.59-1.43-.59-.52 0-1.04.2-1.43.59L10.3 9.45l-7.72 7.72c-.78.78-.78 2.05 0 2.83L4 21.41c.39.39.9.59 1.41.59.51 0 1.02-.2 1.41-.59l7.78-7.78 2.81-2.81c.8-.78.8-2.07 0-2.86zM5.41 20L4 18.59l7.72-7.72 1.47 1.35L5.41 20z\"/>\n",
       "  </svg>\n",
       "      </button>\n",
       "      \n",
       "  <style>\n",
       "    .colab-df-container {\n",
       "      display:flex;\n",
       "      flex-wrap:wrap;\n",
       "      gap: 12px;\n",
       "    }\n",
       "\n",
       "    .colab-df-convert {\n",
       "      background-color: #E8F0FE;\n",
       "      border: none;\n",
       "      border-radius: 50%;\n",
       "      cursor: pointer;\n",
       "      display: none;\n",
       "      fill: #1967D2;\n",
       "      height: 32px;\n",
       "      padding: 0 0 0 0;\n",
       "      width: 32px;\n",
       "    }\n",
       "\n",
       "    .colab-df-convert:hover {\n",
       "      background-color: #E2EBFA;\n",
       "      box-shadow: 0px 1px 2px rgba(60, 64, 67, 0.3), 0px 1px 3px 1px rgba(60, 64, 67, 0.15);\n",
       "      fill: #174EA6;\n",
       "    }\n",
       "\n",
       "    [theme=dark] .colab-df-convert {\n",
       "      background-color: #3B4455;\n",
       "      fill: #D2E3FC;\n",
       "    }\n",
       "\n",
       "    [theme=dark] .colab-df-convert:hover {\n",
       "      background-color: #434B5C;\n",
       "      box-shadow: 0px 1px 3px 1px rgba(0, 0, 0, 0.15);\n",
       "      filter: drop-shadow(0px 1px 2px rgba(0, 0, 0, 0.3));\n",
       "      fill: #FFFFFF;\n",
       "    }\n",
       "  </style>\n",
       "\n",
       "      <script>\n",
       "        const buttonEl =\n",
       "          document.querySelector('#df-3f1eaacb-f441-4905-aa44-2c93b8bbc521 button.colab-df-convert');\n",
       "        buttonEl.style.display =\n",
       "          google.colab.kernel.accessAllowed ? 'block' : 'none';\n",
       "\n",
       "        async function convertToInteractive(key) {\n",
       "          const element = document.querySelector('#df-3f1eaacb-f441-4905-aa44-2c93b8bbc521');\n",
       "          const dataTable =\n",
       "            await google.colab.kernel.invokeFunction('convertToInteractive',\n",
       "                                                     [key], {});\n",
       "          if (!dataTable) return;\n",
       "\n",
       "          const docLinkHtml = 'Like what you see? Visit the ' +\n",
       "            '<a target=\"_blank\" href=https://colab.research.google.com/notebooks/data_table.ipynb>data table notebook</a>'\n",
       "            + ' to learn more about interactive tables.';\n",
       "          element.innerHTML = '';\n",
       "          dataTable['output_type'] = 'display_data';\n",
       "          await google.colab.output.renderOutput(dataTable, element);\n",
       "          const docLink = document.createElement('div');\n",
       "          docLink.innerHTML = docLinkHtml;\n",
       "          element.appendChild(docLink);\n",
       "        }\n",
       "      </script>\n",
       "    </div>\n",
       "  </div>\n",
       "  "
      ],
      "text/plain": [
       "      Order        PID  MS_SubClass MS_Zoning  Lot_Frontage  Lot_Area Street  \\\n",
       "0         1  526301100           20        RL         141.0     31770   Pave   \n",
       "3         4  526353030           20        RL          93.0     11160   Pave   \n",
       "4         5  527105010           60        RL          74.0     13830   Pave   \n",
       "5         6  527105030           60        RL          78.0      9978   Pave   \n",
       "8         9  527146030          120        RL          39.0      5389   Pave   \n",
       "...     ...        ...          ...       ...           ...       ...    ...   \n",
       "2915   2916  923227100           20        RL          80.0     13384   Pave   \n",
       "2923   2924  923250060           20        RL          80.0     17400   Pave   \n",
       "2924   2925  923251180           20        RL         160.0     20000   Pave   \n",
       "2928   2929  924100070           20        RL          77.0     10010   Pave   \n",
       "2929   2930  924151050           60        RL          74.0      9627   Pave   \n",
       "\n",
       "     Lot_Shape Land_Contour Utilities  ... Enclosed_Porch X3Ssn_Porch  \\\n",
       "0          IR1          Lvl    AllPub  ...              0           0   \n",
       "3          Reg          Lvl    AllPub  ...              0           0   \n",
       "4          IR1          Lvl    AllPub  ...              0           0   \n",
       "5          IR1          Lvl    AllPub  ...              0           0   \n",
       "8          IR1          Lvl    AllPub  ...              0           0   \n",
       "...        ...          ...       ...  ...            ...         ...   \n",
       "2915       Reg          Lvl    AllPub  ...              0           0   \n",
       "2923       Reg          Low    AllPub  ...              0           0   \n",
       "2924       Reg          Lvl    AllPub  ...              0           0   \n",
       "2928       Reg          Lvl    AllPub  ...              0           0   \n",
       "2929       Reg          Lvl    AllPub  ...              0           0   \n",
       "\n",
       "     Screen_Porch Pool_Area Misc_Val Mo_Sold Yr_Sold  Sale_Type  \\\n",
       "0               0         0        0       5    2010        WD    \n",
       "3               0         0        0       4    2010        WD    \n",
       "4               0         0        0       3    2010        WD    \n",
       "5               0         0        0       6    2010        WD    \n",
       "8               0         0        0       3    2010        WD    \n",
       "...           ...       ...      ...     ...     ...        ...   \n",
       "2915            0         0        0       5    2006        WD    \n",
       "2923            0         0        0       5    2006        WD    \n",
       "2924            0         0        0       9    2006        WD    \n",
       "2928            0         0        0       4    2006        WD    \n",
       "2929            0         0        0      11    2006        WD    \n",
       "\n",
       "      Sale_Condition  SalePrice  \n",
       "0             Normal     215000  \n",
       "3             Normal     244000  \n",
       "4             Normal     189900  \n",
       "5             Normal     195500  \n",
       "8             Normal     236500  \n",
       "...              ...        ...  \n",
       "2915          Normal     140000  \n",
       "2923          Normal     160000  \n",
       "2924         Abnorml     131000  \n",
       "2928          Normal     170000  \n",
       "2929          Normal     188000  \n",
       "\n",
       "[1156 rows x 78 columns]"
      ]
     },
     "execution_count": 11,
     "metadata": {},
     "output_type": "execute_result"
    }
   ],
   "source": [
    "Ames_new.columns = Ames_new.columns.str.replace(\".\",\"_\", regex=False)\n",
    "Ames_new"
   ]
  },
  {
   "cell_type": "markdown",
   "metadata": {
    "id": "YXmbwjYD5sDx"
   },
   "source": [
    "## **2. Descriptive Analytics**"
   ]
  },
  {
   "cell_type": "markdown",
   "metadata": {
    "id": "v2NbIvx7rAI5"
   },
   "source": [
    "#### **Research Question** - For this part, we wanted to analyse the Sale price of the Ames houses for the period of 5 years. Along with that, how strong the relationship is between Sale price and Sale Condition. Furthermore, what can we observe about these two variables with Year Sold."
   ]
  },
  {
   "cell_type": "markdown",
   "metadata": {
    "id": "ha-5lbh95sDx"
   },
   "source": [
    "#### In this section, we are going to visualize the Sale Price variable and learn about its summary statistics. Also, we analyze its relationship with the sale condition variable."
   ]
  },
  {
   "cell_type": "markdown",
   "metadata": {
    "id": "tYtItMjnhQpR"
   },
   "source": [
    "#### Moving further, we also wished to see how our Sale Price varies with Sale condition and in the year which they were sold. "
   ]
  },
  {
   "cell_type": "markdown",
   "metadata": {
    "id": "rqQM3msctQse"
   },
   "source": [
    "### **Visualization for a single numerical variable - Sale Price**.\n"
   ]
  },
  {
   "cell_type": "markdown",
   "metadata": {
    "id": "ymOWqpGQtkqu"
   },
   "source": [
    "## Histogram"
   ]
  },
  {
   "cell_type": "code",
   "execution_count": null,
   "metadata": {
    "colab": {
     "base_uri": "https://localhost:8080/",
     "height": 295
    },
    "id": "RFi_vDNP5sDy",
    "outputId": "936e5ea4-6c16-41cb-a4d7-d30b1a122ccc"
   },
   "outputs": [
    {
     "data": {
      "image/png": "[encoded data removed]",
      "text/plain": [
       "<Figure size 432x288 with 1 Axes>"
      ]
     },
     "metadata": {
      "needs_background": "light"
     },
     "output_type": "display_data"
    }
   ],
   "source": [
    "Ames_new['SalePrice'].hist()\n",
    "plt.xlabel(\"Price for houses\")\n",
    "plt.ylabel(\"frequency\")\n",
    "plt.title(\"Iowa houses\")\n",
    "\n",
    "plt.show()"
   ]
  },
  {
   "cell_type": "markdown",
   "metadata": {
    "id": "1qbB-xB-xO0W"
   },
   "source": [
    "#### The histogram shows that there is a lot of skewness towards the right. Hence, we could suggest that our average sale price is greater than the median of prices. To look further we'll analyse it further using summary statictics."
   ]
  },
  {
   "cell_type": "markdown",
   "metadata": {
    "id": "g9pq_plhRwew"
   },
   "source": [
    "#### Summary Statistics"
   ]
  },
  {
   "cell_type": "code",
   "execution_count": null,
   "metadata": {
    "id": "ImoSoPSs5sDy"
   },
   "outputs": [],
   "source": [
    "def summary(argument):\n",
    "  index = ['min', 'q1', 'median', 'Q3', 'max', 'mean', 'std']\n",
    "  value = [argument.min(),\n",
    "           argument.quantile(q=0.25),\n",
    "           argument.median(), \n",
    "           argument.quantile(0.75), \n",
    "           argument.max(), \n",
    "           argument.mean(), \n",
    "           argument.std()]\n",
    "  return pd.DataFrame({'value': value}, index= index)"
   ]
  },
  {
   "cell_type": "code",
   "execution_count": null,
   "metadata": {
    "colab": {
     "base_uri": "https://localhost:8080/",
     "height": 269
    },
    "id": "El4qtsq85sDz",
    "outputId": "42bca28b-3954-40e5-9c4b-e78e9bb60d2b"
   },
   "outputs": [
    {
     "data": {
      "text/html": [
       "\n",
       "  <div id=\"df-1e872621-86ec-48c8-99a9-210440064312\">\n",
       "    <div class=\"colab-df-container\">\n",
       "      <div>\n",
       "<style scoped>\n",
       "    .dataframe tbody tr th:only-of-type {\n",
       "        vertical-align: middle;\n",
       "    }\n",
       "\n",
       "    .dataframe tbody tr th {\n",
       "        vertical-align: top;\n",
       "    }\n",
       "\n",
       "    .dataframe thead th {\n",
       "        text-align: right;\n",
       "    }\n",
       "</style>\n",
       "<table border=\"1\" class=\"dataframe\">\n",
       "  <thead>\n",
       "    <tr style=\"text-align: right;\">\n",
       "      <th></th>\n",
       "      <th>value</th>\n",
       "    </tr>\n",
       "  </thead>\n",
       "  <tbody>\n",
       "    <tr>\n",
       "      <th>min</th>\n",
       "      <td>12789.000000</td>\n",
       "    </tr>\n",
       "    <tr>\n",
       "      <th>q1</th>\n",
       "      <td>157500.000000</td>\n",
       "    </tr>\n",
       "    <tr>\n",
       "      <th>median</th>\n",
       "      <td>194450.500000</td>\n",
       "    </tr>\n",
       "    <tr>\n",
       "      <th>Q3</th>\n",
       "      <td>264974.500000</td>\n",
       "    </tr>\n",
       "    <tr>\n",
       "      <th>max</th>\n",
       "      <td>755000.000000</td>\n",
       "    </tr>\n",
       "    <tr>\n",
       "      <th>mean</th>\n",
       "      <td>223057.326125</td>\n",
       "    </tr>\n",
       "    <tr>\n",
       "      <th>std</th>\n",
       "      <td>93280.564462</td>\n",
       "    </tr>\n",
       "  </tbody>\n",
       "</table>\n",
       "</div>\n",
       "      <button class=\"colab-df-convert\" onclick=\"convertToInteractive('df-1e872621-86ec-48c8-99a9-210440064312')\"\n",
       "              title=\"Convert this dataframe to an interactive table.\"\n",
       "              style=\"display:none;\">\n",
       "        \n",
       "  <svg xmlns=\"http://www.w3.org/2000/svg\" height=\"24px\"viewBox=\"0 0 24 24\"\n",
       "       width=\"24px\">\n",
       "    <path d=\"M0 0h24v24H0V0z\" fill=\"none\"/>\n",
       "    <path d=\"M18.56 5.44l.94 2.06.94-2.06 2.06-.94-2.06-.94-.94-2.06-.94 2.06-2.06.94zm-11 1L8.5 8.5l.94-2.06 2.06-.94-2.06-.94L8.5 2.5l-.94 2.06-2.06.94zm10 10l.94 2.06.94-2.06 2.06-.94-2.06-.94-.94-2.06-.94 2.06-2.06.94z\"/><path d=\"M17.41 7.96l-1.37-1.37c-.4-.4-.92-.59-1.43-.59-.52 0-1.04.2-1.43.59L10.3 9.45l-7.72 7.72c-.78.78-.78 2.05 0 2.83L4 21.41c.39.39.9.59 1.41.59.51 0 1.02-.2 1.41-.59l7.78-7.78 2.81-2.81c.8-.78.8-2.07 0-2.86zM5.41 20L4 18.59l7.72-7.72 1.47 1.35L5.41 20z\"/>\n",
       "  </svg>\n",
       "      </button>\n",
       "      \n",
       "  <style>\n",
       "    .colab-df-container {\n",
       "      display:flex;\n",
       "      flex-wrap:wrap;\n",
       "      gap: 12px;\n",
       "    }\n",
       "\n",
       "    .colab-df-convert {\n",
       "      background-color: #E8F0FE;\n",
       "      border: none;\n",
       "      border-radius: 50%;\n",
       "      cursor: pointer;\n",
       "      display: none;\n",
       "      fill: #1967D2;\n",
       "      height: 32px;\n",
       "      padding: 0 0 0 0;\n",
       "      width: 32px;\n",
       "    }\n",
       "\n",
       "    .colab-df-convert:hover {\n",
       "      background-color: #E2EBFA;\n",
       "      box-shadow: 0px 1px 2px rgba(60, 64, 67, 0.3), 0px 1px 3px 1px rgba(60, 64, 67, 0.15);\n",
       "      fill: #174EA6;\n",
       "    }\n",
       "\n",
       "    [theme=dark] .colab-df-convert {\n",
       "      background-color: #3B4455;\n",
       "      fill: #D2E3FC;\n",
       "    }\n",
       "\n",
       "    [theme=dark] .colab-df-convert:hover {\n",
       "      background-color: #434B5C;\n",
       "      box-shadow: 0px 1px 3px 1px rgba(0, 0, 0, 0.15);\n",
       "      filter: drop-shadow(0px 1px 2px rgba(0, 0, 0, 0.3));\n",
       "      fill: #FFFFFF;\n",
       "    }\n",
       "  </style>\n",
       "\n",
       "      <script>\n",
       "        const buttonEl =\n",
       "          document.querySelector('#df-1e872621-86ec-48c8-99a9-210440064312 button.colab-df-convert');\n",
       "        buttonEl.style.display =\n",
       "          google.colab.kernel.accessAllowed ? 'block' : 'none';\n",
       "\n",
       "        async function convertToInteractive(key) {\n",
       "          const element = document.querySelector('#df-1e872621-86ec-48c8-99a9-210440064312');\n",
       "          const dataTable =\n",
       "            await google.colab.kernel.invokeFunction('convertToInteractive',\n",
       "                                                     [key], {});\n",
       "          if (!dataTable) return;\n",
       "\n",
       "          const docLinkHtml = 'Like what you see? Visit the ' +\n",
       "            '<a target=\"_blank\" href=https://colab.research.google.com/notebooks/data_table.ipynb>data table notebook</a>'\n",
       "            + ' to learn more about interactive tables.';\n",
       "          element.innerHTML = '';\n",
       "          dataTable['output_type'] = 'display_data';\n",
       "          await google.colab.output.renderOutput(dataTable, element);\n",
       "          const docLink = document.createElement('div');\n",
       "          docLink.innerHTML = docLinkHtml;\n",
       "          element.appendChild(docLink);\n",
       "        }\n",
       "      </script>\n",
       "    </div>\n",
       "  </div>\n",
       "  "
      ],
      "text/plain": [
       "                value\n",
       "min      12789.000000\n",
       "q1      157500.000000\n",
       "median  194450.500000\n",
       "Q3      264974.500000\n",
       "max     755000.000000\n",
       "mean    223057.326125\n",
       "std      93280.564462"
      ]
     },
     "execution_count": 14,
     "metadata": {},
     "output_type": "execute_result"
    }
   ],
   "source": [
    "summary(Ames_new['SalePrice'])"
   ]
  },
  {
   "cell_type": "markdown",
   "metadata": {
    "id": "8_4NzSVJuTVu"
   },
   "source": [
    "#### The summary statistics table shows the average price of the house is about 223057 Dollars, and the maximum price has gone upto high of 755000 which has quite a lot of difference from the average price. Hence, our inference above was right"
   ]
  },
  {
   "cell_type": "markdown",
   "metadata": {
    "id": "_uqUcRxnwZFo"
   },
   "source": [
    "#### Moving forward, to visualize the measure"
   ]
  },
  {
   "cell_type": "code",
   "execution_count": null,
   "metadata": {
    "colab": {
     "base_uri": "https://localhost:8080/",
     "height": 353
    },
    "id": "xW9bAx4h5sDz",
    "outputId": "9159b057-ba8e-4022-e01c-db990cd09a5a"
   },
   "outputs": [
    {
     "name": "stdout",
     "output_type": "stream",
     "text": [
      "Violinplot showing the sale price of Iowa houses\n"
     ]
    },
    {
     "name": "stderr",
     "output_type": "stream",
     "text": [
      "/usr/local/lib/python3.7/dist-packages/seaborn/_decorators.py:43: FutureWarning: Pass the following variable as a keyword arg: x. From version 0.12, the only valid positional argument will be `data`, and passing other arguments without an explicit keyword will result in an error or misinterpretation.\n",
      "  FutureWarning\n"
     ]
    },
    {
     "data": {
      "image/png": "[encoded data removed]",
      "text/plain": [
       "<Figure size 432x288 with 1 Axes>"
      ]
     },
     "metadata": {
      "needs_background": "light"
     },
     "output_type": "display_data"
    }
   ],
   "source": [
    "print('Violinplot showing the sale price of Iowa houses')\n",
    "sns.boxplot(Ames_new['SalePrice'])\n",
    "plt.show()"
   ]
  },
  {
   "cell_type": "code",
   "execution_count": null,
   "metadata": {
    "colab": {
     "base_uri": "https://localhost:8080/",
     "height": 335
    },
    "id": "hlRzMb2x5sDz",
    "outputId": "b01ed07a-f936-4d3e-9444-25f17caaed29"
   },
   "outputs": [
    {
     "name": "stderr",
     "output_type": "stream",
     "text": [
      "/usr/local/lib/python3.7/dist-packages/seaborn/_decorators.py:43: FutureWarning: Pass the following variable as a keyword arg: x. From version 0.12, the only valid positional argument will be `data`, and passing other arguments without an explicit keyword will result in an error or misinterpretation.\n",
      "  FutureWarning\n"
     ]
    },
    {
     "data": {
      "image/png": "[encoded data removed]",
      "text/plain": [
       "<Figure size 432x288 with 1 Axes>"
      ]
     },
     "metadata": {
      "needs_background": "light"
     },
     "output_type": "display_data"
    }
   ],
   "source": [
    "sns.violinplot(Ames_new['SalePrice'])\n",
    "plt.show()"
   ]
  },
  {
   "cell_type": "markdown",
   "metadata": {
    "id": "9f9WfyDY0ZQg"
   },
   "source": [
    "#### As we can observe a lot of outliers in the Sale Price it would be best to take median as centre of measure than its mean for this dataset."
   ]
  },
  {
   "cell_type": "code",
   "execution_count": null,
   "metadata": {
    "colab": {
     "base_uri": "https://localhost:8080/"
    },
    "id": "ia4eKFud3_yM",
    "outputId": "d34e212e-225c-4fbd-e613-5e20ad9a15cb"
   },
   "outputs": [
    {
     "data": {
      "text/plain": [
       "Normal     929\n",
       "Partial    154\n",
       "Abnorml     49\n",
       "Family      19\n",
       "Alloca       5\n",
       "Name: Sale_Condition, dtype: int64"
      ]
     },
     "execution_count": 17,
     "metadata": {},
     "output_type": "execute_result"
    }
   ],
   "source": [
    "Ames_new['Sale_Condition'].value_counts() #types of Sale condition\n"
   ]
  },
  {
   "cell_type": "code",
   "execution_count": null,
   "metadata": {
    "colab": {
     "base_uri": "https://localhost:8080/"
    },
    "id": "2amYIMw67ybJ",
    "outputId": "72046e77-8b55-48d7-8fea-19f83da412d1"
   },
   "outputs": [
    {
     "data": {
      "text/plain": [
       "2007    292\n",
       "2009    259\n",
       "2006    249\n",
       "2008    231\n",
       "2010    125\n",
       "Name: Yr_Sold, dtype: int64"
      ]
     },
     "execution_count": 18,
     "metadata": {},
     "output_type": "execute_result"
    }
   ],
   "source": [
    "Ames_new['Yr_Sold'].value_counts() #Different Year Sold in the dataset"
   ]
  },
  {
   "cell_type": "code",
   "execution_count": null,
   "metadata": {
    "colab": {
     "base_uri": "https://localhost:8080/",
     "height": 279
    },
    "id": "NyLSa8JX19u_",
    "outputId": "68d253a8-5d6a-461b-c42f-3bd9e8e37ef8"
   },
   "outputs": [
    {
     "data": {
      "image/png": "[encoded data removed]",
      "text/plain": [
       "<Figure size 432x288 with 1 Axes>"
      ]
     },
     "metadata": {
      "needs_background": "light"
     },
     "output_type": "display_data"
    }
   ],
   "source": [
    "sns.boxplot(x='Sale_Condition', y = 'SalePrice', data = Ames_new)\n",
    "plt.xlabel('Sale Condition')\n",
    "plt.ylabel('Sale Price')\n",
    "plt.show()"
   ]
  },
  {
   "cell_type": "code",
   "execution_count": null,
   "metadata": {
    "colab": {
     "base_uri": "https://localhost:8080/",
     "height": 279
    },
    "id": "dJUqUUHH197X",
    "outputId": "199038af-bb8c-4beb-8a89-19ec184bb719"
   },
   "outputs": [
    {
     "data": {
      "image/png": "[encoded data removed]",
      "text/plain": [
       "<Figure size 432x288 with 1 Axes>"
      ]
     },
     "metadata": {
      "needs_background": "light"
     },
     "output_type": "display_data"
    }
   ],
   "source": [
    "sns.violinplot(x='Sale_Condition', y = 'SalePrice', data = Ames_new)\n",
    "plt.xlabel('Sale Conditon')\n",
    "plt.ylabel('Sale Price')\n",
    "plt.show()"
   ]
  },
  {
   "cell_type": "markdown",
   "metadata": {
    "id": "GdhttWxeSQeH"
   },
   "source": [
    "### How does relationship change with the Year Sold."
   ]
  },
  {
   "cell_type": "code",
   "execution_count": null,
   "metadata": {
    "colab": {
     "base_uri": "https://localhost:8080/",
     "height": 295
    },
    "id": "cEgBsjbR6z9Q",
    "outputId": "04eb18a6-1044-49be-b107-69269a45c314"
   },
   "outputs": [
    {
     "data": {
      "image/png": "[encoded data removed]",
      "text/plain": [
       "<Figure size 432x288 with 1 Axes>"
      ]
     },
     "metadata": {
      "needs_background": "light"
     },
     "output_type": "display_data"
    }
   ],
   "source": [
    "sns.boxplot(x = 'Yr_Sold', y = 'SalePrice',  hue = 'Sale_Condition', data = Ames_new) \n",
    "plt.title('sale price according to sale condition between 2007 to 2010')\n",
    "plt.xlabel('Sale Condition')\n",
    "plt.ylabel('Sale Price')\n",
    "plt.show()"
   ]
  },
  {
   "cell_type": "markdown",
   "metadata": {
    "id": "Ws6hsTqW5sDz"
   },
   "source": [
    "## 3. Inference"
   ]
  },
  {
   "cell_type": "markdown",
   "metadata": {
    "id": "LVMcMuNO5sD0"
   },
   "source": [
    "Inference for the Difference Between Two Population Means\n"
   ]
  },
  {
   "cell_type": "markdown",
   "metadata": {
    "id": "GFzB6oWoQxAo"
   },
   "source": [
    "**Research Question:** Is there any association in the average Sale Price difference for two different Lot Shape?"
   ]
  },
  {
   "cell_type": "markdown",
   "metadata": {
    "id": "B6xn2qrEpjEk"
   },
   "source": [
    "we would like to determine if we have sufficient evidence to suggest that the average salesprice of all property sold in Iowa in REG lot.shape is different from the average salesprice of all property sold in Iowa in IR1 lot.shape."
   ]
  },
  {
   "cell_type": "markdown",
   "metadata": {
    "id": "9qQaO0DAqUO3"
   },
   "source": [
    "####3.1 Hypotheses"
   ]
  },
  {
   "cell_type": "markdown",
   "metadata": {
    "id": "QwjV50xKqd0V"
   },
   "source": [
    "$H_0: \\mu_{REG} - \\mu_{IR1} = 0$     \n",
    "\n",
    "\n",
    "\n",
    "$H_1: \\mu_{REG} - \\mu_{IR1} \\neq 0$  "
   ]
  },
  {
   "cell_type": "markdown",
   "metadata": {
    "id": "idrrn5GE7iwZ"
   },
   "source": [
    "####3.2 Data Processing"
   ]
  },
  {
   "cell_type": "code",
   "execution_count": null,
   "metadata": {
    "colab": {
     "base_uri": "https://localhost:8080/",
     "height": 488
    },
    "id": "bblghQ-d7olb",
    "outputId": "7f1f4b7a-cf96-40ad-90e0-a03b8dc38f0e"
   },
   "outputs": [
    {
     "data": {
      "text/html": [
       "\n",
       "  <div id=\"df-671ad45c-e73a-491a-9fa4-9ac25eb5a05f\">\n",
       "    <div class=\"colab-df-container\">\n",
       "      <div>\n",
       "<style scoped>\n",
       "    .dataframe tbody tr th:only-of-type {\n",
       "        vertical-align: middle;\n",
       "    }\n",
       "\n",
       "    .dataframe tbody tr th {\n",
       "        vertical-align: top;\n",
       "    }\n",
       "\n",
       "    .dataframe thead th {\n",
       "        text-align: right;\n",
       "    }\n",
       "</style>\n",
       "<table border=\"1\" class=\"dataframe\">\n",
       "  <thead>\n",
       "    <tr style=\"text-align: right;\">\n",
       "      <th></th>\n",
       "      <th>Order</th>\n",
       "      <th>PID</th>\n",
       "      <th>MS_SubClass</th>\n",
       "      <th>MS_Zoning</th>\n",
       "      <th>Lot_Frontage</th>\n",
       "      <th>Lot_Area</th>\n",
       "      <th>Street</th>\n",
       "      <th>Lot_Shape</th>\n",
       "      <th>Land_Contour</th>\n",
       "      <th>Utilities</th>\n",
       "      <th>...</th>\n",
       "      <th>Enclosed_Porch</th>\n",
       "      <th>X3Ssn_Porch</th>\n",
       "      <th>Screen_Porch</th>\n",
       "      <th>Pool_Area</th>\n",
       "      <th>Misc_Val</th>\n",
       "      <th>Mo_Sold</th>\n",
       "      <th>Yr_Sold</th>\n",
       "      <th>Sale_Type</th>\n",
       "      <th>Sale_Condition</th>\n",
       "      <th>SalePrice</th>\n",
       "    </tr>\n",
       "  </thead>\n",
       "  <tbody>\n",
       "    <tr>\n",
       "      <th>3</th>\n",
       "      <td>4</td>\n",
       "      <td>526353030</td>\n",
       "      <td>20</td>\n",
       "      <td>RL</td>\n",
       "      <td>93.0</td>\n",
       "      <td>11160</td>\n",
       "      <td>Pave</td>\n",
       "      <td>Reg</td>\n",
       "      <td>Lvl</td>\n",
       "      <td>AllPub</td>\n",
       "      <td>...</td>\n",
       "      <td>0</td>\n",
       "      <td>0</td>\n",
       "      <td>0</td>\n",
       "      <td>0</td>\n",
       "      <td>0</td>\n",
       "      <td>4</td>\n",
       "      <td>2010</td>\n",
       "      <td>WD</td>\n",
       "      <td>Normal</td>\n",
       "      <td>244000</td>\n",
       "    </tr>\n",
       "    <tr>\n",
       "      <th>9</th>\n",
       "      <td>10</td>\n",
       "      <td>527162130</td>\n",
       "      <td>60</td>\n",
       "      <td>RL</td>\n",
       "      <td>60.0</td>\n",
       "      <td>7500</td>\n",
       "      <td>Pave</td>\n",
       "      <td>Reg</td>\n",
       "      <td>Lvl</td>\n",
       "      <td>AllPub</td>\n",
       "      <td>...</td>\n",
       "      <td>0</td>\n",
       "      <td>0</td>\n",
       "      <td>0</td>\n",
       "      <td>0</td>\n",
       "      <td>0</td>\n",
       "      <td>6</td>\n",
       "      <td>2010</td>\n",
       "      <td>WD</td>\n",
       "      <td>Normal</td>\n",
       "      <td>189000</td>\n",
       "    </tr>\n",
       "    <tr>\n",
       "      <th>13</th>\n",
       "      <td>14</td>\n",
       "      <td>527180040</td>\n",
       "      <td>20</td>\n",
       "      <td>RL</td>\n",
       "      <td>85.0</td>\n",
       "      <td>10176</td>\n",
       "      <td>Pave</td>\n",
       "      <td>Reg</td>\n",
       "      <td>Lvl</td>\n",
       "      <td>AllPub</td>\n",
       "      <td>...</td>\n",
       "      <td>0</td>\n",
       "      <td>0</td>\n",
       "      <td>0</td>\n",
       "      <td>0</td>\n",
       "      <td>0</td>\n",
       "      <td>2</td>\n",
       "      <td>2010</td>\n",
       "      <td>WD</td>\n",
       "      <td>Normal</td>\n",
       "      <td>171500</td>\n",
       "    </tr>\n",
       "    <tr>\n",
       "      <th>17</th>\n",
       "      <td>18</td>\n",
       "      <td>527258010</td>\n",
       "      <td>20</td>\n",
       "      <td>RL</td>\n",
       "      <td>88.0</td>\n",
       "      <td>11394</td>\n",
       "      <td>Pave</td>\n",
       "      <td>Reg</td>\n",
       "      <td>Lvl</td>\n",
       "      <td>AllPub</td>\n",
       "      <td>...</td>\n",
       "      <td>0</td>\n",
       "      <td>0</td>\n",
       "      <td>0</td>\n",
       "      <td>0</td>\n",
       "      <td>0</td>\n",
       "      <td>6</td>\n",
       "      <td>2010</td>\n",
       "      <td>New</td>\n",
       "      <td>Partial</td>\n",
       "      <td>394432</td>\n",
       "    </tr>\n",
       "    <tr>\n",
       "      <th>19</th>\n",
       "      <td>20</td>\n",
       "      <td>527302110</td>\n",
       "      <td>20</td>\n",
       "      <td>RL</td>\n",
       "      <td>85.0</td>\n",
       "      <td>13175</td>\n",
       "      <td>Pave</td>\n",
       "      <td>Reg</td>\n",
       "      <td>Lvl</td>\n",
       "      <td>AllPub</td>\n",
       "      <td>...</td>\n",
       "      <td>0</td>\n",
       "      <td>0</td>\n",
       "      <td>0</td>\n",
       "      <td>0</td>\n",
       "      <td>0</td>\n",
       "      <td>2</td>\n",
       "      <td>2010</td>\n",
       "      <td>WD</td>\n",
       "      <td>Normal</td>\n",
       "      <td>210000</td>\n",
       "    </tr>\n",
       "    <tr>\n",
       "      <th>...</th>\n",
       "      <td>...</td>\n",
       "      <td>...</td>\n",
       "      <td>...</td>\n",
       "      <td>...</td>\n",
       "      <td>...</td>\n",
       "      <td>...</td>\n",
       "      <td>...</td>\n",
       "      <td>...</td>\n",
       "      <td>...</td>\n",
       "      <td>...</td>\n",
       "      <td>...</td>\n",
       "      <td>...</td>\n",
       "      <td>...</td>\n",
       "      <td>...</td>\n",
       "      <td>...</td>\n",
       "      <td>...</td>\n",
       "      <td>...</td>\n",
       "      <td>...</td>\n",
       "      <td>...</td>\n",
       "      <td>...</td>\n",
       "      <td>...</td>\n",
       "    </tr>\n",
       "    <tr>\n",
       "      <th>2915</th>\n",
       "      <td>2916</td>\n",
       "      <td>923227100</td>\n",
       "      <td>20</td>\n",
       "      <td>RL</td>\n",
       "      <td>80.0</td>\n",
       "      <td>13384</td>\n",
       "      <td>Pave</td>\n",
       "      <td>Reg</td>\n",
       "      <td>Lvl</td>\n",
       "      <td>AllPub</td>\n",
       "      <td>...</td>\n",
       "      <td>0</td>\n",
       "      <td>0</td>\n",
       "      <td>0</td>\n",
       "      <td>0</td>\n",
       "      <td>0</td>\n",
       "      <td>5</td>\n",
       "      <td>2006</td>\n",
       "      <td>WD</td>\n",
       "      <td>Normal</td>\n",
       "      <td>140000</td>\n",
       "    </tr>\n",
       "    <tr>\n",
       "      <th>2923</th>\n",
       "      <td>2924</td>\n",
       "      <td>923250060</td>\n",
       "      <td>20</td>\n",
       "      <td>RL</td>\n",
       "      <td>80.0</td>\n",
       "      <td>17400</td>\n",
       "      <td>Pave</td>\n",
       "      <td>Reg</td>\n",
       "      <td>Low</td>\n",
       "      <td>AllPub</td>\n",
       "      <td>...</td>\n",
       "      <td>0</td>\n",
       "      <td>0</td>\n",
       "      <td>0</td>\n",
       "      <td>0</td>\n",
       "      <td>0</td>\n",
       "      <td>5</td>\n",
       "      <td>2006</td>\n",
       "      <td>WD</td>\n",
       "      <td>Normal</td>\n",
       "      <td>160000</td>\n",
       "    </tr>\n",
       "    <tr>\n",
       "      <th>2924</th>\n",
       "      <td>2925</td>\n",
       "      <td>923251180</td>\n",
       "      <td>20</td>\n",
       "      <td>RL</td>\n",
       "      <td>160.0</td>\n",
       "      <td>20000</td>\n",
       "      <td>Pave</td>\n",
       "      <td>Reg</td>\n",
       "      <td>Lvl</td>\n",
       "      <td>AllPub</td>\n",
       "      <td>...</td>\n",
       "      <td>0</td>\n",
       "      <td>0</td>\n",
       "      <td>0</td>\n",
       "      <td>0</td>\n",
       "      <td>0</td>\n",
       "      <td>9</td>\n",
       "      <td>2006</td>\n",
       "      <td>WD</td>\n",
       "      <td>Abnorml</td>\n",
       "      <td>131000</td>\n",
       "    </tr>\n",
       "    <tr>\n",
       "      <th>2928</th>\n",
       "      <td>2929</td>\n",
       "      <td>924100070</td>\n",
       "      <td>20</td>\n",
       "      <td>RL</td>\n",
       "      <td>77.0</td>\n",
       "      <td>10010</td>\n",
       "      <td>Pave</td>\n",
       "      <td>Reg</td>\n",
       "      <td>Lvl</td>\n",
       "      <td>AllPub</td>\n",
       "      <td>...</td>\n",
       "      <td>0</td>\n",
       "      <td>0</td>\n",
       "      <td>0</td>\n",
       "      <td>0</td>\n",
       "      <td>0</td>\n",
       "      <td>4</td>\n",
       "      <td>2006</td>\n",
       "      <td>WD</td>\n",
       "      <td>Normal</td>\n",
       "      <td>170000</td>\n",
       "    </tr>\n",
       "    <tr>\n",
       "      <th>2929</th>\n",
       "      <td>2930</td>\n",
       "      <td>924151050</td>\n",
       "      <td>60</td>\n",
       "      <td>RL</td>\n",
       "      <td>74.0</td>\n",
       "      <td>9627</td>\n",
       "      <td>Pave</td>\n",
       "      <td>Reg</td>\n",
       "      <td>Lvl</td>\n",
       "      <td>AllPub</td>\n",
       "      <td>...</td>\n",
       "      <td>0</td>\n",
       "      <td>0</td>\n",
       "      <td>0</td>\n",
       "      <td>0</td>\n",
       "      <td>0</td>\n",
       "      <td>11</td>\n",
       "      <td>2006</td>\n",
       "      <td>WD</td>\n",
       "      <td>Normal</td>\n",
       "      <td>188000</td>\n",
       "    </tr>\n",
       "  </tbody>\n",
       "</table>\n",
       "<p>689 rows × 78 columns</p>\n",
       "</div>\n",
       "      <button class=\"colab-df-convert\" onclick=\"convertToInteractive('df-671ad45c-e73a-491a-9fa4-9ac25eb5a05f')\"\n",
       "              title=\"Convert this dataframe to an interactive table.\"\n",
       "              style=\"display:none;\">\n",
       "        \n",
       "  <svg xmlns=\"http://www.w3.org/2000/svg\" height=\"24px\"viewBox=\"0 0 24 24\"\n",
       "       width=\"24px\">\n",
       "    <path d=\"M0 0h24v24H0V0z\" fill=\"none\"/>\n",
       "    <path d=\"M18.56 5.44l.94 2.06.94-2.06 2.06-.94-2.06-.94-.94-2.06-.94 2.06-2.06.94zm-11 1L8.5 8.5l.94-2.06 2.06-.94-2.06-.94L8.5 2.5l-.94 2.06-2.06.94zm10 10l.94 2.06.94-2.06 2.06-.94-2.06-.94-.94-2.06-.94 2.06-2.06.94z\"/><path d=\"M17.41 7.96l-1.37-1.37c-.4-.4-.92-.59-1.43-.59-.52 0-1.04.2-1.43.59L10.3 9.45l-7.72 7.72c-.78.78-.78 2.05 0 2.83L4 21.41c.39.39.9.59 1.41.59.51 0 1.02-.2 1.41-.59l7.78-7.78 2.81-2.81c.8-.78.8-2.07 0-2.86zM5.41 20L4 18.59l7.72-7.72 1.47 1.35L5.41 20z\"/>\n",
       "  </svg>\n",
       "      </button>\n",
       "      \n",
       "  <style>\n",
       "    .colab-df-container {\n",
       "      display:flex;\n",
       "      flex-wrap:wrap;\n",
       "      gap: 12px;\n",
       "    }\n",
       "\n",
       "    .colab-df-convert {\n",
       "      background-color: #E8F0FE;\n",
       "      border: none;\n",
       "      border-radius: 50%;\n",
       "      cursor: pointer;\n",
       "      display: none;\n",
       "      fill: #1967D2;\n",
       "      height: 32px;\n",
       "      padding: 0 0 0 0;\n",
       "      width: 32px;\n",
       "    }\n",
       "\n",
       "    .colab-df-convert:hover {\n",
       "      background-color: #E2EBFA;\n",
       "      box-shadow: 0px 1px 2px rgba(60, 64, 67, 0.3), 0px 1px 3px 1px rgba(60, 64, 67, 0.15);\n",
       "      fill: #174EA6;\n",
       "    }\n",
       "\n",
       "    [theme=dark] .colab-df-convert {\n",
       "      background-color: #3B4455;\n",
       "      fill: #D2E3FC;\n",
       "    }\n",
       "\n",
       "    [theme=dark] .colab-df-convert:hover {\n",
       "      background-color: #434B5C;\n",
       "      box-shadow: 0px 1px 3px 1px rgba(0, 0, 0, 0.15);\n",
       "      filter: drop-shadow(0px 1px 2px rgba(0, 0, 0, 0.3));\n",
       "      fill: #FFFFFF;\n",
       "    }\n",
       "  </style>\n",
       "\n",
       "      <script>\n",
       "        const buttonEl =\n",
       "          document.querySelector('#df-671ad45c-e73a-491a-9fa4-9ac25eb5a05f button.colab-df-convert');\n",
       "        buttonEl.style.display =\n",
       "          google.colab.kernel.accessAllowed ? 'block' : 'none';\n",
       "\n",
       "        async function convertToInteractive(key) {\n",
       "          const element = document.querySelector('#df-671ad45c-e73a-491a-9fa4-9ac25eb5a05f');\n",
       "          const dataTable =\n",
       "            await google.colab.kernel.invokeFunction('convertToInteractive',\n",
       "                                                     [key], {});\n",
       "          if (!dataTable) return;\n",
       "\n",
       "          const docLinkHtml = 'Like what you see? Visit the ' +\n",
       "            '<a target=\"_blank\" href=https://colab.research.google.com/notebooks/data_table.ipynb>data table notebook</a>'\n",
       "            + ' to learn more about interactive tables.';\n",
       "          element.innerHTML = '';\n",
       "          dataTable['output_type'] = 'display_data';\n",
       "          await google.colab.output.renderOutput(dataTable, element);\n",
       "          const docLink = document.createElement('div');\n",
       "          docLink.innerHTML = docLinkHtml;\n",
       "          element.appendChild(docLink);\n",
       "        }\n",
       "      </script>\n",
       "    </div>\n",
       "  </div>\n",
       "  "
      ],
      "text/plain": [
       "      Order        PID  MS_SubClass MS_Zoning  Lot_Frontage  Lot_Area Street  \\\n",
       "3         4  526353030           20        RL          93.0     11160   Pave   \n",
       "9        10  527162130           60        RL          60.0      7500   Pave   \n",
       "13       14  527180040           20        RL          85.0     10176   Pave   \n",
       "17       18  527258010           20        RL          88.0     11394   Pave   \n",
       "19       20  527302110           20        RL          85.0     13175   Pave   \n",
       "...     ...        ...          ...       ...           ...       ...    ...   \n",
       "2915   2916  923227100           20        RL          80.0     13384   Pave   \n",
       "2923   2924  923250060           20        RL          80.0     17400   Pave   \n",
       "2924   2925  923251180           20        RL         160.0     20000   Pave   \n",
       "2928   2929  924100070           20        RL          77.0     10010   Pave   \n",
       "2929   2930  924151050           60        RL          74.0      9627   Pave   \n",
       "\n",
       "     Lot_Shape Land_Contour Utilities  ... Enclosed_Porch X3Ssn_Porch  \\\n",
       "3          Reg          Lvl    AllPub  ...              0           0   \n",
       "9          Reg          Lvl    AllPub  ...              0           0   \n",
       "13         Reg          Lvl    AllPub  ...              0           0   \n",
       "17         Reg          Lvl    AllPub  ...              0           0   \n",
       "19         Reg          Lvl    AllPub  ...              0           0   \n",
       "...        ...          ...       ...  ...            ...         ...   \n",
       "2915       Reg          Lvl    AllPub  ...              0           0   \n",
       "2923       Reg          Low    AllPub  ...              0           0   \n",
       "2924       Reg          Lvl    AllPub  ...              0           0   \n",
       "2928       Reg          Lvl    AllPub  ...              0           0   \n",
       "2929       Reg          Lvl    AllPub  ...              0           0   \n",
       "\n",
       "     Screen_Porch Pool_Area Misc_Val Mo_Sold Yr_Sold  Sale_Type  \\\n",
       "3               0         0        0       4    2010        WD    \n",
       "9               0         0        0       6    2010        WD    \n",
       "13              0         0        0       2    2010        WD    \n",
       "17              0         0        0       6    2010        New   \n",
       "19              0         0        0       2    2010        WD    \n",
       "...           ...       ...      ...     ...     ...        ...   \n",
       "2915            0         0        0       5    2006        WD    \n",
       "2923            0         0        0       5    2006        WD    \n",
       "2924            0         0        0       9    2006        WD    \n",
       "2928            0         0        0       4    2006        WD    \n",
       "2929            0         0        0      11    2006        WD    \n",
       "\n",
       "      Sale_Condition  SalePrice  \n",
       "3             Normal     244000  \n",
       "9             Normal     189000  \n",
       "13            Normal     171500  \n",
       "17           Partial     394432  \n",
       "19            Normal     210000  \n",
       "...              ...        ...  \n",
       "2915          Normal     140000  \n",
       "2923          Normal     160000  \n",
       "2924         Abnorml     131000  \n",
       "2928          Normal     170000  \n",
       "2929          Normal     188000  \n",
       "\n",
       "[689 rows x 78 columns]"
      ]
     },
     "execution_count": 22,
     "metadata": {},
     "output_type": "execute_result"
    }
   ],
   "source": [
    "reg_df = Ames_new[Ames_new['Lot_Shape'] == 'Reg']\n",
    "reg_df"
   ]
  },
  {
   "cell_type": "code",
   "execution_count": null,
   "metadata": {
    "colab": {
     "base_uri": "https://localhost:8080/",
     "height": 488
    },
    "id": "sjhNDoNC7orT",
    "outputId": "3dda3626-35d4-4686-ca40-46c0e4760228"
   },
   "outputs": [
    {
     "data": {
      "text/html": [
       "\n",
       "  <div id=\"df-dcededa6-76d5-42fb-8af4-0eb199655c05\">\n",
       "    <div class=\"colab-df-container\">\n",
       "      <div>\n",
       "<style scoped>\n",
       "    .dataframe tbody tr th:only-of-type {\n",
       "        vertical-align: middle;\n",
       "    }\n",
       "\n",
       "    .dataframe tbody tr th {\n",
       "        vertical-align: top;\n",
       "    }\n",
       "\n",
       "    .dataframe thead th {\n",
       "        text-align: right;\n",
       "    }\n",
       "</style>\n",
       "<table border=\"1\" class=\"dataframe\">\n",
       "  <thead>\n",
       "    <tr style=\"text-align: right;\">\n",
       "      <th></th>\n",
       "      <th>Order</th>\n",
       "      <th>PID</th>\n",
       "      <th>MS_SubClass</th>\n",
       "      <th>MS_Zoning</th>\n",
       "      <th>Lot_Frontage</th>\n",
       "      <th>Lot_Area</th>\n",
       "      <th>Street</th>\n",
       "      <th>Lot_Shape</th>\n",
       "      <th>Land_Contour</th>\n",
       "      <th>Utilities</th>\n",
       "      <th>...</th>\n",
       "      <th>Enclosed_Porch</th>\n",
       "      <th>X3Ssn_Porch</th>\n",
       "      <th>Screen_Porch</th>\n",
       "      <th>Pool_Area</th>\n",
       "      <th>Misc_Val</th>\n",
       "      <th>Mo_Sold</th>\n",
       "      <th>Yr_Sold</th>\n",
       "      <th>Sale_Type</th>\n",
       "      <th>Sale_Condition</th>\n",
       "      <th>SalePrice</th>\n",
       "    </tr>\n",
       "  </thead>\n",
       "  <tbody>\n",
       "    <tr>\n",
       "      <th>0</th>\n",
       "      <td>1</td>\n",
       "      <td>526301100</td>\n",
       "      <td>20</td>\n",
       "      <td>RL</td>\n",
       "      <td>141.0</td>\n",
       "      <td>31770</td>\n",
       "      <td>Pave</td>\n",
       "      <td>IR1</td>\n",
       "      <td>Lvl</td>\n",
       "      <td>AllPub</td>\n",
       "      <td>...</td>\n",
       "      <td>0</td>\n",
       "      <td>0</td>\n",
       "      <td>0</td>\n",
       "      <td>0</td>\n",
       "      <td>0</td>\n",
       "      <td>5</td>\n",
       "      <td>2010</td>\n",
       "      <td>WD</td>\n",
       "      <td>Normal</td>\n",
       "      <td>215000</td>\n",
       "    </tr>\n",
       "    <tr>\n",
       "      <th>4</th>\n",
       "      <td>5</td>\n",
       "      <td>527105010</td>\n",
       "      <td>60</td>\n",
       "      <td>RL</td>\n",
       "      <td>74.0</td>\n",
       "      <td>13830</td>\n",
       "      <td>Pave</td>\n",
       "      <td>IR1</td>\n",
       "      <td>Lvl</td>\n",
       "      <td>AllPub</td>\n",
       "      <td>...</td>\n",
       "      <td>0</td>\n",
       "      <td>0</td>\n",
       "      <td>0</td>\n",
       "      <td>0</td>\n",
       "      <td>0</td>\n",
       "      <td>3</td>\n",
       "      <td>2010</td>\n",
       "      <td>WD</td>\n",
       "      <td>Normal</td>\n",
       "      <td>189900</td>\n",
       "    </tr>\n",
       "    <tr>\n",
       "      <th>5</th>\n",
       "      <td>6</td>\n",
       "      <td>527105030</td>\n",
       "      <td>60</td>\n",
       "      <td>RL</td>\n",
       "      <td>78.0</td>\n",
       "      <td>9978</td>\n",
       "      <td>Pave</td>\n",
       "      <td>IR1</td>\n",
       "      <td>Lvl</td>\n",
       "      <td>AllPub</td>\n",
       "      <td>...</td>\n",
       "      <td>0</td>\n",
       "      <td>0</td>\n",
       "      <td>0</td>\n",
       "      <td>0</td>\n",
       "      <td>0</td>\n",
       "      <td>6</td>\n",
       "      <td>2010</td>\n",
       "      <td>WD</td>\n",
       "      <td>Normal</td>\n",
       "      <td>195500</td>\n",
       "    </tr>\n",
       "    <tr>\n",
       "      <th>8</th>\n",
       "      <td>9</td>\n",
       "      <td>527146030</td>\n",
       "      <td>120</td>\n",
       "      <td>RL</td>\n",
       "      <td>39.0</td>\n",
       "      <td>5389</td>\n",
       "      <td>Pave</td>\n",
       "      <td>IR1</td>\n",
       "      <td>Lvl</td>\n",
       "      <td>AllPub</td>\n",
       "      <td>...</td>\n",
       "      <td>0</td>\n",
       "      <td>0</td>\n",
       "      <td>0</td>\n",
       "      <td>0</td>\n",
       "      <td>0</td>\n",
       "      <td>3</td>\n",
       "      <td>2010</td>\n",
       "      <td>WD</td>\n",
       "      <td>Normal</td>\n",
       "      <td>236500</td>\n",
       "    </tr>\n",
       "    <tr>\n",
       "      <th>10</th>\n",
       "      <td>11</td>\n",
       "      <td>527163010</td>\n",
       "      <td>60</td>\n",
       "      <td>RL</td>\n",
       "      <td>75.0</td>\n",
       "      <td>10000</td>\n",
       "      <td>Pave</td>\n",
       "      <td>IR1</td>\n",
       "      <td>Lvl</td>\n",
       "      <td>AllPub</td>\n",
       "      <td>...</td>\n",
       "      <td>0</td>\n",
       "      <td>0</td>\n",
       "      <td>0</td>\n",
       "      <td>0</td>\n",
       "      <td>0</td>\n",
       "      <td>4</td>\n",
       "      <td>2010</td>\n",
       "      <td>WD</td>\n",
       "      <td>Normal</td>\n",
       "      <td>175900</td>\n",
       "    </tr>\n",
       "    <tr>\n",
       "      <th>...</th>\n",
       "      <td>...</td>\n",
       "      <td>...</td>\n",
       "      <td>...</td>\n",
       "      <td>...</td>\n",
       "      <td>...</td>\n",
       "      <td>...</td>\n",
       "      <td>...</td>\n",
       "      <td>...</td>\n",
       "      <td>...</td>\n",
       "      <td>...</td>\n",
       "      <td>...</td>\n",
       "      <td>...</td>\n",
       "      <td>...</td>\n",
       "      <td>...</td>\n",
       "      <td>...</td>\n",
       "      <td>...</td>\n",
       "      <td>...</td>\n",
       "      <td>...</td>\n",
       "      <td>...</td>\n",
       "      <td>...</td>\n",
       "      <td>...</td>\n",
       "    </tr>\n",
       "    <tr>\n",
       "      <th>2884</th>\n",
       "      <td>2885</td>\n",
       "      <td>911370530</td>\n",
       "      <td>120</td>\n",
       "      <td>RM</td>\n",
       "      <td>44.0</td>\n",
       "      <td>3842</td>\n",
       "      <td>Pave</td>\n",
       "      <td>IR1</td>\n",
       "      <td>HLS</td>\n",
       "      <td>AllPub</td>\n",
       "      <td>...</td>\n",
       "      <td>0</td>\n",
       "      <td>0</td>\n",
       "      <td>155</td>\n",
       "      <td>0</td>\n",
       "      <td>0</td>\n",
       "      <td>12</td>\n",
       "      <td>2006</td>\n",
       "      <td>WD</td>\n",
       "      <td>Normal</td>\n",
       "      <td>300000</td>\n",
       "    </tr>\n",
       "    <tr>\n",
       "      <th>2885</th>\n",
       "      <td>2886</td>\n",
       "      <td>913350030</td>\n",
       "      <td>20</td>\n",
       "      <td>RL</td>\n",
       "      <td>69.0</td>\n",
       "      <td>23580</td>\n",
       "      <td>Pave</td>\n",
       "      <td>IR1</td>\n",
       "      <td>Lvl</td>\n",
       "      <td>AllPub</td>\n",
       "      <td>...</td>\n",
       "      <td>0</td>\n",
       "      <td>0</td>\n",
       "      <td>0</td>\n",
       "      <td>0</td>\n",
       "      <td>0</td>\n",
       "      <td>9</td>\n",
       "      <td>2006</td>\n",
       "      <td>WD</td>\n",
       "      <td>Normal</td>\n",
       "      <td>242500</td>\n",
       "    </tr>\n",
       "    <tr>\n",
       "      <th>2891</th>\n",
       "      <td>2892</td>\n",
       "      <td>916225130</td>\n",
       "      <td>60</td>\n",
       "      <td>RL</td>\n",
       "      <td>42.0</td>\n",
       "      <td>26178</td>\n",
       "      <td>Pave</td>\n",
       "      <td>IR1</td>\n",
       "      <td>Lvl</td>\n",
       "      <td>AllPub</td>\n",
       "      <td>...</td>\n",
       "      <td>0</td>\n",
       "      <td>0</td>\n",
       "      <td>0</td>\n",
       "      <td>0</td>\n",
       "      <td>0</td>\n",
       "      <td>4</td>\n",
       "      <td>2006</td>\n",
       "      <td>WD</td>\n",
       "      <td>Normal</td>\n",
       "      <td>335000</td>\n",
       "    </tr>\n",
       "    <tr>\n",
       "      <th>2895</th>\n",
       "      <td>2896</td>\n",
       "      <td>916402125</td>\n",
       "      <td>20</td>\n",
       "      <td>RL</td>\n",
       "      <td>54.0</td>\n",
       "      <td>13811</td>\n",
       "      <td>Pave</td>\n",
       "      <td>IR1</td>\n",
       "      <td>Lvl</td>\n",
       "      <td>AllPub</td>\n",
       "      <td>...</td>\n",
       "      <td>0</td>\n",
       "      <td>0</td>\n",
       "      <td>0</td>\n",
       "      <td>0</td>\n",
       "      <td>0</td>\n",
       "      <td>7</td>\n",
       "      <td>2006</td>\n",
       "      <td>WD</td>\n",
       "      <td>Normal</td>\n",
       "      <td>176000</td>\n",
       "    </tr>\n",
       "    <tr>\n",
       "      <th>2896</th>\n",
       "      <td>2897</td>\n",
       "      <td>916403020</td>\n",
       "      <td>20</td>\n",
       "      <td>RL</td>\n",
       "      <td>50.0</td>\n",
       "      <td>8049</td>\n",
       "      <td>Pave</td>\n",
       "      <td>IR1</td>\n",
       "      <td>Lvl</td>\n",
       "      <td>AllPub</td>\n",
       "      <td>...</td>\n",
       "      <td>0</td>\n",
       "      <td>0</td>\n",
       "      <td>90</td>\n",
       "      <td>0</td>\n",
       "      <td>0</td>\n",
       "      <td>7</td>\n",
       "      <td>2006</td>\n",
       "      <td>WD</td>\n",
       "      <td>Normal</td>\n",
       "      <td>180000</td>\n",
       "    </tr>\n",
       "  </tbody>\n",
       "</table>\n",
       "<p>431 rows × 78 columns</p>\n",
       "</div>\n",
       "      <button class=\"colab-df-convert\" onclick=\"convertToInteractive('df-dcededa6-76d5-42fb-8af4-0eb199655c05')\"\n",
       "              title=\"Convert this dataframe to an interactive table.\"\n",
       "              style=\"display:none;\">\n",
       "        \n",
       "  <svg xmlns=\"http://www.w3.org/2000/svg\" height=\"24px\"viewBox=\"0 0 24 24\"\n",
       "       width=\"24px\">\n",
       "    <path d=\"M0 0h24v24H0V0z\" fill=\"none\"/>\n",
       "    <path d=\"M18.56 5.44l.94 2.06.94-2.06 2.06-.94-2.06-.94-.94-2.06-.94 2.06-2.06.94zm-11 1L8.5 8.5l.94-2.06 2.06-.94-2.06-.94L8.5 2.5l-.94 2.06-2.06.94zm10 10l.94 2.06.94-2.06 2.06-.94-2.06-.94-.94-2.06-.94 2.06-2.06.94z\"/><path d=\"M17.41 7.96l-1.37-1.37c-.4-.4-.92-.59-1.43-.59-.52 0-1.04.2-1.43.59L10.3 9.45l-7.72 7.72c-.78.78-.78 2.05 0 2.83L4 21.41c.39.39.9.59 1.41.59.51 0 1.02-.2 1.41-.59l7.78-7.78 2.81-2.81c.8-.78.8-2.07 0-2.86zM5.41 20L4 18.59l7.72-7.72 1.47 1.35L5.41 20z\"/>\n",
       "  </svg>\n",
       "      </button>\n",
       "      \n",
       "  <style>\n",
       "    .colab-df-container {\n",
       "      display:flex;\n",
       "      flex-wrap:wrap;\n",
       "      gap: 12px;\n",
       "    }\n",
       "\n",
       "    .colab-df-convert {\n",
       "      background-color: #E8F0FE;\n",
       "      border: none;\n",
       "      border-radius: 50%;\n",
       "      cursor: pointer;\n",
       "      display: none;\n",
       "      fill: #1967D2;\n",
       "      height: 32px;\n",
       "      padding: 0 0 0 0;\n",
       "      width: 32px;\n",
       "    }\n",
       "\n",
       "    .colab-df-convert:hover {\n",
       "      background-color: #E2EBFA;\n",
       "      box-shadow: 0px 1px 2px rgba(60, 64, 67, 0.3), 0px 1px 3px 1px rgba(60, 64, 67, 0.15);\n",
       "      fill: #174EA6;\n",
       "    }\n",
       "\n",
       "    [theme=dark] .colab-df-convert {\n",
       "      background-color: #3B4455;\n",
       "      fill: #D2E3FC;\n",
       "    }\n",
       "\n",
       "    [theme=dark] .colab-df-convert:hover {\n",
       "      background-color: #434B5C;\n",
       "      box-shadow: 0px 1px 3px 1px rgba(0, 0, 0, 0.15);\n",
       "      filter: drop-shadow(0px 1px 2px rgba(0, 0, 0, 0.3));\n",
       "      fill: #FFFFFF;\n",
       "    }\n",
       "  </style>\n",
       "\n",
       "      <script>\n",
       "        const buttonEl =\n",
       "          document.querySelector('#df-dcededa6-76d5-42fb-8af4-0eb199655c05 button.colab-df-convert');\n",
       "        buttonEl.style.display =\n",
       "          google.colab.kernel.accessAllowed ? 'block' : 'none';\n",
       "\n",
       "        async function convertToInteractive(key) {\n",
       "          const element = document.querySelector('#df-dcededa6-76d5-42fb-8af4-0eb199655c05');\n",
       "          const dataTable =\n",
       "            await google.colab.kernel.invokeFunction('convertToInteractive',\n",
       "                                                     [key], {});\n",
       "          if (!dataTable) return;\n",
       "\n",
       "          const docLinkHtml = 'Like what you see? Visit the ' +\n",
       "            '<a target=\"_blank\" href=https://colab.research.google.com/notebooks/data_table.ipynb>data table notebook</a>'\n",
       "            + ' to learn more about interactive tables.';\n",
       "          element.innerHTML = '';\n",
       "          dataTable['output_type'] = 'display_data';\n",
       "          await google.colab.output.renderOutput(dataTable, element);\n",
       "          const docLink = document.createElement('div');\n",
       "          docLink.innerHTML = docLinkHtml;\n",
       "          element.appendChild(docLink);\n",
       "        }\n",
       "      </script>\n",
       "    </div>\n",
       "  </div>\n",
       "  "
      ],
      "text/plain": [
       "      Order        PID  MS_SubClass MS_Zoning  Lot_Frontage  Lot_Area Street  \\\n",
       "0         1  526301100           20        RL         141.0     31770   Pave   \n",
       "4         5  527105010           60        RL          74.0     13830   Pave   \n",
       "5         6  527105030           60        RL          78.0      9978   Pave   \n",
       "8         9  527146030          120        RL          39.0      5389   Pave   \n",
       "10       11  527163010           60        RL          75.0     10000   Pave   \n",
       "...     ...        ...          ...       ...           ...       ...    ...   \n",
       "2884   2885  911370530          120        RM          44.0      3842   Pave   \n",
       "2885   2886  913350030           20        RL          69.0     23580   Pave   \n",
       "2891   2892  916225130           60        RL          42.0     26178   Pave   \n",
       "2895   2896  916402125           20        RL          54.0     13811   Pave   \n",
       "2896   2897  916403020           20        RL          50.0      8049   Pave   \n",
       "\n",
       "     Lot_Shape Land_Contour Utilities  ... Enclosed_Porch X3Ssn_Porch  \\\n",
       "0          IR1          Lvl    AllPub  ...              0           0   \n",
       "4          IR1          Lvl    AllPub  ...              0           0   \n",
       "5          IR1          Lvl    AllPub  ...              0           0   \n",
       "8          IR1          Lvl    AllPub  ...              0           0   \n",
       "10         IR1          Lvl    AllPub  ...              0           0   \n",
       "...        ...          ...       ...  ...            ...         ...   \n",
       "2884       IR1          HLS    AllPub  ...              0           0   \n",
       "2885       IR1          Lvl    AllPub  ...              0           0   \n",
       "2891       IR1          Lvl    AllPub  ...              0           0   \n",
       "2895       IR1          Lvl    AllPub  ...              0           0   \n",
       "2896       IR1          Lvl    AllPub  ...              0           0   \n",
       "\n",
       "     Screen_Porch Pool_Area Misc_Val Mo_Sold Yr_Sold  Sale_Type  \\\n",
       "0               0         0        0       5    2010        WD    \n",
       "4               0         0        0       3    2010        WD    \n",
       "5               0         0        0       6    2010        WD    \n",
       "8               0         0        0       3    2010        WD    \n",
       "10              0         0        0       4    2010        WD    \n",
       "...           ...       ...      ...     ...     ...        ...   \n",
       "2884          155         0        0      12    2006        WD    \n",
       "2885            0         0        0       9    2006        WD    \n",
       "2891            0         0        0       4    2006        WD    \n",
       "2895            0         0        0       7    2006        WD    \n",
       "2896           90         0        0       7    2006        WD    \n",
       "\n",
       "      Sale_Condition  SalePrice  \n",
       "0             Normal     215000  \n",
       "4             Normal     189900  \n",
       "5             Normal     195500  \n",
       "8             Normal     236500  \n",
       "10            Normal     175900  \n",
       "...              ...        ...  \n",
       "2884          Normal     300000  \n",
       "2885          Normal     242500  \n",
       "2891          Normal     335000  \n",
       "2895          Normal     176000  \n",
       "2896          Normal     180000  \n",
       "\n",
       "[431 rows x 78 columns]"
      ]
     },
     "execution_count": 23,
     "metadata": {},
     "output_type": "execute_result"
    }
   ],
   "source": [
    "ir1_df = Ames_new[Ames_new['Lot_Shape'] == 'IR1']\n",
    "ir1_df #we could use all the IR together in "
   ]
  },
  {
   "cell_type": "code",
   "execution_count": null,
   "metadata": {
    "colab": {
     "base_uri": "https://localhost:8080/"
    },
    "id": "6QMpackj7oyO",
    "outputId": "22def819-de74-41d8-e7cc-8733c64e9a52"
   },
   "outputs": [
    {
     "data": {
      "text/plain": [
       "-51282.132674881024"
      ]
     },
     "execution_count": 24,
     "metadata": {},
     "output_type": "execute_result"
    }
   ],
   "source": [
    "sample_mean_price_diff = reg_df['SalePrice'].mean() - ir1_df['SalePrice'].mean()\n",
    "sample_mean_price_diff "
   ]
  },
  {
   "cell_type": "code",
   "execution_count": null,
   "metadata": {
    "colab": {
     "base_uri": "https://localhost:8080/"
    },
    "id": "4K9Jt0WR8uEa",
    "outputId": "8b3a627c-d5b1-4d39-bb3c-0940b1976cd1"
   },
   "outputs": [
    {
     "data": {
      "text/plain": [
       "5644.555209704696"
      ]
     },
     "execution_count": 25,
     "metadata": {},
     "output_type": "execute_result"
    }
   ],
   "source": [
    "sample_std = np.sqrt(((reg_df['SalePrice'].std()**2)/689) + ((ir1_df['SalePrice'].std()**2)/431))\n",
    "sample_std"
   ]
  },
  {
   "cell_type": "markdown",
   "metadata": {
    "id": "kWlhaV04qqXx"
   },
   "source": [
    "####3.3 Conditions for Inference"
   ]
  },
  {
   "cell_type": "markdown",
   "metadata": {
    "id": "1GRi0teqrQFA"
   },
   "source": [
    "Next, check the conditions for conducting inference on $\\mu_{REG} - \\mu_{IR1}$  below. "
   ]
  },
  {
   "cell_type": "markdown",
   "metadata": {
    "id": "gEXfBK3preQ6"
   },
   "source": [
    "$n_{REG} \\ge 30$\n",
    "\n",
    "$n_{IR1} \\ge 30$\n",
    "\n",
    "$n_{REG} < 10$% of population of size 1\n",
    "\n",
    "$n_{IR1} < 10$% of population of size 2\n",
    "\n",
    "Sample_tech and Sample_nontech are independent."
   ]
  },
  {
   "cell_type": "markdown",
   "metadata": {
    "id": "PJrTyD5x8W6A"
   },
   "source": [
    "####3.4 Creating a 95% Confidence Interval"
   ]
  },
  {
   "cell_type": "code",
   "execution_count": null,
   "metadata": {
    "colab": {
     "base_uri": "https://localhost:8080/"
    },
    "id": "NmHg-sfw5sD0",
    "outputId": "aa7d51e5-bc1d-4727-bbe1-fe1e3b573b07"
   },
   "outputs": [
    {
     "data": {
      "text/plain": [
       "2.0422724563012373"
      ]
     },
     "execution_count": 26,
     "metadata": {},
     "output_type": "execute_result"
    }
   ],
   "source": [
    "critical_value = t.ppf(0.975, df = 30)\n",
    "critical_value"
   ]
  },
  {
   "cell_type": "code",
   "execution_count": null,
   "metadata": {
    "colab": {
     "base_uri": "https://localhost:8080/"
    },
    "id": "A92gNBQ-5sD0",
    "outputId": "a4e649c7-5418-4551-83ba-1c5a342b4009"
   },
   "outputs": [
    {
     "data": {
      "text/plain": [
       "-51282.132674881024"
      ]
     },
     "execution_count": 27,
     "metadata": {},
     "output_type": "execute_result"
    }
   ],
   "source": [
    "point_estimate = sample_mean_price_diff\n",
    "point_estimate "
   ]
  },
  {
   "cell_type": "code",
   "execution_count": null,
   "metadata": {
    "colab": {
     "base_uri": "https://localhost:8080/"
    },
    "id": "NbO2ra-A5sD0",
    "outputId": "1b854ead-93bc-403f-81d9-1c2d692d0b09"
   },
   "outputs": [
    {
     "data": {
      "text/plain": [
       "5644.555209704696"
      ]
     },
     "execution_count": 28,
     "metadata": {},
     "output_type": "execute_result"
    }
   ],
   "source": [
    "standard_error = sample_std\n",
    "standard_error"
   ]
  },
  {
   "cell_type": "code",
   "execution_count": null,
   "metadata": {
    "colab": {
     "base_uri": "https://localhost:8080/"
    },
    "id": "gp0jCilR5sD0",
    "outputId": "887a58dc-dff6-4911-ffd7-466e8854ccd8"
   },
   "outputs": [
    {
     "name": "stdout",
     "output_type": "stream",
     "text": [
      "95% confidence interval:  -62809.85230773258 -39754.41304202947\n"
     ]
    }
   ],
   "source": [
    "lower_bound = point_estimate - critical_value*standard_error \n",
    "upper_bound = point_estimate + critical_value*standard_error \n",
    "print(\"95% confidence interval: \",lower_bound, upper_bound)"
   ]
  },
  {
   "cell_type": "markdown",
   "metadata": {
    "id": "t0nt4o5tNBG3"
   },
   "source": [
    "####3.5 p-value"
   ]
  },
  {
   "cell_type": "code",
   "execution_count": null,
   "metadata": {
    "id": "ev85-Ydy5sD0"
   },
   "outputs": [],
   "source": [
    "test_stat = (point_estimate -0)/standard_error"
   ]
  },
  {
   "cell_type": "code",
   "execution_count": null,
   "metadata": {
    "id": "nLRDVb7f5sD0"
   },
   "outputs": [],
   "source": [
    "pvalue = 2*(1-t.cdf(np.abs(test_stat),df = 978))"
   ]
  },
  {
   "cell_type": "code",
   "execution_count": null,
   "metadata": {
    "colab": {
     "base_uri": "https://localhost:8080/"
    },
    "id": "_5NqyJm_5sD1",
    "outputId": "34e81865-0e12-4457-d718-54453d3067b7"
   },
   "outputs": [
    {
     "name": "stdout",
     "output_type": "stream",
     "text": [
      "p-value: 0.0\n"
     ]
    }
   ],
   "source": [
    "print('p-value:',pvalue)"
   ]
  },
  {
   "cell_type": "markdown",
   "metadata": {
    "id": "mXJW3YUlQ2wI"
   },
   "source": [
    "####3.6 Conclusion for the Hypothesis."
   ]
  },
  {
   "cell_type": "markdown",
   "metadata": {
    "id": "gOahU66WP7Sn"
   },
   "source": [
    "Because that null value is not inside our 95% confidence interval, and p-value less than a significance level of $\\alpha = 0.05$, we reject the null hypotheses. Thus we have sufficient evidence to suggest that $\\mu_{REG} - \\mu_{IR1} \\neq 0$."
   ]
  },
  {
   "cell_type": "markdown",
   "metadata": {
    "id": "trsYluG15sD1"
   },
   "source": [
    "## 4. Linear Regression"
   ]
  },
  {
   "cell_type": "markdown",
   "metadata": {
    "id": "EKoOV_bPciwB"
   },
   "source": [
    "#### **Research question** - How does our response variable, Sale Price change with the Year Sold, Lot Frontage, Lot Area and the Street. Is there a linear association?\n",
    "\n",
    "#### This section would the buyers in the market understand how this model could best predict the price of house they wish to buy in Ames Iowa based on various factors like lot frontage, lot area, and the street on which it is located\n",
    "\n",
    "\n",
    "#### Further, we will also analyse which of the slopes could be the zero and also calculate predications based on our model"
   ]
  },
  {
   "cell_type": "markdown",
   "metadata": {
    "id": "LJzoc0vyJdaB"
   },
   "source": [
    "#### Our linear regression model including Sale Price as our response variable. The explanatory varibles would include:\n",
    "1. Lot Frontage\n",
    "2. Lot Area\n",
    "3. Year Sold\n",
    "4. Street"
   ]
  },
  {
   "cell_type": "code",
   "execution_count": null,
   "metadata": {
    "colab": {
     "base_uri": "https://localhost:8080/",
     "height": 550
    },
    "id": "JhWbk7LLZPoo",
    "outputId": "6b04da0a-706c-4079-c674-c15f56b4975c"
   },
   "outputs": [
    {
     "data": {
      "text/html": [
       "<table class=\"simpletable\">\n",
       "<caption>OLS Regression Results</caption>\n",
       "<tr>\n",
       "  <th>Dep. Variable:</th>        <td>SalePrice</td>    <th>  R-squared:         </th> <td>   0.126</td> \n",
       "</tr>\n",
       "<tr>\n",
       "  <th>Model:</th>                   <td>OLS</td>       <th>  Adj. R-squared:    </th> <td>   0.123</td> \n",
       "</tr>\n",
       "<tr>\n",
       "  <th>Method:</th>             <td>Least Squares</td>  <th>  F-statistic:       </th> <td>   41.62</td> \n",
       "</tr>\n",
       "<tr>\n",
       "  <th>Date:</th>             <td>Fri, 13 May 2022</td> <th>  Prob (F-statistic):</th> <td>1.27e-32</td> \n",
       "</tr>\n",
       "<tr>\n",
       "  <th>Time:</th>                 <td>14:22:11</td>     <th>  Log-Likelihood:    </th> <td> -14790.</td> \n",
       "</tr>\n",
       "<tr>\n",
       "  <th>No. Observations:</th>      <td>  1156</td>      <th>  AIC:               </th> <td>2.959e+04</td>\n",
       "</tr>\n",
       "<tr>\n",
       "  <th>Df Residuals:</th>          <td>  1151</td>      <th>  BIC:               </th> <td>2.962e+04</td>\n",
       "</tr>\n",
       "<tr>\n",
       "  <th>Df Model:</th>              <td>     4</td>      <th>                     </th>     <td> </td>    \n",
       "</tr>\n",
       "<tr>\n",
       "  <th>Covariance Type:</th>      <td>nonrobust</td>    <th>                     </th>     <td> </td>    \n",
       "</tr>\n",
       "</table>\n",
       "<table class=\"simpletable\">\n",
       "<tr>\n",
       "         <td></td>           <th>coef</th>     <th>std err</th>      <th>t</th>      <th>P>|t|</th>  <th>[0.025</th>    <th>0.975]</th>  \n",
       "</tr>\n",
       "<tr>\n",
       "  <th>Intercept</th>      <td> 1.932e+06</td> <td> 3.94e+06</td> <td>    0.490</td> <td> 0.624</td> <td>-5.81e+06</td> <td> 9.67e+06</td>\n",
       "</tr>\n",
       "<tr>\n",
       "  <th>Street[T.Pave]</th> <td> 1.125e+05</td> <td>  6.2e+04</td> <td>    1.813</td> <td> 0.070</td> <td>-9221.672</td> <td> 2.34e+05</td>\n",
       "</tr>\n",
       "<tr>\n",
       "  <th>Yr_Sold</th>        <td> -951.0003</td> <td> 1965.063</td> <td>   -0.484</td> <td> 0.629</td> <td>-4806.507</td> <td> 2904.507</td>\n",
       "</tr>\n",
       "<tr>\n",
       "  <th>Lot_Area</th>       <td>    2.0365</td> <td>    0.341</td> <td>    5.972</td> <td> 0.000</td> <td>    1.367</td> <td>    2.706</td>\n",
       "</tr>\n",
       "<tr>\n",
       "  <th>Lot_Frontage</th>   <td>  888.9700</td> <td>  110.348</td> <td>    8.056</td> <td> 0.000</td> <td>  672.463</td> <td> 1105.477</td>\n",
       "</tr>\n",
       "</table>\n",
       "<table class=\"simpletable\">\n",
       "<tr>\n",
       "  <th>Omnibus:</th>       <td>258.579</td> <th>  Durbin-Watson:     </th> <td>   0.927</td> \n",
       "</tr>\n",
       "<tr>\n",
       "  <th>Prob(Omnibus):</th> <td> 0.000</td>  <th>  Jarque-Bera (JB):  </th> <td> 675.207</td> \n",
       "</tr>\n",
       "<tr>\n",
       "  <th>Skew:</th>          <td> 1.164</td>  <th>  Prob(JB):          </th> <td>2.40e-147</td>\n",
       "</tr>\n",
       "<tr>\n",
       "  <th>Kurtosis:</th>      <td> 5.932</td>  <th>  Cond. No.          </th> <td>2.12e+07</td> \n",
       "</tr>\n",
       "</table><br/><br/>Warnings:<br/>[1] Standard Errors assume that the covariance matrix of the errors is correctly specified.<br/>[2] The condition number is large, 2.12e+07. This might indicate that there are<br/>strong multicollinearity or other numerical problems."
      ],
      "text/plain": [
       "<class 'statsmodels.iolib.summary.Summary'>\n",
       "\"\"\"\n",
       "                            OLS Regression Results                            \n",
       "==============================================================================\n",
       "Dep. Variable:              SalePrice   R-squared:                       0.126\n",
       "Model:                            OLS   Adj. R-squared:                  0.123\n",
       "Method:                 Least Squares   F-statistic:                     41.62\n",
       "Date:                Fri, 13 May 2022   Prob (F-statistic):           1.27e-32\n",
       "Time:                        14:22:11   Log-Likelihood:                -14790.\n",
       "No. Observations:                1156   AIC:                         2.959e+04\n",
       "Df Residuals:                    1151   BIC:                         2.962e+04\n",
       "Df Model:                           4                                         \n",
       "Covariance Type:            nonrobust                                         \n",
       "==================================================================================\n",
       "                     coef    std err          t      P>|t|      [0.025      0.975]\n",
       "----------------------------------------------------------------------------------\n",
       "Intercept       1.932e+06   3.94e+06      0.490      0.624   -5.81e+06    9.67e+06\n",
       "Street[T.Pave]  1.125e+05    6.2e+04      1.813      0.070   -9221.672    2.34e+05\n",
       "Yr_Sold         -951.0003   1965.063     -0.484      0.629   -4806.507    2904.507\n",
       "Lot_Area           2.0365      0.341      5.972      0.000       1.367       2.706\n",
       "Lot_Frontage     888.9700    110.348      8.056      0.000     672.463    1105.477\n",
       "==============================================================================\n",
       "Omnibus:                      258.579   Durbin-Watson:                   0.927\n",
       "Prob(Omnibus):                  0.000   Jarque-Bera (JB):              675.207\n",
       "Skew:                           1.164   Prob(JB):                    2.40e-147\n",
       "Kurtosis:                       5.932   Cond. No.                     2.12e+07\n",
       "==============================================================================\n",
       "\n",
       "Warnings:\n",
       "[1] Standard Errors assume that the covariance matrix of the errors is correctly specified.\n",
       "[2] The condition number is large, 2.12e+07. This might indicate that there are\n",
       "strong multicollinearity or other numerical problems.\n",
       "\"\"\""
      ]
     },
     "execution_count": 33,
     "metadata": {},
     "output_type": "execute_result"
    }
   ],
   "source": [
    "final = smf.ols('SalePrice ~ Yr_Sold + Lot_Area + Lot_Frontage + Street', data = Ames_new).fit()\n",
    "final.summary()"
   ]
  },
  {
   "cell_type": "markdown",
   "metadata": {
    "id": "FZVClo91oeQr"
   },
   "source": [
    "### Formulating the multiple linear regression line\n",
    "\n",
    "\n"
   ]
  },
  {
   "cell_type": "markdown",
   "metadata": {
    "id": "3SMSWJfzm48w"
   },
   "source": [
    "$ [SalePrice]  =  (-1236.93 * [Yr.Sold]  + 1.153e+05 * [Street[T.Pave]] + 950.99 * [Lot Frontage] + 2.5290 * [Lot Area] + 2.458e+06)$"
   ]
  },
  {
   "cell_type": "markdown",
   "metadata": {
    "id": "_vSUjGqzosP1"
   },
   "source": [
    "#### If the explanatory variables were all 0, we would expect the response variable value, on average, to be 2.458𝑒+06."
   ]
  },
  {
   "cell_type": "markdown",
   "metadata": {
    "id": "eEjCQmao5A74"
   },
   "source": [
    "### Interpreting the slopes\n",
    "#### 1.  All else held equal, if we were to increase the Yr.Sold by 1, then on average, we would expect the response value to increase by negative 1236.93\n",
    "#### 2.  All else held equal, if we were to increase Lot.Frontage by 1, then on average, we would expect the response value to increase by 950.99.\n",
    "#### 3.  All else held equal, if we were to increase Lot.Area by 1, then on average, we would expect the response value to increase by 2.5290.\n",
    "#### 4.  All else held equal, we would expect the difference in average response variable valuefor those observations in the indicator level of Street and those observations in the reference level is 1.153e+05."
   ]
  },
  {
   "cell_type": "markdown",
   "metadata": {
    "id": "ROdY6Xw95npy"
   },
   "source": [
    "### **Conditions for Inference on Multiple Linear Regression**"
   ]
  },
  {
   "cell_type": "markdown",
   "metadata": {
    "id": "cXuUXSkT6Ds4"
   },
   "source": [
    "### **1. Linearity Condition**\n",
    "#### The amount of points above and below the line look almost equal hence the linearity condition is met."
   ]
  },
  {
   "cell_type": "code",
   "execution_count": null,
   "metadata": {
    "colab": {
     "base_uri": "https://localhost:8080/",
     "height": 279
    },
    "id": "pIEka6LE5sD1",
    "outputId": "b181f416-f854-4fe1-a2fc-3fcf57458ac9"
   },
   "outputs": [
    {
     "data": {
      "image/png": "[encoded data removed]",
      "text/plain": [
       "<Figure size 432x288 with 1 Axes>"
      ]
     },
     "metadata": {
      "needs_background": "light"
     },
     "output_type": "display_data"
    }
   ],
   "source": [
    "sns.regplot(x = final.fittedvalues, y = final.resid, ci = None) \n",
    "plt.ylabel('Residual')\n",
    "plt.xlabel('Fitted Value')\n",
    "plt.show()"
   ]
  },
  {
   "cell_type": "markdown",
   "metadata": {
    "id": "oIWXAc6w6IY7"
   },
   "source": [
    "#### **2. Constant Variablity of residuals condition**\n",
    "#### y-axis spread of points changes to some extent as we move ahead hence the condition is not quite met"
   ]
  },
  {
   "cell_type": "code",
   "execution_count": null,
   "metadata": {
    "colab": {
     "base_uri": "https://localhost:8080/",
     "height": 279
    },
    "id": "WTvkc-hj5sD1",
    "outputId": "fa83951d-3468-4540-be1e-70c8f7331260"
   },
   "outputs": [
    {
     "data": {
      "image/png": "[encoded data removed]",
      "text/plain": [
       "<Figure size 432x288 with 1 Axes>"
      ]
     },
     "metadata": {
      "needs_background": "light"
     },
     "output_type": "display_data"
    }
   ],
   "source": [
    "sns.regplot(x = final.fittedvalues, y = final.resid, ci = None) \n",
    "plt.ylabel('Residual')\n",
    "plt.xlabel('Fitted Value')\n",
    "plt.show()"
   ]
  },
  {
   "cell_type": "markdown",
   "metadata": {
    "id": "ZU84eEMo6PaJ"
   },
   "source": [
    "#### **3. Normality or residuals condition**\n",
    "#### It does not appear exactly normal and hence condition is not met."
   ]
  },
  {
   "cell_type": "code",
   "execution_count": null,
   "metadata": {
    "colab": {
     "base_uri": "https://localhost:8080/",
     "height": 279
    },
    "id": "Up5JS9i45sD1",
    "outputId": "89a792c0-2344-47b0-da1f-d83a78405e50"
   },
   "outputs": [
    {
     "data": {
      "image/png": "[encoded data removed]",
      "text/plain": [
       "<Figure size 432x288 with 1 Axes>"
      ]
     },
     "metadata": {
      "needs_background": "light"
     },
     "output_type": "display_data"
    }
   ],
   "source": [
    "plt.hist(final.resid)\n",
    "plt.xlabel('Residuals')\n",
    "plt.show()"
   ]
  },
  {
   "cell_type": "markdown",
   "metadata": {
    "id": "UMPPUboM6WE4"
   },
   "source": [
    "#### **4. Independence of residuals condition**"
   ]
  },
  {
   "cell_type": "markdown",
   "metadata": {
    "id": "zAIgJ18C-LDx"
   },
   "source": [
    "#### 1. Data is randomly sampled\n",
    "#### 2. Sample size is less than 10% of the total\n",
    "\n",
    "#### Conditions may not be violated as we don't have enough information about the independence of the variables. "
   ]
  },
  {
   "cell_type": "markdown",
   "metadata": {
    "id": "ksvgrBIM6cMx"
   },
   "source": [
    "### **5. No-Multicollinearity Condition - Conditions may be violated since we see a moderately strong relationship between two collinearity variables.** "
   ]
  },
  {
   "cell_type": "code",
   "execution_count": null,
   "metadata": {
    "colab": {
     "base_uri": "https://localhost:8080/",
     "height": 568
    },
    "id": "XJ7haxWO5sD2",
    "outputId": "dd147c8f-b0e5-4433-fd2d-33ed26e4eb8f"
   },
   "outputs": [
    {
     "data": {
      "text/plain": [
       "<seaborn.axisgrid.PairGrid at 0x7f2b7fc05750>"
      ]
     },
     "execution_count": 37,
     "metadata": {},
     "output_type": "execute_result"
    },
    {
     "data": {
      "image/png": "[encoded data removed]",
      "text/plain": [
       "<Figure size 540x540 with 12 Axes>"
      ]
     },
     "metadata": {
      "needs_background": "light"
     },
     "output_type": "display_data"
    }
   ],
   "source": [
    "sns.pairplot(Ames_new[['Lot_Frontage', 'Lot_Area', 'Yr_Sold']]) "
   ]
  },
  {
   "cell_type": "markdown",
   "metadata": {
    "id": "I96rl8kjPTp7"
   },
   "source": [
    "### Model fit\n",
    "#### The percent of variability of the Sale price of the model is 16.4%. It is the r-squared value of the model."
   ]
  },
  {
   "cell_type": "markdown",
   "metadata": {
    "id": "3wFCja96HAfu"
   },
   "source": [
    "### Linear Transformation"
   ]
  },
  {
   "cell_type": "code",
   "execution_count": null,
   "metadata": {
    "colab": {
     "base_uri": "https://localhost:8080/",
     "height": 595
    },
    "id": "geckCbGaFUOF",
    "outputId": "4c14cce6-2b7e-4933-d959-bbca755a32c3"
   },
   "outputs": [
    {
     "name": "stderr",
     "output_type": "stream",
     "text": [
      "/usr/local/lib/python3.7/dist-packages/ipykernel_launcher.py:1: SettingWithCopyWarning: \n",
      "A value is trying to be set on a copy of a slice from a DataFrame.\n",
      "Try using .loc[row_indexer,col_indexer] = value instead\n",
      "\n",
      "See the caveats in the documentation: https://pandas.pydata.org/pandas-docs/stable/user_guide/indexing.html#returning-a-view-versus-a-copy\n",
      "  \"\"\"Entry point for launching an IPython kernel.\n"
     ]
    },
    {
     "data": {
      "text/html": [
       "\n",
       "  <div id=\"df-afea6ecc-4ea6-45d8-b53d-8a6f00d283a5\">\n",
       "    <div class=\"colab-df-container\">\n",
       "      <div>\n",
       "<style scoped>\n",
       "    .dataframe tbody tr th:only-of-type {\n",
       "        vertical-align: middle;\n",
       "    }\n",
       "\n",
       "    .dataframe tbody tr th {\n",
       "        vertical-align: top;\n",
       "    }\n",
       "\n",
       "    .dataframe thead th {\n",
       "        text-align: right;\n",
       "    }\n",
       "</style>\n",
       "<table border=\"1\" class=\"dataframe\">\n",
       "  <thead>\n",
       "    <tr style=\"text-align: right;\">\n",
       "      <th></th>\n",
       "      <th>Order</th>\n",
       "      <th>PID</th>\n",
       "      <th>MS_SubClass</th>\n",
       "      <th>MS_Zoning</th>\n",
       "      <th>Lot_Frontage</th>\n",
       "      <th>Lot_Area</th>\n",
       "      <th>Street</th>\n",
       "      <th>Lot_Shape</th>\n",
       "      <th>Land_Contour</th>\n",
       "      <th>Utilities</th>\n",
       "      <th>...</th>\n",
       "      <th>X3Ssn_Porch</th>\n",
       "      <th>Screen_Porch</th>\n",
       "      <th>Pool_Area</th>\n",
       "      <th>Misc_Val</th>\n",
       "      <th>Mo_Sold</th>\n",
       "      <th>Yr_Sold</th>\n",
       "      <th>Sale_Type</th>\n",
       "      <th>Sale_Condition</th>\n",
       "      <th>SalePrice</th>\n",
       "      <th>Log_SalePrice</th>\n",
       "    </tr>\n",
       "  </thead>\n",
       "  <tbody>\n",
       "    <tr>\n",
       "      <th>0</th>\n",
       "      <td>1</td>\n",
       "      <td>526301100</td>\n",
       "      <td>20</td>\n",
       "      <td>RL</td>\n",
       "      <td>141.0</td>\n",
       "      <td>31770</td>\n",
       "      <td>Pave</td>\n",
       "      <td>IR1</td>\n",
       "      <td>Lvl</td>\n",
       "      <td>AllPub</td>\n",
       "      <td>...</td>\n",
       "      <td>0</td>\n",
       "      <td>0</td>\n",
       "      <td>0</td>\n",
       "      <td>0</td>\n",
       "      <td>5</td>\n",
       "      <td>2010</td>\n",
       "      <td>WD</td>\n",
       "      <td>Normal</td>\n",
       "      <td>215000</td>\n",
       "      <td>12.278393</td>\n",
       "    </tr>\n",
       "    <tr>\n",
       "      <th>3</th>\n",
       "      <td>4</td>\n",
       "      <td>526353030</td>\n",
       "      <td>20</td>\n",
       "      <td>RL</td>\n",
       "      <td>93.0</td>\n",
       "      <td>11160</td>\n",
       "      <td>Pave</td>\n",
       "      <td>Reg</td>\n",
       "      <td>Lvl</td>\n",
       "      <td>AllPub</td>\n",
       "      <td>...</td>\n",
       "      <td>0</td>\n",
       "      <td>0</td>\n",
       "      <td>0</td>\n",
       "      <td>0</td>\n",
       "      <td>4</td>\n",
       "      <td>2010</td>\n",
       "      <td>WD</td>\n",
       "      <td>Normal</td>\n",
       "      <td>244000</td>\n",
       "      <td>12.404924</td>\n",
       "    </tr>\n",
       "    <tr>\n",
       "      <th>4</th>\n",
       "      <td>5</td>\n",
       "      <td>527105010</td>\n",
       "      <td>60</td>\n",
       "      <td>RL</td>\n",
       "      <td>74.0</td>\n",
       "      <td>13830</td>\n",
       "      <td>Pave</td>\n",
       "      <td>IR1</td>\n",
       "      <td>Lvl</td>\n",
       "      <td>AllPub</td>\n",
       "      <td>...</td>\n",
       "      <td>0</td>\n",
       "      <td>0</td>\n",
       "      <td>0</td>\n",
       "      <td>0</td>\n",
       "      <td>3</td>\n",
       "      <td>2010</td>\n",
       "      <td>WD</td>\n",
       "      <td>Normal</td>\n",
       "      <td>189900</td>\n",
       "      <td>12.154253</td>\n",
       "    </tr>\n",
       "    <tr>\n",
       "      <th>5</th>\n",
       "      <td>6</td>\n",
       "      <td>527105030</td>\n",
       "      <td>60</td>\n",
       "      <td>RL</td>\n",
       "      <td>78.0</td>\n",
       "      <td>9978</td>\n",
       "      <td>Pave</td>\n",
       "      <td>IR1</td>\n",
       "      <td>Lvl</td>\n",
       "      <td>AllPub</td>\n",
       "      <td>...</td>\n",
       "      <td>0</td>\n",
       "      <td>0</td>\n",
       "      <td>0</td>\n",
       "      <td>0</td>\n",
       "      <td>6</td>\n",
       "      <td>2010</td>\n",
       "      <td>WD</td>\n",
       "      <td>Normal</td>\n",
       "      <td>195500</td>\n",
       "      <td>12.183316</td>\n",
       "    </tr>\n",
       "    <tr>\n",
       "      <th>8</th>\n",
       "      <td>9</td>\n",
       "      <td>527146030</td>\n",
       "      <td>120</td>\n",
       "      <td>RL</td>\n",
       "      <td>39.0</td>\n",
       "      <td>5389</td>\n",
       "      <td>Pave</td>\n",
       "      <td>IR1</td>\n",
       "      <td>Lvl</td>\n",
       "      <td>AllPub</td>\n",
       "      <td>...</td>\n",
       "      <td>0</td>\n",
       "      <td>0</td>\n",
       "      <td>0</td>\n",
       "      <td>0</td>\n",
       "      <td>3</td>\n",
       "      <td>2010</td>\n",
       "      <td>WD</td>\n",
       "      <td>Normal</td>\n",
       "      <td>236500</td>\n",
       "      <td>12.373703</td>\n",
       "    </tr>\n",
       "    <tr>\n",
       "      <th>...</th>\n",
       "      <td>...</td>\n",
       "      <td>...</td>\n",
       "      <td>...</td>\n",
       "      <td>...</td>\n",
       "      <td>...</td>\n",
       "      <td>...</td>\n",
       "      <td>...</td>\n",
       "      <td>...</td>\n",
       "      <td>...</td>\n",
       "      <td>...</td>\n",
       "      <td>...</td>\n",
       "      <td>...</td>\n",
       "      <td>...</td>\n",
       "      <td>...</td>\n",
       "      <td>...</td>\n",
       "      <td>...</td>\n",
       "      <td>...</td>\n",
       "      <td>...</td>\n",
       "      <td>...</td>\n",
       "      <td>...</td>\n",
       "      <td>...</td>\n",
       "    </tr>\n",
       "    <tr>\n",
       "      <th>2915</th>\n",
       "      <td>2916</td>\n",
       "      <td>923227100</td>\n",
       "      <td>20</td>\n",
       "      <td>RL</td>\n",
       "      <td>80.0</td>\n",
       "      <td>13384</td>\n",
       "      <td>Pave</td>\n",
       "      <td>Reg</td>\n",
       "      <td>Lvl</td>\n",
       "      <td>AllPub</td>\n",
       "      <td>...</td>\n",
       "      <td>0</td>\n",
       "      <td>0</td>\n",
       "      <td>0</td>\n",
       "      <td>0</td>\n",
       "      <td>5</td>\n",
       "      <td>2006</td>\n",
       "      <td>WD</td>\n",
       "      <td>Normal</td>\n",
       "      <td>140000</td>\n",
       "      <td>11.849398</td>\n",
       "    </tr>\n",
       "    <tr>\n",
       "      <th>2923</th>\n",
       "      <td>2924</td>\n",
       "      <td>923250060</td>\n",
       "      <td>20</td>\n",
       "      <td>RL</td>\n",
       "      <td>80.0</td>\n",
       "      <td>17400</td>\n",
       "      <td>Pave</td>\n",
       "      <td>Reg</td>\n",
       "      <td>Low</td>\n",
       "      <td>AllPub</td>\n",
       "      <td>...</td>\n",
       "      <td>0</td>\n",
       "      <td>0</td>\n",
       "      <td>0</td>\n",
       "      <td>0</td>\n",
       "      <td>5</td>\n",
       "      <td>2006</td>\n",
       "      <td>WD</td>\n",
       "      <td>Normal</td>\n",
       "      <td>160000</td>\n",
       "      <td>11.982929</td>\n",
       "    </tr>\n",
       "    <tr>\n",
       "      <th>2924</th>\n",
       "      <td>2925</td>\n",
       "      <td>923251180</td>\n",
       "      <td>20</td>\n",
       "      <td>RL</td>\n",
       "      <td>160.0</td>\n",
       "      <td>20000</td>\n",
       "      <td>Pave</td>\n",
       "      <td>Reg</td>\n",
       "      <td>Lvl</td>\n",
       "      <td>AllPub</td>\n",
       "      <td>...</td>\n",
       "      <td>0</td>\n",
       "      <td>0</td>\n",
       "      <td>0</td>\n",
       "      <td>0</td>\n",
       "      <td>9</td>\n",
       "      <td>2006</td>\n",
       "      <td>WD</td>\n",
       "      <td>Abnorml</td>\n",
       "      <td>131000</td>\n",
       "      <td>11.782953</td>\n",
       "    </tr>\n",
       "    <tr>\n",
       "      <th>2928</th>\n",
       "      <td>2929</td>\n",
       "      <td>924100070</td>\n",
       "      <td>20</td>\n",
       "      <td>RL</td>\n",
       "      <td>77.0</td>\n",
       "      <td>10010</td>\n",
       "      <td>Pave</td>\n",
       "      <td>Reg</td>\n",
       "      <td>Lvl</td>\n",
       "      <td>AllPub</td>\n",
       "      <td>...</td>\n",
       "      <td>0</td>\n",
       "      <td>0</td>\n",
       "      <td>0</td>\n",
       "      <td>0</td>\n",
       "      <td>4</td>\n",
       "      <td>2006</td>\n",
       "      <td>WD</td>\n",
       "      <td>Normal</td>\n",
       "      <td>170000</td>\n",
       "      <td>12.043554</td>\n",
       "    </tr>\n",
       "    <tr>\n",
       "      <th>2929</th>\n",
       "      <td>2930</td>\n",
       "      <td>924151050</td>\n",
       "      <td>60</td>\n",
       "      <td>RL</td>\n",
       "      <td>74.0</td>\n",
       "      <td>9627</td>\n",
       "      <td>Pave</td>\n",
       "      <td>Reg</td>\n",
       "      <td>Lvl</td>\n",
       "      <td>AllPub</td>\n",
       "      <td>...</td>\n",
       "      <td>0</td>\n",
       "      <td>0</td>\n",
       "      <td>0</td>\n",
       "      <td>0</td>\n",
       "      <td>11</td>\n",
       "      <td>2006</td>\n",
       "      <td>WD</td>\n",
       "      <td>Normal</td>\n",
       "      <td>188000</td>\n",
       "      <td>12.144197</td>\n",
       "    </tr>\n",
       "  </tbody>\n",
       "</table>\n",
       "<p>1156 rows × 79 columns</p>\n",
       "</div>\n",
       "      <button class=\"colab-df-convert\" onclick=\"convertToInteractive('df-afea6ecc-4ea6-45d8-b53d-8a6f00d283a5')\"\n",
       "              title=\"Convert this dataframe to an interactive table.\"\n",
       "              style=\"display:none;\">\n",
       "        \n",
       "  <svg xmlns=\"http://www.w3.org/2000/svg\" height=\"24px\"viewBox=\"0 0 24 24\"\n",
       "       width=\"24px\">\n",
       "    <path d=\"M0 0h24v24H0V0z\" fill=\"none\"/>\n",
       "    <path d=\"M18.56 5.44l.94 2.06.94-2.06 2.06-.94-2.06-.94-.94-2.06-.94 2.06-2.06.94zm-11 1L8.5 8.5l.94-2.06 2.06-.94-2.06-.94L8.5 2.5l-.94 2.06-2.06.94zm10 10l.94 2.06.94-2.06 2.06-.94-2.06-.94-.94-2.06-.94 2.06-2.06.94z\"/><path d=\"M17.41 7.96l-1.37-1.37c-.4-.4-.92-.59-1.43-.59-.52 0-1.04.2-1.43.59L10.3 9.45l-7.72 7.72c-.78.78-.78 2.05 0 2.83L4 21.41c.39.39.9.59 1.41.59.51 0 1.02-.2 1.41-.59l7.78-7.78 2.81-2.81c.8-.78.8-2.07 0-2.86zM5.41 20L4 18.59l7.72-7.72 1.47 1.35L5.41 20z\"/>\n",
       "  </svg>\n",
       "      </button>\n",
       "      \n",
       "  <style>\n",
       "    .colab-df-container {\n",
       "      display:flex;\n",
       "      flex-wrap:wrap;\n",
       "      gap: 12px;\n",
       "    }\n",
       "\n",
       "    .colab-df-convert {\n",
       "      background-color: #E8F0FE;\n",
       "      border: none;\n",
       "      border-radius: 50%;\n",
       "      cursor: pointer;\n",
       "      display: none;\n",
       "      fill: #1967D2;\n",
       "      height: 32px;\n",
       "      padding: 0 0 0 0;\n",
       "      width: 32px;\n",
       "    }\n",
       "\n",
       "    .colab-df-convert:hover {\n",
       "      background-color: #E2EBFA;\n",
       "      box-shadow: 0px 1px 2px rgba(60, 64, 67, 0.3), 0px 1px 3px 1px rgba(60, 64, 67, 0.15);\n",
       "      fill: #174EA6;\n",
       "    }\n",
       "\n",
       "    [theme=dark] .colab-df-convert {\n",
       "      background-color: #3B4455;\n",
       "      fill: #D2E3FC;\n",
       "    }\n",
       "\n",
       "    [theme=dark] .colab-df-convert:hover {\n",
       "      background-color: #434B5C;\n",
       "      box-shadow: 0px 1px 3px 1px rgba(0, 0, 0, 0.15);\n",
       "      filter: drop-shadow(0px 1px 2px rgba(0, 0, 0, 0.3));\n",
       "      fill: #FFFFFF;\n",
       "    }\n",
       "  </style>\n",
       "\n",
       "      <script>\n",
       "        const buttonEl =\n",
       "          document.querySelector('#df-afea6ecc-4ea6-45d8-b53d-8a6f00d283a5 button.colab-df-convert');\n",
       "        buttonEl.style.display =\n",
       "          google.colab.kernel.accessAllowed ? 'block' : 'none';\n",
       "\n",
       "        async function convertToInteractive(key) {\n",
       "          const element = document.querySelector('#df-afea6ecc-4ea6-45d8-b53d-8a6f00d283a5');\n",
       "          const dataTable =\n",
       "            await google.colab.kernel.invokeFunction('convertToInteractive',\n",
       "                                                     [key], {});\n",
       "          if (!dataTable) return;\n",
       "\n",
       "          const docLinkHtml = 'Like what you see? Visit the ' +\n",
       "            '<a target=\"_blank\" href=https://colab.research.google.com/notebooks/data_table.ipynb>data table notebook</a>'\n",
       "            + ' to learn more about interactive tables.';\n",
       "          element.innerHTML = '';\n",
       "          dataTable['output_type'] = 'display_data';\n",
       "          await google.colab.output.renderOutput(dataTable, element);\n",
       "          const docLink = document.createElement('div');\n",
       "          docLink.innerHTML = docLinkHtml;\n",
       "          element.appendChild(docLink);\n",
       "        }\n",
       "      </script>\n",
       "    </div>\n",
       "  </div>\n",
       "  "
      ],
      "text/plain": [
       "      Order        PID  MS_SubClass MS_Zoning  Lot_Frontage  Lot_Area Street  \\\n",
       "0         1  526301100           20        RL         141.0     31770   Pave   \n",
       "3         4  526353030           20        RL          93.0     11160   Pave   \n",
       "4         5  527105010           60        RL          74.0     13830   Pave   \n",
       "5         6  527105030           60        RL          78.0      9978   Pave   \n",
       "8         9  527146030          120        RL          39.0      5389   Pave   \n",
       "...     ...        ...          ...       ...           ...       ...    ...   \n",
       "2915   2916  923227100           20        RL          80.0     13384   Pave   \n",
       "2923   2924  923250060           20        RL          80.0     17400   Pave   \n",
       "2924   2925  923251180           20        RL         160.0     20000   Pave   \n",
       "2928   2929  924100070           20        RL          77.0     10010   Pave   \n",
       "2929   2930  924151050           60        RL          74.0      9627   Pave   \n",
       "\n",
       "     Lot_Shape Land_Contour Utilities  ... X3Ssn_Porch Screen_Porch Pool_Area  \\\n",
       "0          IR1          Lvl    AllPub  ...           0            0         0   \n",
       "3          Reg          Lvl    AllPub  ...           0            0         0   \n",
       "4          IR1          Lvl    AllPub  ...           0            0         0   \n",
       "5          IR1          Lvl    AllPub  ...           0            0         0   \n",
       "8          IR1          Lvl    AllPub  ...           0            0         0   \n",
       "...        ...          ...       ...  ...         ...          ...       ...   \n",
       "2915       Reg          Lvl    AllPub  ...           0            0         0   \n",
       "2923       Reg          Low    AllPub  ...           0            0         0   \n",
       "2924       Reg          Lvl    AllPub  ...           0            0         0   \n",
       "2928       Reg          Lvl    AllPub  ...           0            0         0   \n",
       "2929       Reg          Lvl    AllPub  ...           0            0         0   \n",
       "\n",
       "     Misc_Val Mo_Sold Yr_Sold Sale_Type  Sale_Condition  SalePrice  \\\n",
       "0           0       5    2010       WD           Normal     215000   \n",
       "3           0       4    2010       WD           Normal     244000   \n",
       "4           0       3    2010       WD           Normal     189900   \n",
       "5           0       6    2010       WD           Normal     195500   \n",
       "8           0       3    2010       WD           Normal     236500   \n",
       "...       ...     ...     ...       ...             ...        ...   \n",
       "2915        0       5    2006       WD           Normal     140000   \n",
       "2923        0       5    2006       WD           Normal     160000   \n",
       "2924        0       9    2006       WD          Abnorml     131000   \n",
       "2928        0       4    2006       WD           Normal     170000   \n",
       "2929        0      11    2006       WD           Normal     188000   \n",
       "\n",
       "      Log_SalePrice  \n",
       "0         12.278393  \n",
       "3         12.404924  \n",
       "4         12.154253  \n",
       "5         12.183316  \n",
       "8         12.373703  \n",
       "...             ...  \n",
       "2915      11.849398  \n",
       "2923      11.982929  \n",
       "2924      11.782953  \n",
       "2928      12.043554  \n",
       "2929      12.144197  \n",
       "\n",
       "[1156 rows x 79 columns]"
      ]
     },
     "execution_count": 38,
     "metadata": {},
     "output_type": "execute_result"
    }
   ],
   "source": [
    "Ames_new['Log_SalePrice'] = np.log(Ames_new['SalePrice'])\n",
    "Ames_new"
   ]
  },
  {
   "cell_type": "code",
   "execution_count": null,
   "metadata": {
    "colab": {
     "base_uri": "https://localhost:8080/",
     "height": 550
    },
    "id": "fgNmHUAkFUWJ",
    "outputId": "bf610d21-02dd-49a1-f812-6e9d2b476448"
   },
   "outputs": [
    {
     "data": {
      "text/html": [
       "<table class=\"simpletable\">\n",
       "<caption>OLS Regression Results</caption>\n",
       "<tr>\n",
       "  <th>Dep. Variable:</th>      <td>Log_SalePrice</td>  <th>  R-squared:         </th> <td>   0.124</td>\n",
       "</tr>\n",
       "<tr>\n",
       "  <th>Model:</th>                   <td>OLS</td>       <th>  Adj. R-squared:    </th> <td>   0.121</td>\n",
       "</tr>\n",
       "<tr>\n",
       "  <th>Method:</th>             <td>Least Squares</td>  <th>  F-statistic:       </th> <td>   40.63</td>\n",
       "</tr>\n",
       "<tr>\n",
       "  <th>Date:</th>             <td>Fri, 13 May 2022</td> <th>  Prob (F-statistic):</th> <td>7.03e-32</td>\n",
       "</tr>\n",
       "<tr>\n",
       "  <th>Time:</th>                 <td>14:22:18</td>     <th>  Log-Likelihood:    </th> <td> -465.77</td>\n",
       "</tr>\n",
       "<tr>\n",
       "  <th>No. Observations:</th>      <td>  1156</td>      <th>  AIC:               </th> <td>   941.5</td>\n",
       "</tr>\n",
       "<tr>\n",
       "  <th>Df Residuals:</th>          <td>  1151</td>      <th>  BIC:               </th> <td>   966.8</td>\n",
       "</tr>\n",
       "<tr>\n",
       "  <th>Df Model:</th>              <td>     4</td>      <th>                     </th>     <td> </td>   \n",
       "</tr>\n",
       "<tr>\n",
       "  <th>Covariance Type:</th>      <td>nonrobust</td>    <th>                     </th>     <td> </td>   \n",
       "</tr>\n",
       "</table>\n",
       "<table class=\"simpletable\">\n",
       "<tr>\n",
       "         <td></td>           <th>coef</th>     <th>std err</th>      <th>t</th>      <th>P>|t|</th>  <th>[0.025</th>    <th>0.975]</th>  \n",
       "</tr>\n",
       "<tr>\n",
       "  <th>Intercept</th>      <td>   24.6448</td> <td>   16.387</td> <td>    1.504</td> <td> 0.133</td> <td>   -7.507</td> <td>   56.797</td>\n",
       "</tr>\n",
       "<tr>\n",
       "  <th>Street[T.Pave]</th> <td>    0.4407</td> <td>    0.258</td> <td>    1.710</td> <td> 0.087</td> <td>   -0.065</td> <td>    0.946</td>\n",
       "</tr>\n",
       "<tr>\n",
       "  <th>Yr_Sold</th>        <td>   -0.0066</td> <td>    0.008</td> <td>   -0.806</td> <td> 0.420</td> <td>   -0.023</td> <td>    0.009</td>\n",
       "</tr>\n",
       "<tr>\n",
       "  <th>Lot_Frontage</th>   <td>    0.0038</td> <td>    0.000</td> <td>    8.266</td> <td> 0.000</td> <td>    0.003</td> <td>    0.005</td>\n",
       "</tr>\n",
       "<tr>\n",
       "  <th>Lot_Area</th>       <td> 7.816e-06</td> <td> 1.42e-06</td> <td>    5.518</td> <td> 0.000</td> <td> 5.04e-06</td> <td> 1.06e-05</td>\n",
       "</tr>\n",
       "</table>\n",
       "<table class=\"simpletable\">\n",
       "<tr>\n",
       "  <th>Omnibus:</th>       <td>83.103</td> <th>  Durbin-Watson:     </th> <td>   0.881</td>\n",
       "</tr>\n",
       "<tr>\n",
       "  <th>Prob(Omnibus):</th> <td> 0.000</td> <th>  Jarque-Bera (JB):  </th> <td> 333.162</td>\n",
       "</tr>\n",
       "<tr>\n",
       "  <th>Skew:</th>          <td>-0.204</td> <th>  Prob(JB):          </th> <td>4.52e-73</td>\n",
       "</tr>\n",
       "<tr>\n",
       "  <th>Kurtosis:</th>      <td> 5.598</td> <th>  Cond. No.          </th> <td>2.12e+07</td>\n",
       "</tr>\n",
       "</table><br/><br/>Warnings:<br/>[1] Standard Errors assume that the covariance matrix of the errors is correctly specified.<br/>[2] The condition number is large, 2.12e+07. This might indicate that there are<br/>strong multicollinearity or other numerical problems."
      ],
      "text/plain": [
       "<class 'statsmodels.iolib.summary.Summary'>\n",
       "\"\"\"\n",
       "                            OLS Regression Results                            \n",
       "==============================================================================\n",
       "Dep. Variable:          Log_SalePrice   R-squared:                       0.124\n",
       "Model:                            OLS   Adj. R-squared:                  0.121\n",
       "Method:                 Least Squares   F-statistic:                     40.63\n",
       "Date:                Fri, 13 May 2022   Prob (F-statistic):           7.03e-32\n",
       "Time:                        14:22:18   Log-Likelihood:                -465.77\n",
       "No. Observations:                1156   AIC:                             941.5\n",
       "Df Residuals:                    1151   BIC:                             966.8\n",
       "Df Model:                           4                                         \n",
       "Covariance Type:            nonrobust                                         \n",
       "==================================================================================\n",
       "                     coef    std err          t      P>|t|      [0.025      0.975]\n",
       "----------------------------------------------------------------------------------\n",
       "Intercept         24.6448     16.387      1.504      0.133      -7.507      56.797\n",
       "Street[T.Pave]     0.4407      0.258      1.710      0.087      -0.065       0.946\n",
       "Yr_Sold           -0.0066      0.008     -0.806      0.420      -0.023       0.009\n",
       "Lot_Frontage       0.0038      0.000      8.266      0.000       0.003       0.005\n",
       "Lot_Area        7.816e-06   1.42e-06      5.518      0.000    5.04e-06    1.06e-05\n",
       "==============================================================================\n",
       "Omnibus:                       83.103   Durbin-Watson:                   0.881\n",
       "Prob(Omnibus):                  0.000   Jarque-Bera (JB):              333.162\n",
       "Skew:                          -0.204   Prob(JB):                     4.52e-73\n",
       "Kurtosis:                       5.598   Cond. No.                     2.12e+07\n",
       "==============================================================================\n",
       "\n",
       "Warnings:\n",
       "[1] Standard Errors assume that the covariance matrix of the errors is correctly specified.\n",
       "[2] The condition number is large, 2.12e+07. This might indicate that there are\n",
       "strong multicollinearity or other numerical problems.\n",
       "\"\"\""
      ]
     },
     "execution_count": 39,
     "metadata": {},
     "output_type": "execute_result"
    }
   ],
   "source": [
    "final2 = smf.ols('Log_SalePrice ~ Yr_Sold + Lot_Frontage + Lot_Area + Street', data = Ames_new).fit()\n",
    "final2.summary()"
   ]
  },
  {
   "cell_type": "markdown",
   "metadata": {
    "id": "_Jcfo8YeJBbo"
   },
   "source": [
    "### Let's check the conditions."
   ]
  },
  {
   "cell_type": "markdown",
   "metadata": {
    "id": "-LxUTHyp_k9z"
   },
   "source": [
    "#### **1. Linearity Condition** - The amount of points above and below the line look almost equal and better spread than the last time hence the linearity condition is met."
   ]
  },
  {
   "cell_type": "code",
   "execution_count": null,
   "metadata": {
    "colab": {
     "base_uri": "https://localhost:8080/",
     "height": 279
    },
    "id": "A7FcHY0qFUZf",
    "outputId": "8e56bc18-e64e-486f-d455-6f8f6564577c"
   },
   "outputs": [
    {
     "data": {
      "image/png": "[encoded data removed]",
      "text/plain": [
       "<Figure size 432x288 with 1 Axes>"
      ]
     },
     "metadata": {
      "needs_background": "light"
     },
     "output_type": "display_data"
    }
   ],
   "source": [
    "\n",
    "sns.regplot(x = final2.fittedvalues, y = final2.resid, ci = None) \n",
    "plt.ylabel('Residual')\n",
    "plt.xlabel('Fitted Value')\n",
    "plt.show()"
   ]
  },
  {
   "cell_type": "markdown",
   "metadata": {
    "id": "LRcDe0snAQyW"
   },
   "source": [
    "#### **Constant Variablity y-axis** - The condition is still slightly off but this model might be preferred since it is closer to being met the conditions than the last one."
   ]
  },
  {
   "cell_type": "code",
   "execution_count": null,
   "metadata": {
    "colab": {
     "base_uri": "https://localhost:8080/",
     "height": 279
    },
    "id": "hbYlcT2BFUcX",
    "outputId": "90dd8dc8-af05-460e-ce18-17aadc13d25e"
   },
   "outputs": [
    {
     "data": {
      "image/png": "[encoded data removed]",
      "text/plain": [
       "<Figure size 432x288 with 1 Axes>"
      ]
     },
     "metadata": {
      "needs_background": "light"
     },
     "output_type": "display_data"
    }
   ],
   "source": [
    "\n",
    "sns.regplot(x = final2.fittedvalues, y = final2.resid, ci = None) \n",
    "plt.ylabel('Residual')\n",
    "plt.xlabel('Fitted Value')\n",
    "plt.show()"
   ]
  },
  {
   "cell_type": "markdown",
   "metadata": {
    "id": "HdxDKxRYBLnL"
   },
   "source": [
    "#### **3. Normality or residuals condition** -  It does not appear exactly normal but is still quite close to being a normal than the last one and hence I'll proceed with this model."
   ]
  },
  {
   "cell_type": "code",
   "execution_count": null,
   "metadata": {
    "colab": {
     "base_uri": "https://localhost:8080/",
     "height": 279
    },
    "id": "CWT9aub8JS1O",
    "outputId": "beae02dc-026d-4044-9e5b-3942802e4645"
   },
   "outputs": [
    {
     "data": {
      "image/png": "[encoded data removed]",
      "text/plain": [
       "<Figure size 432x288 with 1 Axes>"
      ]
     },
     "metadata": {
      "needs_background": "light"
     },
     "output_type": "display_data"
    }
   ],
   "source": [
    "plt.hist(final2.resid)\n",
    "plt.xlabel('Residuals')\n",
    "plt.show()"
   ]
  },
  {
   "cell_type": "markdown",
   "metadata": {
    "id": "QQpaClpzZG6m"
   },
   "source": [
    "#### Since the second model shows a stretch in the data points, I would like to proceed with this model. Even though the conditions aren't fully met but I would like to proceed with caution for this. "
   ]
  },
  {
   "cell_type": "markdown",
   "metadata": {
    "id": "QynAjzq2tSW8"
   },
   "source": [
    "### Predictions \n",
    "#### Below are the details of the house for which we want to make predicitions for:\n",
    "\n",
    "#### 1. The house has a Lot.Frontage of 80.\n",
    "#### 2. The house has a Lot.Area of 5120.\n",
    "#### 3. The house is located on Pave Street.\n",
    "#### 4. It was sold in the year 2008."
   ]
  },
  {
   "cell_type": "code",
   "execution_count": null,
   "metadata": {
    "colab": {
     "base_uri": "https://localhost:8080/"
    },
    "id": "H5tOlXwN5sD2",
    "outputId": "3a235fbc-6597-4de6-fe05-cb097de04cf6"
   },
   "outputs": [
    {
     "data": {
      "text/plain": [
       "0    12.212796\n",
       "dtype: float64"
      ]
     },
     "execution_count": 43,
     "metadata": {},
     "output_type": "execute_result"
    }
   ],
   "source": [
    "predicted = final2.predict(exog=dict(Lot_Frontage = 80, Lot_Area = 5120, Street = 'Pave', Yr_Sold = 2008))\n",
    "predicted"
   ]
  },
  {
   "cell_type": "code",
   "execution_count": null,
   "metadata": {
    "colab": {
     "base_uri": "https://localhost:8080/"
    },
    "id": "fTf88Te65sD2",
    "outputId": "8be28eee-5549-4ec5-f6d6-53e23d887103"
   },
   "outputs": [
    {
     "data": {
      "text/plain": [
       "0    201349.142035\n",
       "dtype: float64"
      ]
     },
     "execution_count": 44,
     "metadata": {},
     "output_type": "execute_result"
    }
   ],
   "source": [
    "np.exp(predicted)"
   ]
  },
  {
   "cell_type": "markdown",
   "metadata": {
    "id": "2CKL5mMnOAQs"
   },
   "source": [
    "#### Hence, the predicted Sale Price of house bought in 2008 is 164956.65."
   ]
  },
  {
   "cell_type": "markdown",
   "metadata": {
    "id": "8kZffv6C-lI1"
   },
   "source": [
    "### Conducting the Test to check whether a slope is non-zero or not \n"
   ]
  },
  {
   "cell_type": "markdown",
   "metadata": {
    "id": "PS_j12W7AeDe"
   },
   "source": [
    "##### **Note: Since we have already checked the conditions above, I'll proceed with them**. "
   ]
  },
  {
   "cell_type": "code",
   "execution_count": null,
   "metadata": {
    "colab": {
     "base_uri": "https://localhost:8080/",
     "height": 550
    },
    "id": "vA1Ba3iu_jRl",
    "outputId": "81587613-d601-4ccd-ddf6-709e7f9916fd"
   },
   "outputs": [
    {
     "data": {
      "text/html": [
       "<table class=\"simpletable\">\n",
       "<caption>OLS Regression Results</caption>\n",
       "<tr>\n",
       "  <th>Dep. Variable:</th>      <td>Log_SalePrice</td>  <th>  R-squared:         </th> <td>   0.124</td>\n",
       "</tr>\n",
       "<tr>\n",
       "  <th>Model:</th>                   <td>OLS</td>       <th>  Adj. R-squared:    </th> <td>   0.121</td>\n",
       "</tr>\n",
       "<tr>\n",
       "  <th>Method:</th>             <td>Least Squares</td>  <th>  F-statistic:       </th> <td>   40.63</td>\n",
       "</tr>\n",
       "<tr>\n",
       "  <th>Date:</th>             <td>Fri, 13 May 2022</td> <th>  Prob (F-statistic):</th> <td>7.03e-32</td>\n",
       "</tr>\n",
       "<tr>\n",
       "  <th>Time:</th>                 <td>14:22:18</td>     <th>  Log-Likelihood:    </th> <td> -465.77</td>\n",
       "</tr>\n",
       "<tr>\n",
       "  <th>No. Observations:</th>      <td>  1156</td>      <th>  AIC:               </th> <td>   941.5</td>\n",
       "</tr>\n",
       "<tr>\n",
       "  <th>Df Residuals:</th>          <td>  1151</td>      <th>  BIC:               </th> <td>   966.8</td>\n",
       "</tr>\n",
       "<tr>\n",
       "  <th>Df Model:</th>              <td>     4</td>      <th>                     </th>     <td> </td>   \n",
       "</tr>\n",
       "<tr>\n",
       "  <th>Covariance Type:</th>      <td>nonrobust</td>    <th>                     </th>     <td> </td>   \n",
       "</tr>\n",
       "</table>\n",
       "<table class=\"simpletable\">\n",
       "<tr>\n",
       "         <td></td>           <th>coef</th>     <th>std err</th>      <th>t</th>      <th>P>|t|</th>  <th>[0.025</th>    <th>0.975]</th>  \n",
       "</tr>\n",
       "<tr>\n",
       "  <th>Intercept</th>      <td>   24.6448</td> <td>   16.387</td> <td>    1.504</td> <td> 0.133</td> <td>   -7.507</td> <td>   56.797</td>\n",
       "</tr>\n",
       "<tr>\n",
       "  <th>Street[T.Pave]</th> <td>    0.4407</td> <td>    0.258</td> <td>    1.710</td> <td> 0.087</td> <td>   -0.065</td> <td>    0.946</td>\n",
       "</tr>\n",
       "<tr>\n",
       "  <th>Yr_Sold</th>        <td>   -0.0066</td> <td>    0.008</td> <td>   -0.806</td> <td> 0.420</td> <td>   -0.023</td> <td>    0.009</td>\n",
       "</tr>\n",
       "<tr>\n",
       "  <th>Lot_Frontage</th>   <td>    0.0038</td> <td>    0.000</td> <td>    8.266</td> <td> 0.000</td> <td>    0.003</td> <td>    0.005</td>\n",
       "</tr>\n",
       "<tr>\n",
       "  <th>Lot_Area</th>       <td> 7.816e-06</td> <td> 1.42e-06</td> <td>    5.518</td> <td> 0.000</td> <td> 5.04e-06</td> <td> 1.06e-05</td>\n",
       "</tr>\n",
       "</table>\n",
       "<table class=\"simpletable\">\n",
       "<tr>\n",
       "  <th>Omnibus:</th>       <td>83.103</td> <th>  Durbin-Watson:     </th> <td>   0.881</td>\n",
       "</tr>\n",
       "<tr>\n",
       "  <th>Prob(Omnibus):</th> <td> 0.000</td> <th>  Jarque-Bera (JB):  </th> <td> 333.162</td>\n",
       "</tr>\n",
       "<tr>\n",
       "  <th>Skew:</th>          <td>-0.204</td> <th>  Prob(JB):          </th> <td>4.52e-73</td>\n",
       "</tr>\n",
       "<tr>\n",
       "  <th>Kurtosis:</th>      <td> 5.598</td> <th>  Cond. No.          </th> <td>2.12e+07</td>\n",
       "</tr>\n",
       "</table><br/><br/>Warnings:<br/>[1] Standard Errors assume that the covariance matrix of the errors is correctly specified.<br/>[2] The condition number is large, 2.12e+07. This might indicate that there are<br/>strong multicollinearity or other numerical problems."
      ],
      "text/plain": [
       "<class 'statsmodels.iolib.summary.Summary'>\n",
       "\"\"\"\n",
       "                            OLS Regression Results                            \n",
       "==============================================================================\n",
       "Dep. Variable:          Log_SalePrice   R-squared:                       0.124\n",
       "Model:                            OLS   Adj. R-squared:                  0.121\n",
       "Method:                 Least Squares   F-statistic:                     40.63\n",
       "Date:                Fri, 13 May 2022   Prob (F-statistic):           7.03e-32\n",
       "Time:                        14:22:18   Log-Likelihood:                -465.77\n",
       "No. Observations:                1156   AIC:                             941.5\n",
       "Df Residuals:                    1151   BIC:                             966.8\n",
       "Df Model:                           4                                         \n",
       "Covariance Type:            nonrobust                                         \n",
       "==================================================================================\n",
       "                     coef    std err          t      P>|t|      [0.025      0.975]\n",
       "----------------------------------------------------------------------------------\n",
       "Intercept         24.6448     16.387      1.504      0.133      -7.507      56.797\n",
       "Street[T.Pave]     0.4407      0.258      1.710      0.087      -0.065       0.946\n",
       "Yr_Sold           -0.0066      0.008     -0.806      0.420      -0.023       0.009\n",
       "Lot_Frontage       0.0038      0.000      8.266      0.000       0.003       0.005\n",
       "Lot_Area        7.816e-06   1.42e-06      5.518      0.000    5.04e-06    1.06e-05\n",
       "==============================================================================\n",
       "Omnibus:                       83.103   Durbin-Watson:                   0.881\n",
       "Prob(Omnibus):                  0.000   Jarque-Bera (JB):              333.162\n",
       "Skew:                          -0.204   Prob(JB):                     4.52e-73\n",
       "Kurtosis:                       5.598   Cond. No.                     2.12e+07\n",
       "==============================================================================\n",
       "\n",
       "Warnings:\n",
       "[1] Standard Errors assume that the covariance matrix of the errors is correctly specified.\n",
       "[2] The condition number is large, 2.12e+07. This might indicate that there are\n",
       "strong multicollinearity or other numerical problems.\n",
       "\"\"\""
      ]
     },
     "execution_count": 45,
     "metadata": {},
     "output_type": "execute_result"
    }
   ],
   "source": [
    "final2.summary()"
   ]
  },
  {
   "cell_type": "markdown",
   "metadata": {
    "id": "VJafQC1V_clJ"
   },
   "source": [
    "#### The test-statistic and p-value from the summary table are as follows for all the individual slopes"
   ]
  },
  {
   "cell_type": "markdown",
   "metadata": {
    "id": "uZSI0U1pXT67"
   },
   "source": [
    "$H_0: \\beta_{Street[T.Pave]} =0$   \n",
    "\n",
    "$H_A:$ $\\beta_{Street[T.Pave]}\\neq 0$ "
   ]
  },
  {
   "cell_type": "markdown",
   "metadata": {
    "id": "kdInERvxJijb"
   },
   "source": [
    "#### Hypothesis test for Slope 1"
   ]
  },
  {
   "cell_type": "code",
   "execution_count": null,
   "metadata": {
    "colab": {
     "base_uri": "https://localhost:8080/"
    },
    "id": "XiTJrMwZDtzp",
    "outputId": "99a722c2-c138-49a8-c4e8-cc9d32078f7d"
   },
   "outputs": [
    {
     "name": "stdout",
     "output_type": "stream",
     "text": [
      "test statistic for slope 1.71\n",
      "p-value 0.0\n"
     ]
    }
   ],
   "source": [
    "test_stat1 = 1.710\n",
    "print('test statistic for slope', test_stat1)\n",
    "pvalue1 = 0.087\n",
    "print('p-value', pvalue)"
   ]
  },
  {
   "cell_type": "markdown",
   "metadata": {
    "id": "u3-eINq6_WyD"
   },
   "source": [
    "### Conclusion"
   ]
  },
  {
   "cell_type": "markdown",
   "metadata": {
    "id": "z1vjQM2P93h7"
   },
   "source": [
    "Because the $p-value= 0.087 > alpha=0.05$, we fail to reject our null hypothesis. Thus, there is suffificient evidence to suggest that the population slopes in the model predicting Sale Price with Street as one of the explanatory variable could be zero. \n"
   ]
  },
  {
   "cell_type": "markdown",
   "metadata": {
    "id": "J_TcROaQE82q"
   },
   "source": [
    "#### Hypothesis test for Slope 2"
   ]
  },
  {
   "cell_type": "markdown",
   "metadata": {
    "id": "F5M-6xiqE2fC"
   },
   "source": [
    "$H_0: \\beta_{Yr.Sold}=0$   \n",
    "\n",
    "$H_A:$ $\\beta_{Yr.Sold}\\neq 0$ "
   ]
  },
  {
   "cell_type": "code",
   "execution_count": null,
   "metadata": {
    "colab": {
     "base_uri": "https://localhost:8080/"
    },
    "id": "AauWLEP5Ew4Q",
    "outputId": "ba48f0a4-66a9-48aa-edde-02c15a450ee6"
   },
   "outputs": [
    {
     "name": "stdout",
     "output_type": "stream",
     "text": [
      "test statistic for slope -0.806\n",
      "p-value 0.42\n"
     ]
    }
   ],
   "source": [
    "test_stat2 = \t-0.806\n",
    "print('test statistic for slope', test_stat2)\n",
    "pvalue2 = 0.420\n",
    "print('p-value', pvalue2)"
   ]
  },
  {
   "cell_type": "markdown",
   "metadata": {
    "id": "GTM6xLt_KYgq"
   },
   "source": [
    "### Conclusion"
   ]
  },
  {
   "cell_type": "markdown",
   "metadata": {
    "id": "ybC9dfNmKZGJ"
   },
   "source": [
    "Because the $p-value= 0.42 > alpha=0.05$, we fail to reject the null hypothesis. Thus there is suffificient evidence to suggest that the population slopes in the model predicting Sale Price can have the yr.sold slope as 0. \n"
   ]
  },
  {
   "cell_type": "markdown",
   "metadata": {
    "id": "_23y-bGfJIKo"
   },
   "source": [
    "#### Hypothesis test for Slope 3"
   ]
  },
  {
   "cell_type": "markdown",
   "metadata": {
    "id": "V10b7w9xFctb"
   },
   "source": [
    "$H_0: \\beta_{Lot.Frontage}=0$   \n",
    "\n",
    "$H_A:$ $\\beta_{Lot.Frontage}\\neq 0$ "
   ]
  },
  {
   "cell_type": "code",
   "execution_count": null,
   "metadata": {
    "colab": {
     "base_uri": "https://localhost:8080/"
    },
    "id": "JqUJB6LpFaR2",
    "outputId": "94b15295-ecd2-457f-cbc2-3438ab551bb1"
   },
   "outputs": [
    {
     "name": "stdout",
     "output_type": "stream",
     "text": [
      "test statistic for slope 8.266\n",
      "p-value 0.0\n"
     ]
    }
   ],
   "source": [
    "test_stat3 = \t8.266\n",
    "print('test statistic for slope', test_stat3)\n",
    "pvalue3 = 0.000\n",
    "print('p-value', pvalue3)"
   ]
  },
  {
   "cell_type": "markdown",
   "metadata": {
    "id": "dssJyq91Keot"
   },
   "source": [
    "### Conclusion"
   ]
  },
  {
   "cell_type": "markdown",
   "metadata": {
    "id": "_lqX6jMkKerU"
   },
   "source": [
    "#### Because the $p-value= 0.000 < alpha=0.05$, we can reject the null hypothesis. As there is suffificient evidence to suggest that the population slopes is not zero i.e β not equal to 0 for lot.frontage \n"
   ]
  },
  {
   "cell_type": "markdown",
   "metadata": {
    "id": "yVZiGbk1JU98"
   },
   "source": [
    "#### Hypothesis test for Slope 4"
   ]
  },
  {
   "cell_type": "markdown",
   "metadata": {
    "id": "G57WbvHtHlf_"
   },
   "source": [
    "$H_0: \\beta_{Lot.Area}=0$   \n",
    "\n",
    "$H_A:$ $\\beta_{Lot.Area}\\neq 0$ "
   ]
  },
  {
   "cell_type": "code",
   "execution_count": null,
   "metadata": {
    "colab": {
     "base_uri": "https://localhost:8080/"
    },
    "id": "UW_N7X1pFaZG",
    "outputId": "95bcd365-0067-44f9-ee36-907a9fa2f803"
   },
   "outputs": [
    {
     "name": "stdout",
     "output_type": "stream",
     "text": [
      "test statistic for slope 5.518\n",
      "p-value 0.0\n"
     ]
    }
   ],
   "source": [
    "test_stat4 = 5.518\n",
    "print('test statistic for slope', test_stat4)\n",
    "pvalue4 = 0.000\n",
    "print('p-value', pvalue4)"
   ]
  },
  {
   "cell_type": "markdown",
   "metadata": {
    "id": "hfVH58JIK7Ep"
   },
   "source": [
    "### Conclusion"
   ]
  },
  {
   "cell_type": "markdown",
   "metadata": {
    "id": "aUmxlX6lK7vS"
   },
   "source": [
    "#### Because the $p-value= 0.000 < alpha=0.05$, we reject the null hypothesis. Thus there is suffificient evidence to suggest that the population slopes is not zero i.e β not equal to 0. "
   ]
  },
  {
   "cell_type": "markdown",
   "metadata": {
    "id": "zr_FkW-ARrXT"
   },
   "source": [
    "#### Hence, all the above conclusions suggest that Lot.Frontage and Lot.Area slopes are non-zero. And, Street and Yr_Sold have evidences that suggest it could be zero."
   ]
  },
  {
   "cell_type": "markdown",
   "metadata": {
    "id": "vfBrlYQe5sD2"
   },
   "source": [
    "### **5. Logistic Regression**"
   ]
  },
  {
   "cell_type": "markdown",
   "metadata": {
    "id": "wFwBcROYBBF9"
   },
   "source": [
    "**Research Question**: Is there any linear relationship  between the log-odds of the success level of Sale Condition and Lot Shape, Lot Area, Sale Price, Year Sold  and Street?\n",
    "\n",
    "First, we would like to fit a logistic regression model that will predict the probability that a given the Sale Condition is normal ie. (y=1), given the following explanatory variables:\n",
    "\n",
    "- Lot Shape\n",
    "\n",
    "- Lot Area\n",
    "\n",
    "- Sale Price\n",
    "\n",
    "- Year Sold\n",
    "\n",
    "- Street\n"
   ]
  },
  {
   "cell_type": "markdown",
   "metadata": {
    "id": "6OZVe0bm-yQA"
   },
   "source": [
    "####5.1 Fitting the model"
   ]
  },
  {
   "cell_type": "code",
   "execution_count": null,
   "metadata": {
    "colab": {
     "base_uri": "https://localhost:8080/"
    },
    "id": "dA-9jngy5sD2",
    "outputId": "b2bfd358-4455-4cbb-a840-5051db5e7687"
   },
   "outputs": [
    {
     "data": {
      "text/plain": [
       "Normal     929\n",
       "Partial    154\n",
       "Abnorml     49\n",
       "Family      19\n",
       "Alloca       5\n",
       "Name: Sale_Condition, dtype: int64"
      ]
     },
     "execution_count": 50,
     "metadata": {},
     "output_type": "execute_result"
    }
   ],
   "source": [
    "Ames_new['Sale_Condition'].value_counts()"
   ]
  },
  {
   "cell_type": "code",
   "execution_count": null,
   "metadata": {
    "colab": {
     "base_uri": "https://localhost:8080/",
     "height": 595
    },
    "id": "NaRctP2F5sD2",
    "outputId": "6b733721-fb5e-40c7-c075-ec081a530b77"
   },
   "outputs": [
    {
     "name": "stderr",
     "output_type": "stream",
     "text": [
      "/usr/local/lib/python3.7/dist-packages/ipykernel_launcher.py:2: SettingWithCopyWarning: \n",
      "A value is trying to be set on a copy of a slice from a DataFrame.\n",
      "Try using .loc[row_indexer,col_indexer] = value instead\n",
      "\n",
      "See the caveats in the documentation: https://pandas.pydata.org/pandas-docs/stable/user_guide/indexing.html#returning-a-view-versus-a-copy\n",
      "  \n"
     ]
    },
    {
     "data": {
      "text/html": [
       "\n",
       "  <div id=\"df-e37d6b47-44ee-4fe9-9931-49570ae5ebf9\">\n",
       "    <div class=\"colab-df-container\">\n",
       "      <div>\n",
       "<style scoped>\n",
       "    .dataframe tbody tr th:only-of-type {\n",
       "        vertical-align: middle;\n",
       "    }\n",
       "\n",
       "    .dataframe tbody tr th {\n",
       "        vertical-align: top;\n",
       "    }\n",
       "\n",
       "    .dataframe thead th {\n",
       "        text-align: right;\n",
       "    }\n",
       "</style>\n",
       "<table border=\"1\" class=\"dataframe\">\n",
       "  <thead>\n",
       "    <tr style=\"text-align: right;\">\n",
       "      <th></th>\n",
       "      <th>Order</th>\n",
       "      <th>PID</th>\n",
       "      <th>MS_SubClass</th>\n",
       "      <th>MS_Zoning</th>\n",
       "      <th>Lot_Frontage</th>\n",
       "      <th>Lot_Area</th>\n",
       "      <th>Street</th>\n",
       "      <th>Lot_Shape</th>\n",
       "      <th>Land_Contour</th>\n",
       "      <th>Utilities</th>\n",
       "      <th>...</th>\n",
       "      <th>Screen_Porch</th>\n",
       "      <th>Pool_Area</th>\n",
       "      <th>Misc_Val</th>\n",
       "      <th>Mo_Sold</th>\n",
       "      <th>Yr_Sold</th>\n",
       "      <th>Sale_Type</th>\n",
       "      <th>Sale_Condition</th>\n",
       "      <th>SalePrice</th>\n",
       "      <th>Log_SalePrice</th>\n",
       "      <th>y</th>\n",
       "    </tr>\n",
       "  </thead>\n",
       "  <tbody>\n",
       "    <tr>\n",
       "      <th>0</th>\n",
       "      <td>1</td>\n",
       "      <td>526301100</td>\n",
       "      <td>20</td>\n",
       "      <td>RL</td>\n",
       "      <td>141.0</td>\n",
       "      <td>31770</td>\n",
       "      <td>Pave</td>\n",
       "      <td>IR1</td>\n",
       "      <td>Lvl</td>\n",
       "      <td>AllPub</td>\n",
       "      <td>...</td>\n",
       "      <td>0</td>\n",
       "      <td>0</td>\n",
       "      <td>0</td>\n",
       "      <td>5</td>\n",
       "      <td>2010</td>\n",
       "      <td>WD</td>\n",
       "      <td>Normal</td>\n",
       "      <td>215000</td>\n",
       "      <td>12.278393</td>\n",
       "      <td>1</td>\n",
       "    </tr>\n",
       "    <tr>\n",
       "      <th>3</th>\n",
       "      <td>4</td>\n",
       "      <td>526353030</td>\n",
       "      <td>20</td>\n",
       "      <td>RL</td>\n",
       "      <td>93.0</td>\n",
       "      <td>11160</td>\n",
       "      <td>Pave</td>\n",
       "      <td>Reg</td>\n",
       "      <td>Lvl</td>\n",
       "      <td>AllPub</td>\n",
       "      <td>...</td>\n",
       "      <td>0</td>\n",
       "      <td>0</td>\n",
       "      <td>0</td>\n",
       "      <td>4</td>\n",
       "      <td>2010</td>\n",
       "      <td>WD</td>\n",
       "      <td>Normal</td>\n",
       "      <td>244000</td>\n",
       "      <td>12.404924</td>\n",
       "      <td>1</td>\n",
       "    </tr>\n",
       "    <tr>\n",
       "      <th>4</th>\n",
       "      <td>5</td>\n",
       "      <td>527105010</td>\n",
       "      <td>60</td>\n",
       "      <td>RL</td>\n",
       "      <td>74.0</td>\n",
       "      <td>13830</td>\n",
       "      <td>Pave</td>\n",
       "      <td>IR1</td>\n",
       "      <td>Lvl</td>\n",
       "      <td>AllPub</td>\n",
       "      <td>...</td>\n",
       "      <td>0</td>\n",
       "      <td>0</td>\n",
       "      <td>0</td>\n",
       "      <td>3</td>\n",
       "      <td>2010</td>\n",
       "      <td>WD</td>\n",
       "      <td>Normal</td>\n",
       "      <td>189900</td>\n",
       "      <td>12.154253</td>\n",
       "      <td>1</td>\n",
       "    </tr>\n",
       "    <tr>\n",
       "      <th>5</th>\n",
       "      <td>6</td>\n",
       "      <td>527105030</td>\n",
       "      <td>60</td>\n",
       "      <td>RL</td>\n",
       "      <td>78.0</td>\n",
       "      <td>9978</td>\n",
       "      <td>Pave</td>\n",
       "      <td>IR1</td>\n",
       "      <td>Lvl</td>\n",
       "      <td>AllPub</td>\n",
       "      <td>...</td>\n",
       "      <td>0</td>\n",
       "      <td>0</td>\n",
       "      <td>0</td>\n",
       "      <td>6</td>\n",
       "      <td>2010</td>\n",
       "      <td>WD</td>\n",
       "      <td>Normal</td>\n",
       "      <td>195500</td>\n",
       "      <td>12.183316</td>\n",
       "      <td>1</td>\n",
       "    </tr>\n",
       "    <tr>\n",
       "      <th>8</th>\n",
       "      <td>9</td>\n",
       "      <td>527146030</td>\n",
       "      <td>120</td>\n",
       "      <td>RL</td>\n",
       "      <td>39.0</td>\n",
       "      <td>5389</td>\n",
       "      <td>Pave</td>\n",
       "      <td>IR1</td>\n",
       "      <td>Lvl</td>\n",
       "      <td>AllPub</td>\n",
       "      <td>...</td>\n",
       "      <td>0</td>\n",
       "      <td>0</td>\n",
       "      <td>0</td>\n",
       "      <td>3</td>\n",
       "      <td>2010</td>\n",
       "      <td>WD</td>\n",
       "      <td>Normal</td>\n",
       "      <td>236500</td>\n",
       "      <td>12.373703</td>\n",
       "      <td>1</td>\n",
       "    </tr>\n",
       "    <tr>\n",
       "      <th>...</th>\n",
       "      <td>...</td>\n",
       "      <td>...</td>\n",
       "      <td>...</td>\n",
       "      <td>...</td>\n",
       "      <td>...</td>\n",
       "      <td>...</td>\n",
       "      <td>...</td>\n",
       "      <td>...</td>\n",
       "      <td>...</td>\n",
       "      <td>...</td>\n",
       "      <td>...</td>\n",
       "      <td>...</td>\n",
       "      <td>...</td>\n",
       "      <td>...</td>\n",
       "      <td>...</td>\n",
       "      <td>...</td>\n",
       "      <td>...</td>\n",
       "      <td>...</td>\n",
       "      <td>...</td>\n",
       "      <td>...</td>\n",
       "      <td>...</td>\n",
       "    </tr>\n",
       "    <tr>\n",
       "      <th>2915</th>\n",
       "      <td>2916</td>\n",
       "      <td>923227100</td>\n",
       "      <td>20</td>\n",
       "      <td>RL</td>\n",
       "      <td>80.0</td>\n",
       "      <td>13384</td>\n",
       "      <td>Pave</td>\n",
       "      <td>Reg</td>\n",
       "      <td>Lvl</td>\n",
       "      <td>AllPub</td>\n",
       "      <td>...</td>\n",
       "      <td>0</td>\n",
       "      <td>0</td>\n",
       "      <td>0</td>\n",
       "      <td>5</td>\n",
       "      <td>2006</td>\n",
       "      <td>WD</td>\n",
       "      <td>Normal</td>\n",
       "      <td>140000</td>\n",
       "      <td>11.849398</td>\n",
       "      <td>1</td>\n",
       "    </tr>\n",
       "    <tr>\n",
       "      <th>2923</th>\n",
       "      <td>2924</td>\n",
       "      <td>923250060</td>\n",
       "      <td>20</td>\n",
       "      <td>RL</td>\n",
       "      <td>80.0</td>\n",
       "      <td>17400</td>\n",
       "      <td>Pave</td>\n",
       "      <td>Reg</td>\n",
       "      <td>Low</td>\n",
       "      <td>AllPub</td>\n",
       "      <td>...</td>\n",
       "      <td>0</td>\n",
       "      <td>0</td>\n",
       "      <td>0</td>\n",
       "      <td>5</td>\n",
       "      <td>2006</td>\n",
       "      <td>WD</td>\n",
       "      <td>Normal</td>\n",
       "      <td>160000</td>\n",
       "      <td>11.982929</td>\n",
       "      <td>1</td>\n",
       "    </tr>\n",
       "    <tr>\n",
       "      <th>2924</th>\n",
       "      <td>2925</td>\n",
       "      <td>923251180</td>\n",
       "      <td>20</td>\n",
       "      <td>RL</td>\n",
       "      <td>160.0</td>\n",
       "      <td>20000</td>\n",
       "      <td>Pave</td>\n",
       "      <td>Reg</td>\n",
       "      <td>Lvl</td>\n",
       "      <td>AllPub</td>\n",
       "      <td>...</td>\n",
       "      <td>0</td>\n",
       "      <td>0</td>\n",
       "      <td>0</td>\n",
       "      <td>9</td>\n",
       "      <td>2006</td>\n",
       "      <td>WD</td>\n",
       "      <td>Abnorml</td>\n",
       "      <td>131000</td>\n",
       "      <td>11.782953</td>\n",
       "      <td>0</td>\n",
       "    </tr>\n",
       "    <tr>\n",
       "      <th>2928</th>\n",
       "      <td>2929</td>\n",
       "      <td>924100070</td>\n",
       "      <td>20</td>\n",
       "      <td>RL</td>\n",
       "      <td>77.0</td>\n",
       "      <td>10010</td>\n",
       "      <td>Pave</td>\n",
       "      <td>Reg</td>\n",
       "      <td>Lvl</td>\n",
       "      <td>AllPub</td>\n",
       "      <td>...</td>\n",
       "      <td>0</td>\n",
       "      <td>0</td>\n",
       "      <td>0</td>\n",
       "      <td>4</td>\n",
       "      <td>2006</td>\n",
       "      <td>WD</td>\n",
       "      <td>Normal</td>\n",
       "      <td>170000</td>\n",
       "      <td>12.043554</td>\n",
       "      <td>1</td>\n",
       "    </tr>\n",
       "    <tr>\n",
       "      <th>2929</th>\n",
       "      <td>2930</td>\n",
       "      <td>924151050</td>\n",
       "      <td>60</td>\n",
       "      <td>RL</td>\n",
       "      <td>74.0</td>\n",
       "      <td>9627</td>\n",
       "      <td>Pave</td>\n",
       "      <td>Reg</td>\n",
       "      <td>Lvl</td>\n",
       "      <td>AllPub</td>\n",
       "      <td>...</td>\n",
       "      <td>0</td>\n",
       "      <td>0</td>\n",
       "      <td>0</td>\n",
       "      <td>11</td>\n",
       "      <td>2006</td>\n",
       "      <td>WD</td>\n",
       "      <td>Normal</td>\n",
       "      <td>188000</td>\n",
       "      <td>12.144197</td>\n",
       "      <td>1</td>\n",
       "    </tr>\n",
       "  </tbody>\n",
       "</table>\n",
       "<p>1156 rows × 80 columns</p>\n",
       "</div>\n",
       "      <button class=\"colab-df-convert\" onclick=\"convertToInteractive('df-e37d6b47-44ee-4fe9-9931-49570ae5ebf9')\"\n",
       "              title=\"Convert this dataframe to an interactive table.\"\n",
       "              style=\"display:none;\">\n",
       "        \n",
       "  <svg xmlns=\"http://www.w3.org/2000/svg\" height=\"24px\"viewBox=\"0 0 24 24\"\n",
       "       width=\"24px\">\n",
       "    <path d=\"M0 0h24v24H0V0z\" fill=\"none\"/>\n",
       "    <path d=\"M18.56 5.44l.94 2.06.94-2.06 2.06-.94-2.06-.94-.94-2.06-.94 2.06-2.06.94zm-11 1L8.5 8.5l.94-2.06 2.06-.94-2.06-.94L8.5 2.5l-.94 2.06-2.06.94zm10 10l.94 2.06.94-2.06 2.06-.94-2.06-.94-.94-2.06-.94 2.06-2.06.94z\"/><path d=\"M17.41 7.96l-1.37-1.37c-.4-.4-.92-.59-1.43-.59-.52 0-1.04.2-1.43.59L10.3 9.45l-7.72 7.72c-.78.78-.78 2.05 0 2.83L4 21.41c.39.39.9.59 1.41.59.51 0 1.02-.2 1.41-.59l7.78-7.78 2.81-2.81c.8-.78.8-2.07 0-2.86zM5.41 20L4 18.59l7.72-7.72 1.47 1.35L5.41 20z\"/>\n",
       "  </svg>\n",
       "      </button>\n",
       "      \n",
       "  <style>\n",
       "    .colab-df-container {\n",
       "      display:flex;\n",
       "      flex-wrap:wrap;\n",
       "      gap: 12px;\n",
       "    }\n",
       "\n",
       "    .colab-df-convert {\n",
       "      background-color: #E8F0FE;\n",
       "      border: none;\n",
       "      border-radius: 50%;\n",
       "      cursor: pointer;\n",
       "      display: none;\n",
       "      fill: #1967D2;\n",
       "      height: 32px;\n",
       "      padding: 0 0 0 0;\n",
       "      width: 32px;\n",
       "    }\n",
       "\n",
       "    .colab-df-convert:hover {\n",
       "      background-color: #E2EBFA;\n",
       "      box-shadow: 0px 1px 2px rgba(60, 64, 67, 0.3), 0px 1px 3px 1px rgba(60, 64, 67, 0.15);\n",
       "      fill: #174EA6;\n",
       "    }\n",
       "\n",
       "    [theme=dark] .colab-df-convert {\n",
       "      background-color: #3B4455;\n",
       "      fill: #D2E3FC;\n",
       "    }\n",
       "\n",
       "    [theme=dark] .colab-df-convert:hover {\n",
       "      background-color: #434B5C;\n",
       "      box-shadow: 0px 1px 3px 1px rgba(0, 0, 0, 0.15);\n",
       "      filter: drop-shadow(0px 1px 2px rgba(0, 0, 0, 0.3));\n",
       "      fill: #FFFFFF;\n",
       "    }\n",
       "  </style>\n",
       "\n",
       "      <script>\n",
       "        const buttonEl =\n",
       "          document.querySelector('#df-e37d6b47-44ee-4fe9-9931-49570ae5ebf9 button.colab-df-convert');\n",
       "        buttonEl.style.display =\n",
       "          google.colab.kernel.accessAllowed ? 'block' : 'none';\n",
       "\n",
       "        async function convertToInteractive(key) {\n",
       "          const element = document.querySelector('#df-e37d6b47-44ee-4fe9-9931-49570ae5ebf9');\n",
       "          const dataTable =\n",
       "            await google.colab.kernel.invokeFunction('convertToInteractive',\n",
       "                                                     [key], {});\n",
       "          if (!dataTable) return;\n",
       "\n",
       "          const docLinkHtml = 'Like what you see? Visit the ' +\n",
       "            '<a target=\"_blank\" href=https://colab.research.google.com/notebooks/data_table.ipynb>data table notebook</a>'\n",
       "            + ' to learn more about interactive tables.';\n",
       "          element.innerHTML = '';\n",
       "          dataTable['output_type'] = 'display_data';\n",
       "          await google.colab.output.renderOutput(dataTable, element);\n",
       "          const docLink = document.createElement('div');\n",
       "          docLink.innerHTML = docLinkHtml;\n",
       "          element.appendChild(docLink);\n",
       "        }\n",
       "      </script>\n",
       "    </div>\n",
       "  </div>\n",
       "  "
      ],
      "text/plain": [
       "      Order        PID  MS_SubClass MS_Zoning  Lot_Frontage  Lot_Area Street  \\\n",
       "0         1  526301100           20        RL         141.0     31770   Pave   \n",
       "3         4  526353030           20        RL          93.0     11160   Pave   \n",
       "4         5  527105010           60        RL          74.0     13830   Pave   \n",
       "5         6  527105030           60        RL          78.0      9978   Pave   \n",
       "8         9  527146030          120        RL          39.0      5389   Pave   \n",
       "...     ...        ...          ...       ...           ...       ...    ...   \n",
       "2915   2916  923227100           20        RL          80.0     13384   Pave   \n",
       "2923   2924  923250060           20        RL          80.0     17400   Pave   \n",
       "2924   2925  923251180           20        RL         160.0     20000   Pave   \n",
       "2928   2929  924100070           20        RL          77.0     10010   Pave   \n",
       "2929   2930  924151050           60        RL          74.0      9627   Pave   \n",
       "\n",
       "     Lot_Shape Land_Contour Utilities  ... Screen_Porch Pool_Area Misc_Val  \\\n",
       "0          IR1          Lvl    AllPub  ...            0         0        0   \n",
       "3          Reg          Lvl    AllPub  ...            0         0        0   \n",
       "4          IR1          Lvl    AllPub  ...            0         0        0   \n",
       "5          IR1          Lvl    AllPub  ...            0         0        0   \n",
       "8          IR1          Lvl    AllPub  ...            0         0        0   \n",
       "...        ...          ...       ...  ...          ...       ...      ...   \n",
       "2915       Reg          Lvl    AllPub  ...            0         0        0   \n",
       "2923       Reg          Low    AllPub  ...            0         0        0   \n",
       "2924       Reg          Lvl    AllPub  ...            0         0        0   \n",
       "2928       Reg          Lvl    AllPub  ...            0         0        0   \n",
       "2929       Reg          Lvl    AllPub  ...            0         0        0   \n",
       "\n",
       "     Mo_Sold Yr_Sold Sale_Type Sale_Condition  SalePrice  Log_SalePrice  y  \n",
       "0          5    2010       WD          Normal     215000      12.278393  1  \n",
       "3          4    2010       WD          Normal     244000      12.404924  1  \n",
       "4          3    2010       WD          Normal     189900      12.154253  1  \n",
       "5          6    2010       WD          Normal     195500      12.183316  1  \n",
       "8          3    2010       WD          Normal     236500      12.373703  1  \n",
       "...      ...     ...       ...            ...        ...            ... ..  \n",
       "2915       5    2006       WD          Normal     140000      11.849398  1  \n",
       "2923       5    2006       WD          Normal     160000      11.982929  1  \n",
       "2924       9    2006       WD         Abnorml     131000      11.782953  0  \n",
       "2928       4    2006       WD          Normal     170000      12.043554  1  \n",
       "2929      11    2006       WD          Normal     188000      12.144197  1  \n",
       "\n",
       "[1156 rows x 80 columns]"
      ]
     },
     "execution_count": 51,
     "metadata": {},
     "output_type": "execute_result"
    }
   ],
   "source": [
    "#define y \n",
    "Ames_new['y']=Ames_new['Sale_Condition'].map({'Normal': 1, 'Partial': 0, 'Abnorml':0, 'Family':0,'Alloca':0,'AdjLand':0 })\n",
    "Ames_new"
   ]
  },
  {
   "cell_type": "code",
   "execution_count": null,
   "metadata": {
    "id": "VVbcULTEOAJ9"
   },
   "outputs": [],
   "source": [
    "#split data into trainning and test dataset\n",
    "train, test = train_test_split(Ames_new, test_size = 0.20, random_state = 123)"
   ]
  },
  {
   "cell_type": "markdown",
   "metadata": {
    "id": "DYIIZxyTR37S"
   },
   "source": [
    "####**SMALL Analytics Question:** Is the proportion of sale conditions are different for at least one of lot shape in this proportion?"
   ]
  },
  {
   "cell_type": "code",
   "execution_count": null,
   "metadata": {
    "colab": {
     "base_uri": "https://localhost:8080/",
     "height": 434
    },
    "id": "KEwUjdYamWc3",
    "outputId": "0d9f84f0-0fb4-48bb-a637-c62f2daa9a57"
   },
   "outputs": [
    {
     "name": "stdout",
     "output_type": "stream",
     "text": [
      "Optimization terminated successfully.\n",
      "         Current function value: 0.450471\n",
      "         Iterations 7\n"
     ]
    },
    {
     "data": {
      "text/html": [
       "<table class=\"simpletable\">\n",
       "<caption>Logit Regression Results</caption>\n",
       "<tr>\n",
       "  <th>Dep. Variable:</th>           <td>y</td>        <th>  No. Observations:  </th>  <td>   924</td>  \n",
       "</tr>\n",
       "<tr>\n",
       "  <th>Model:</th>                 <td>Logit</td>      <th>  Df Residuals:      </th>  <td>   916</td>  \n",
       "</tr>\n",
       "<tr>\n",
       "  <th>Method:</th>                 <td>MLE</td>       <th>  Df Model:          </th>  <td>     7</td>  \n",
       "</tr>\n",
       "<tr>\n",
       "  <th>Date:</th>            <td>Fri, 13 May 2022</td> <th>  Pseudo R-squ.:     </th>  <td>0.08362</td> \n",
       "</tr>\n",
       "<tr>\n",
       "  <th>Time:</th>                <td>14:22:18</td>     <th>  Log-Likelihood:    </th> <td> -416.24</td> \n",
       "</tr>\n",
       "<tr>\n",
       "  <th>converged:</th>             <td>True</td>       <th>  LL-Null:           </th> <td> -454.22</td> \n",
       "</tr>\n",
       "<tr>\n",
       "  <th>Covariance Type:</th>     <td>nonrobust</td>    <th>  LLR p-value:       </th> <td>9.143e-14</td>\n",
       "</tr>\n",
       "</table>\n",
       "<table class=\"simpletable\">\n",
       "<tr>\n",
       "          <td></td>            <th>coef</th>     <th>std err</th>      <th>z</th>      <th>P>|z|</th>  <th>[0.025</th>    <th>0.975]</th>  \n",
       "</tr>\n",
       "<tr>\n",
       "  <th>Intercept</th>        <td> -568.0841</td> <td>  139.596</td> <td>   -4.069</td> <td> 0.000</td> <td> -841.687</td> <td> -294.481</td>\n",
       "</tr>\n",
       "<tr>\n",
       "  <th>Street[T.Pave]</th>   <td>    1.7774</td> <td>    1.434</td> <td>    1.239</td> <td> 0.215</td> <td>   -1.034</td> <td>    4.588</td>\n",
       "</tr>\n",
       "<tr>\n",
       "  <th>Lot_Shape[T.IR2]</th> <td>    0.4925</td> <td>    0.614</td> <td>    0.802</td> <td> 0.422</td> <td>   -0.711</td> <td>    1.696</td>\n",
       "</tr>\n",
       "<tr>\n",
       "  <th>Lot_Shape[T.IR3]</th> <td>   -0.6688</td> <td>    0.937</td> <td>   -0.713</td> <td> 0.476</td> <td>   -2.506</td> <td>    1.169</td>\n",
       "</tr>\n",
       "<tr>\n",
       "  <th>Lot_Shape[T.Reg]</th> <td>   -0.0519</td> <td>    0.185</td> <td>   -0.280</td> <td> 0.779</td> <td>   -0.415</td> <td>    0.311</td>\n",
       "</tr>\n",
       "<tr>\n",
       "  <th>SalePrice</th>        <td>-6.651e-06</td> <td> 9.43e-07</td> <td>   -7.051</td> <td> 0.000</td> <td> -8.5e-06</td> <td> -4.8e-06</td>\n",
       "</tr>\n",
       "<tr>\n",
       "  <th>Lot_Area</th>         <td> 6.627e-06</td> <td>  1.1e-05</td> <td>    0.601</td> <td> 0.548</td> <td> -1.5e-05</td> <td> 2.82e-05</td>\n",
       "</tr>\n",
       "<tr>\n",
       "  <th>Yr_Sold</th>          <td>    0.2836</td> <td>    0.070</td> <td>    4.076</td> <td> 0.000</td> <td>    0.147</td> <td>    0.420</td>\n",
       "</tr>\n",
       "</table>"
      ],
      "text/plain": [
       "<class 'statsmodels.iolib.summary.Summary'>\n",
       "\"\"\"\n",
       "                           Logit Regression Results                           \n",
       "==============================================================================\n",
       "Dep. Variable:                      y   No. Observations:                  924\n",
       "Model:                          Logit   Df Residuals:                      916\n",
       "Method:                           MLE   Df Model:                            7\n",
       "Date:                Fri, 13 May 2022   Pseudo R-squ.:                 0.08362\n",
       "Time:                        14:22:18   Log-Likelihood:                -416.24\n",
       "converged:                       True   LL-Null:                       -454.22\n",
       "Covariance Type:            nonrobust   LLR p-value:                 9.143e-14\n",
       "====================================================================================\n",
       "                       coef    std err          z      P>|z|      [0.025      0.975]\n",
       "------------------------------------------------------------------------------------\n",
       "Intercept         -568.0841    139.596     -4.069      0.000    -841.687    -294.481\n",
       "Street[T.Pave]       1.7774      1.434      1.239      0.215      -1.034       4.588\n",
       "Lot_Shape[T.IR2]     0.4925      0.614      0.802      0.422      -0.711       1.696\n",
       "Lot_Shape[T.IR3]    -0.6688      0.937     -0.713      0.476      -2.506       1.169\n",
       "Lot_Shape[T.Reg]    -0.0519      0.185     -0.280      0.779      -0.415       0.311\n",
       "SalePrice        -6.651e-06   9.43e-07     -7.051      0.000    -8.5e-06    -4.8e-06\n",
       "Lot_Area          6.627e-06    1.1e-05      0.601      0.548    -1.5e-05    2.82e-05\n",
       "Yr_Sold              0.2836      0.070      4.076      0.000       0.147       0.420\n",
       "====================================================================================\n",
       "\"\"\""
      ]
     },
     "execution_count": 53,
     "metadata": {},
     "output_type": "execute_result"
    }
   ],
   "source": [
    "mod_full=smf.logit('y~SalePrice+Street+Lot_Area+Yr_Sold+Lot_Shape', data=train).fit()\n",
    "mod_full.summary()"
   ]
  },
  {
   "cell_type": "code",
   "execution_count": null,
   "metadata": {
    "colab": {
     "base_uri": "https://localhost:8080/",
     "height": 370
    },
    "id": "3CJ1Mscq5sD2",
    "outputId": "b18a54a2-bfbd-4cf5-cb3d-5080731ea653"
   },
   "outputs": [
    {
     "name": "stdout",
     "output_type": "stream",
     "text": [
      "Optimization terminated successfully.\n",
      "         Current function value: 0.451220\n",
      "         Iterations 7\n"
     ]
    },
    {
     "data": {
      "text/html": [
       "<table class=\"simpletable\">\n",
       "<caption>Logit Regression Results</caption>\n",
       "<tr>\n",
       "  <th>Dep. Variable:</th>           <td>y</td>        <th>  No. Observations:  </th>  <td>   924</td>  \n",
       "</tr>\n",
       "<tr>\n",
       "  <th>Model:</th>                 <td>Logit</td>      <th>  Df Residuals:      </th>  <td>   919</td>  \n",
       "</tr>\n",
       "<tr>\n",
       "  <th>Method:</th>                 <td>MLE</td>       <th>  Df Model:          </th>  <td>     4</td>  \n",
       "</tr>\n",
       "<tr>\n",
       "  <th>Date:</th>            <td>Fri, 13 May 2022</td> <th>  Pseudo R-squ.:     </th>  <td>0.08210</td> \n",
       "</tr>\n",
       "<tr>\n",
       "  <th>Time:</th>                <td>14:22:18</td>     <th>  Log-Likelihood:    </th> <td> -416.93</td> \n",
       "</tr>\n",
       "<tr>\n",
       "  <th>converged:</th>             <td>True</td>       <th>  LL-Null:           </th> <td> -454.22</td> \n",
       "</tr>\n",
       "<tr>\n",
       "  <th>Covariance Type:</th>     <td>nonrobust</td>    <th>  LLR p-value:       </th> <td>2.446e-15</td>\n",
       "</tr>\n",
       "</table>\n",
       "<table class=\"simpletable\">\n",
       "<tr>\n",
       "         <td></td>           <th>coef</th>     <th>std err</th>      <th>z</th>      <th>P>|z|</th>  <th>[0.025</th>    <th>0.975]</th>  \n",
       "</tr>\n",
       "<tr>\n",
       "  <th>Intercept</th>      <td> -566.7128</td> <td>  139.044</td> <td>   -4.076</td> <td> 0.000</td> <td> -839.234</td> <td> -294.192</td>\n",
       "</tr>\n",
       "<tr>\n",
       "  <th>Street[T.Pave]</th> <td>    1.7718</td> <td>    1.431</td> <td>    1.238</td> <td> 0.216</td> <td>   -1.033</td> <td>    4.577</td>\n",
       "</tr>\n",
       "<tr>\n",
       "  <th>SalePrice</th>      <td>-6.461e-06</td> <td> 9.16e-07</td> <td>   -7.051</td> <td> 0.000</td> <td>-8.26e-06</td> <td>-4.67e-06</td>\n",
       "</tr>\n",
       "<tr>\n",
       "  <th>Lot_Area</th>       <td> 5.278e-06</td> <td> 1.09e-05</td> <td>    0.486</td> <td> 0.627</td> <td> -1.6e-05</td> <td> 2.66e-05</td>\n",
       "</tr>\n",
       "<tr>\n",
       "  <th>Yr_Sold</th>        <td>    0.2828</td> <td>    0.069</td> <td>    4.083</td> <td> 0.000</td> <td>    0.147</td> <td>    0.419</td>\n",
       "</tr>\n",
       "</table>"
      ],
      "text/plain": [
       "<class 'statsmodels.iolib.summary.Summary'>\n",
       "\"\"\"\n",
       "                           Logit Regression Results                           \n",
       "==============================================================================\n",
       "Dep. Variable:                      y   No. Observations:                  924\n",
       "Model:                          Logit   Df Residuals:                      919\n",
       "Method:                           MLE   Df Model:                            4\n",
       "Date:                Fri, 13 May 2022   Pseudo R-squ.:                 0.08210\n",
       "Time:                        14:22:18   Log-Likelihood:                -416.93\n",
       "converged:                       True   LL-Null:                       -454.22\n",
       "Covariance Type:            nonrobust   LLR p-value:                 2.446e-15\n",
       "==================================================================================\n",
       "                     coef    std err          z      P>|z|      [0.025      0.975]\n",
       "----------------------------------------------------------------------------------\n",
       "Intercept       -566.7128    139.044     -4.076      0.000    -839.234    -294.192\n",
       "Street[T.Pave]     1.7718      1.431      1.238      0.216      -1.033       4.577\n",
       "SalePrice      -6.461e-06   9.16e-07     -7.051      0.000   -8.26e-06   -4.67e-06\n",
       "Lot_Area        5.278e-06   1.09e-05      0.486      0.627    -1.6e-05    2.66e-05\n",
       "Yr_Sold            0.2828      0.069      4.083      0.000       0.147       0.419\n",
       "==================================================================================\n",
       "\"\"\""
      ]
     },
     "execution_count": 54,
     "metadata": {},
     "output_type": "execute_result"
    }
   ],
   "source": [
    "mod_red=smf.logit('y~SalePrice+Street+Lot_Area+Yr_Sold', data=train).fit()\n",
    "mod_red.summary()"
   ]
  },
  {
   "cell_type": "markdown",
   "metadata": {
    "id": "IRAm4UwwmnpA"
   },
   "source": [
    "####5.2 Model Selection with AIC and BIC"
   ]
  },
  {
   "cell_type": "code",
   "execution_count": null,
   "metadata": {
    "colab": {
     "base_uri": "https://localhost:8080/"
    },
    "id": "C_mG774u5sD2",
    "outputId": "311b7d51-aeea-4222-f567-04b07e7b9bee"
   },
   "outputs": [
    {
     "name": "stdout",
     "output_type": "stream",
     "text": [
      "Full Model AIC: 848.4709846029983\n",
      "Reduced Model AIC: 843.8546243737455\n"
     ]
    }
   ],
   "source": [
    "#aic\n",
    "print('Full Model AIC:',mod_full.aic)\n",
    "print('Reduced Model AIC:',mod_red.aic)"
   ]
  },
  {
   "cell_type": "code",
   "execution_count": null,
   "metadata": {
    "colab": {
     "base_uri": "https://localhost:8080/"
    },
    "id": "Ja2CYnin5sD2",
    "outputId": "2539344b-b44c-4d80-879f-b23fff00c712"
   },
   "outputs": [
    {
     "name": "stdout",
     "output_type": "stream",
     "text": [
      "Full Model BIC: 887.1006811761318\n",
      "Reduced Model BIC: 867.998184731954\n"
     ]
    }
   ],
   "source": [
    "#bic\n",
    "print('Full Model BIC:',mod_full.bic)\n",
    "print('Reduced Model BIC:',mod_red.bic)"
   ]
  },
  {
   "cell_type": "markdown",
   "metadata": {
    "id": "hqNFd5I3n2gV"
   },
   "source": [
    "We can see that the reduced model had a lower BIC and a similar AIC score than the full model does. Therefore, the regression models gave us some useful insights as to which explanatory variables to leave out of our reduced model(s). Then I chosed the reduced model as my final parsimonious model."
   ]
  },
  {
   "cell_type": "markdown",
   "metadata": {
    "id": "nAR5hrOQoM34"
   },
   "source": [
    "####5.3 Final parsimonious model  "
   ]
  },
  {
   "cell_type": "code",
   "execution_count": null,
   "metadata": {
    "colab": {
     "base_uri": "https://localhost:8080/",
     "height": 370
    },
    "id": "p2zHW-iU5sD3",
    "outputId": "cdf54d8d-ea05-4826-d2df-b65f839f2ce8"
   },
   "outputs": [
    {
     "name": "stdout",
     "output_type": "stream",
     "text": [
      "Optimization terminated successfully.\n",
      "         Current function value: 0.451220\n",
      "         Iterations 7\n"
     ]
    },
    {
     "data": {
      "text/html": [
       "<table class=\"simpletable\">\n",
       "<caption>Logit Regression Results</caption>\n",
       "<tr>\n",
       "  <th>Dep. Variable:</th>           <td>y</td>        <th>  No. Observations:  </th>  <td>   924</td>  \n",
       "</tr>\n",
       "<tr>\n",
       "  <th>Model:</th>                 <td>Logit</td>      <th>  Df Residuals:      </th>  <td>   919</td>  \n",
       "</tr>\n",
       "<tr>\n",
       "  <th>Method:</th>                 <td>MLE</td>       <th>  Df Model:          </th>  <td>     4</td>  \n",
       "</tr>\n",
       "<tr>\n",
       "  <th>Date:</th>            <td>Fri, 13 May 2022</td> <th>  Pseudo R-squ.:     </th>  <td>0.08210</td> \n",
       "</tr>\n",
       "<tr>\n",
       "  <th>Time:</th>                <td>14:22:18</td>     <th>  Log-Likelihood:    </th> <td> -416.93</td> \n",
       "</tr>\n",
       "<tr>\n",
       "  <th>converged:</th>             <td>True</td>       <th>  LL-Null:           </th> <td> -454.22</td> \n",
       "</tr>\n",
       "<tr>\n",
       "  <th>Covariance Type:</th>     <td>nonrobust</td>    <th>  LLR p-value:       </th> <td>2.446e-15</td>\n",
       "</tr>\n",
       "</table>\n",
       "<table class=\"simpletable\">\n",
       "<tr>\n",
       "         <td></td>           <th>coef</th>     <th>std err</th>      <th>z</th>      <th>P>|z|</th>  <th>[0.025</th>    <th>0.975]</th>  \n",
       "</tr>\n",
       "<tr>\n",
       "  <th>Intercept</th>      <td> -566.7128</td> <td>  139.044</td> <td>   -4.076</td> <td> 0.000</td> <td> -839.234</td> <td> -294.192</td>\n",
       "</tr>\n",
       "<tr>\n",
       "  <th>Street[T.Pave]</th> <td>    1.7718</td> <td>    1.431</td> <td>    1.238</td> <td> 0.216</td> <td>   -1.033</td> <td>    4.577</td>\n",
       "</tr>\n",
       "<tr>\n",
       "  <th>SalePrice</th>      <td>-6.461e-06</td> <td> 9.16e-07</td> <td>   -7.051</td> <td> 0.000</td> <td>-8.26e-06</td> <td>-4.67e-06</td>\n",
       "</tr>\n",
       "<tr>\n",
       "  <th>Lot_Area</th>       <td> 5.278e-06</td> <td> 1.09e-05</td> <td>    0.486</td> <td> 0.627</td> <td> -1.6e-05</td> <td> 2.66e-05</td>\n",
       "</tr>\n",
       "<tr>\n",
       "  <th>Yr_Sold</th>        <td>    0.2828</td> <td>    0.069</td> <td>    4.083</td> <td> 0.000</td> <td>    0.147</td> <td>    0.419</td>\n",
       "</tr>\n",
       "</table>"
      ],
      "text/plain": [
       "<class 'statsmodels.iolib.summary.Summary'>\n",
       "\"\"\"\n",
       "                           Logit Regression Results                           \n",
       "==============================================================================\n",
       "Dep. Variable:                      y   No. Observations:                  924\n",
       "Model:                          Logit   Df Residuals:                      919\n",
       "Method:                           MLE   Df Model:                            4\n",
       "Date:                Fri, 13 May 2022   Pseudo R-squ.:                 0.08210\n",
       "Time:                        14:22:18   Log-Likelihood:                -416.93\n",
       "converged:                       True   LL-Null:                       -454.22\n",
       "Covariance Type:            nonrobust   LLR p-value:                 2.446e-15\n",
       "==================================================================================\n",
       "                     coef    std err          z      P>|z|      [0.025      0.975]\n",
       "----------------------------------------------------------------------------------\n",
       "Intercept       -566.7128    139.044     -4.076      0.000    -839.234    -294.192\n",
       "Street[T.Pave]     1.7718      1.431      1.238      0.216      -1.033       4.577\n",
       "SalePrice      -6.461e-06   9.16e-07     -7.051      0.000   -8.26e-06   -4.67e-06\n",
       "Lot_Area        5.278e-06   1.09e-05      0.486      0.627    -1.6e-05    2.66e-05\n",
       "Yr_Sold            0.2828      0.069      4.083      0.000       0.147       0.419\n",
       "==================================================================================\n",
       "\"\"\""
      ]
     },
     "execution_count": 57,
     "metadata": {},
     "output_type": "execute_result"
    }
   ],
   "source": [
    "mod_final=smf.logit('y~SalePrice+Street+Lot_Area+Yr_Sold', data=train).fit()\n",
    "mod_final.summary()"
   ]
  },
  {
   "cell_type": "markdown",
   "metadata": {
    "id": "S1Txu0qeoaiw"
   },
   "source": [
    "#### Logistic Equation"
   ]
  },
  {
   "cell_type": "markdown",
   "metadata": {
    "id": "tMyzc9sjHEjc"
   },
   "source": [
    "$ln(\\frac{\\hat{p}}{1-\\hat{p}}) = -566.7128 +1.7718Street[T.Pave] \t-6.461e-06SalePrice +\t5.278e-06Lot_Area + 0.2828Yr_Sold$\n",
    "\n",
    "\n"
   ]
  },
  {
   "cell_type": "markdown",
   "metadata": {
    "id": "jUc4YsNCH5Bf"
   },
   "source": [
    "#### 5.4 Hypothesis Testing for the Population Slope"
   ]
  },
  {
   "cell_type": "markdown",
   "metadata": {
    "id": "D4Qaw_763GWT"
   },
   "source": [
    "#### SalePrice"
   ]
  },
  {
   "cell_type": "markdown",
   "metadata": {
    "id": "sjHN8ENOIL56"
   },
   "source": [
    "$H_0: \\beta_{SalePrice} =0$\n",
    "\n",
    "$H_A: \\beta_{SalePrice} \\neq 0$"
   ]
  },
  {
   "cell_type": "markdown",
   "metadata": {
    "id": "PQOFE2DrI6nD"
   },
   "source": [
    "###### Test statistic"
   ]
  },
  {
   "cell_type": "code",
   "execution_count": null,
   "metadata": {
    "colab": {
     "base_uri": "https://localhost:8080/"
    },
    "id": "3EvoP-7sHDns",
    "outputId": "6531cda9-5869-42ff-e32c-8780f8affcec"
   },
   "outputs": [
    {
     "data": {
      "text/plain": [
       "-7.053493449781659"
      ]
     },
     "execution_count": 58,
     "metadata": {},
     "output_type": "execute_result"
    }
   ],
   "source": [
    "point_estimate = -6.461e-06\n",
    "standard_error = 9.16e-07\n",
    "null_value=0\n",
    "\n",
    "test_statistic = (point_estimate-null_value)/standard_error\n",
    "test_statistic"
   ]
  },
  {
   "cell_type": "markdown",
   "metadata": {
    "id": "CQYevJUoIpOT"
   },
   "source": [
    "###### p-value"
   ]
  },
  {
   "cell_type": "code",
   "execution_count": null,
   "metadata": {
    "colab": {
     "base_uri": "https://localhost:8080/"
    },
    "id": "RHa8BsrvIjxG",
    "outputId": "22ebb883-ce5c-4b22-a697-868095ad9750"
   },
   "outputs": [
    {
     "data": {
      "text/plain": [
       "1.744826505500896e-12"
      ]
     },
     "execution_count": 59,
     "metadata": {},
     "output_type": "execute_result"
    }
   ],
   "source": [
    "pvalue = 2*(1- norm.cdf(np.abs(test_statistic)))\n",
    "pvalue"
   ]
  },
  {
   "cell_type": "markdown",
   "metadata": {
    "id": "77dJYhhBI-Hb"
   },
   "source": [
    "###### Conclusion"
   ]
  },
  {
   "cell_type": "markdown",
   "metadata": {
    "id": "j4OVyOeLJB8T"
   },
   "source": [
    "Because $p-value=1.744826505500896e-12 < \\alpha=0.01$, we reject the null hypothesis. Thus there is sufficient evidence to suggest that the slope for SalePrice is non-zero in the population logistic regression model."
   ]
  },
  {
   "cell_type": "markdown",
   "metadata": {
    "id": "QLxhbVrW4PlG"
   },
   "source": [
    "Street"
   ]
  },
  {
   "cell_type": "markdown",
   "metadata": {
    "id": "ySmOWlUl4PqD"
   },
   "source": [
    "$H_0: \\beta_{Street} =0$\n",
    "\n",
    "$H_A: \\beta_{Street} \\neq 0$"
   ]
  },
  {
   "cell_type": "markdown",
   "metadata": {
    "id": "kqTrtVQ_4PyW"
   },
   "source": [
    "Test statistic for street"
   ]
  },
  {
   "cell_type": "code",
   "execution_count": null,
   "metadata": {
    "colab": {
     "base_uri": "https://localhost:8080/"
    },
    "id": "cZP-i3EW4bFr",
    "outputId": "ce7252fc-acc2-4992-f29a-304322c34de8"
   },
   "outputs": [
    {
     "data": {
      "text/plain": [
       "1.2381551362683438"
      ]
     },
     "execution_count": 60,
     "metadata": {},
     "output_type": "execute_result"
    }
   ],
   "source": [
    "point_estimate1 = 1.7718\n",
    "standard_error1 = 1.431\n",
    "null_value=0\n",
    "\n",
    "test_statistic1 = (point_estimate1-null_value)/standard_error1\n",
    "test_statistic1"
   ]
  },
  {
   "cell_type": "markdown",
   "metadata": {
    "id": "CaZN6SbY6sfe"
   },
   "source": [
    "p-value for street"
   ]
  },
  {
   "cell_type": "code",
   "execution_count": null,
   "metadata": {
    "colab": {
     "base_uri": "https://localhost:8080/"
    },
    "id": "WIoLGTEp6urz",
    "outputId": "3926854d-1d20-4a62-c0da-0457e3da1bbe"
   },
   "outputs": [
    {
     "data": {
      "text/plain": [
       "0.21565854302479504"
      ]
     },
     "execution_count": 61,
     "metadata": {},
     "output_type": "execute_result"
    }
   ],
   "source": [
    "pvalue1 = 2*(1- norm.cdf(np.abs(test_statistic1)))\n",
    "pvalue1"
   ]
  },
  {
   "cell_type": "markdown",
   "metadata": {
    "id": "Bb--ygXo6zLE"
   },
   "source": [
    "Conclusion for street"
   ]
  },
  {
   "cell_type": "markdown",
   "metadata": {
    "id": "ZhXRIGIj6zS9"
   },
   "source": [
    "Because $p-value=0.21565854302479504 > \\alpha=0.01$, we fail to reject the null hypothesis. Thus there is not sufficient evidence to suggest that the slope for SalePrice is non-zero in the population logistic regression model."
   ]
  },
  {
   "cell_type": "markdown",
   "metadata": {
    "id": "rEHwvo-u6-8P"
   },
   "source": [
    "Lot Area"
   ]
  },
  {
   "cell_type": "markdown",
   "metadata": {
    "id": "oF9PLJbO6_FL"
   },
   "source": [
    "$H_0: \\beta_{LotArea} =0$\n",
    "\n",
    "$H_A: \\beta_{LotArea} \\neq 0$"
   ]
  },
  {
   "cell_type": "markdown",
   "metadata": {
    "id": "e8AU-qog7J0d"
   },
   "source": [
    "Test statistic for LotArea"
   ]
  },
  {
   "cell_type": "code",
   "execution_count": null,
   "metadata": {
    "colab": {
     "base_uri": "https://localhost:8080/"
    },
    "id": "hQjZ0JRE7J7k",
    "outputId": "41ded24f-c65f-484c-97f7-2b2d7d27ed65"
   },
   "outputs": [
    {
     "data": {
      "text/plain": [
       "0.4842201834862385"
      ]
     },
     "execution_count": 62,
     "metadata": {},
     "output_type": "execute_result"
    }
   ],
   "source": [
    "point_estimate2 = 5.278e-06\n",
    "standard_error2 = 1.09e-05\n",
    "null_value=0\n",
    "\n",
    "test_statistic2 = (point_estimate2-null_value)/standard_error2\n",
    "test_statistic2"
   ]
  },
  {
   "cell_type": "markdown",
   "metadata": {
    "id": "6XsizZ7o7KF5"
   },
   "source": [
    "p-value for Lot Area"
   ]
  },
  {
   "cell_type": "code",
   "execution_count": null,
   "metadata": {
    "colab": {
     "base_uri": "https://localhost:8080/"
    },
    "id": "v1yAt_hM7KOU",
    "outputId": "e9d465b3-11d4-44e7-bd43-1c9398f7d225"
   },
   "outputs": [
    {
     "data": {
      "text/plain": [
       "0.628229614231566"
      ]
     },
     "execution_count": 63,
     "metadata": {},
     "output_type": "execute_result"
    }
   ],
   "source": [
    "pvalue2= 2*(1- norm.cdf(np.abs(test_statistic2)))\n",
    "pvalue2"
   ]
  },
  {
   "cell_type": "markdown",
   "metadata": {
    "id": "eXAA9l1v7KpL"
   },
   "source": [
    "Conclusion for Lot Area"
   ]
  },
  {
   "cell_type": "markdown",
   "metadata": {
    "id": "Q49WGmNu7Kum"
   },
   "source": [
    "Because $p-value=0.628229614231566 > \\alpha=0.01$, we fail to reject the null hypothesis. Thus there is not sufficient evidence to suggest that the slope for SalePrice is non-zero in the population logistic regression model."
   ]
  },
  {
   "cell_type": "markdown",
   "metadata": {
    "id": "EJNh62Ki8efE"
   },
   "source": [
    "Year Sold"
   ]
  },
  {
   "cell_type": "markdown",
   "metadata": {
    "id": "b0q8siuj8elP"
   },
   "source": [
    "$H_0: \\beta_{YearSold} =0$\n",
    "\n",
    "$H_A: \\beta_{YearSold} \\neq 0$"
   ]
  },
  {
   "cell_type": "markdown",
   "metadata": {
    "id": "5I2WXmd88f4G"
   },
   "source": [
    "Test statistic for Year Sold"
   ]
  },
  {
   "cell_type": "code",
   "execution_count": null,
   "metadata": {
    "colab": {
     "base_uri": "https://localhost:8080/"
    },
    "id": "hxUa5DeB8gDU",
    "outputId": "c81137f7-2d02-4c83-9606-0b2531009b61"
   },
   "outputs": [
    {
     "data": {
      "text/plain": [
       "4.098550724637681"
      ]
     },
     "execution_count": 64,
     "metadata": {},
     "output_type": "execute_result"
    }
   ],
   "source": [
    "point_estimate3 = 0.2828\n",
    "standard_error3 = 0.069\n",
    "null_value=0\n",
    "\n",
    "test_statistic3 = (point_estimate3-null_value)/standard_error3\n",
    "test_statistic3"
   ]
  },
  {
   "cell_type": "markdown",
   "metadata": {
    "id": "wSw9ISSn8gLQ"
   },
   "source": [
    "p-value for Year Sold"
   ]
  },
  {
   "cell_type": "code",
   "execution_count": null,
   "metadata": {
    "colab": {
     "base_uri": "https://localhost:8080/"
    },
    "id": "7EoM5ldl8gTc",
    "outputId": "659f4f55-bf0c-4fd4-d080-4e1e07213e57"
   },
   "outputs": [
    {
     "data": {
      "text/plain": [
       "4.157451338882012e-05"
      ]
     },
     "execution_count": 65,
     "metadata": {},
     "output_type": "execute_result"
    }
   ],
   "source": [
    "pvalue3= 2*(1- norm.cdf(np.abs(test_statistic3)))\n",
    "pvalue3"
   ]
  },
  {
   "cell_type": "markdown",
   "metadata": {
    "id": "5UNW40aA8gdV"
   },
   "source": [
    "Conclusion for Year Sold"
   ]
  },
  {
   "cell_type": "markdown",
   "metadata": {
    "id": "wf43Evm58gk5"
   },
   "source": [
    "Because $p-value=4.157451338882012e-05 < \\alpha=0.01$, we reject the null hypothesis. Thus there is sufficient evidence to suggest that the slope for SalePrice is non-zero in the population logistic regression model."
   ]
  },
  {
   "cell_type": "code",
   "execution_count": null,
   "metadata": {
    "colab": {
     "base_uri": "https://localhost:8080/"
    },
    "id": "_-4Bkgr0Qhnv",
    "outputId": "b1540582-7e11-4ba6-99bf-7f8e8c658c43"
   },
   "outputs": [
    {
     "data": {
      "text/plain": [
       "547     0.929538\n",
       "2463    0.687303\n",
       "369     0.897121\n",
       "2309    0.780795\n",
       "1466    0.850627\n",
       "dtype: float64"
      ]
     },
     "execution_count": 66,
     "metadata": {},
     "output_type": "execute_result"
    }
   ],
   "source": [
    "phat_test = mod_final.predict(exog = test[['SalePrice','Street','Lot_Area','Yr_Sold']])\n",
    "phat_test.head()"
   ]
  },
  {
   "cell_type": "code",
   "execution_count": null,
   "metadata": {
    "colab": {
     "base_uri": "https://localhost:8080/",
     "height": 488
    },
    "id": "XhtJyLKkRAel",
    "outputId": "f5c1a064-2ac4-40f5-dcc0-2eca686738a4"
   },
   "outputs": [
    {
     "data": {
      "text/html": [
       "\n",
       "  <div id=\"df-90946596-72fc-4665-ac08-569bf9036950\">\n",
       "    <div class=\"colab-df-container\">\n",
       "      <div>\n",
       "<style scoped>\n",
       "    .dataframe tbody tr th:only-of-type {\n",
       "        vertical-align: middle;\n",
       "    }\n",
       "\n",
       "    .dataframe tbody tr th {\n",
       "        vertical-align: top;\n",
       "    }\n",
       "\n",
       "    .dataframe thead th {\n",
       "        text-align: right;\n",
       "    }\n",
       "</style>\n",
       "<table border=\"1\" class=\"dataframe\">\n",
       "  <thead>\n",
       "    <tr style=\"text-align: right;\">\n",
       "      <th></th>\n",
       "      <th>Order</th>\n",
       "      <th>PID</th>\n",
       "      <th>MS_SubClass</th>\n",
       "      <th>MS_Zoning</th>\n",
       "      <th>Lot_Frontage</th>\n",
       "      <th>Lot_Area</th>\n",
       "      <th>Street</th>\n",
       "      <th>Lot_Shape</th>\n",
       "      <th>Land_Contour</th>\n",
       "      <th>Utilities</th>\n",
       "      <th>...</th>\n",
       "      <th>Pool_Area</th>\n",
       "      <th>Misc_Val</th>\n",
       "      <th>Mo_Sold</th>\n",
       "      <th>Yr_Sold</th>\n",
       "      <th>Sale_Type</th>\n",
       "      <th>Sale_Condition</th>\n",
       "      <th>SalePrice</th>\n",
       "      <th>Log_SalePrice</th>\n",
       "      <th>y</th>\n",
       "      <th>phat_test</th>\n",
       "    </tr>\n",
       "  </thead>\n",
       "  <tbody>\n",
       "    <tr>\n",
       "      <th>547</th>\n",
       "      <td>548</td>\n",
       "      <td>531452010</td>\n",
       "      <td>160</td>\n",
       "      <td>RL</td>\n",
       "      <td>75.0</td>\n",
       "      <td>10762</td>\n",
       "      <td>Pave</td>\n",
       "      <td>Reg</td>\n",
       "      <td>Lvl</td>\n",
       "      <td>AllPub</td>\n",
       "      <td>...</td>\n",
       "      <td>0</td>\n",
       "      <td>0</td>\n",
       "      <td>4</td>\n",
       "      <td>2009</td>\n",
       "      <td>WD</td>\n",
       "      <td>Normal</td>\n",
       "      <td>120000</td>\n",
       "      <td>11.695247</td>\n",
       "      <td>1</td>\n",
       "      <td>0.929538</td>\n",
       "    </tr>\n",
       "    <tr>\n",
       "      <th>2463</th>\n",
       "      <td>2464</td>\n",
       "      <td>528480070</td>\n",
       "      <td>60</td>\n",
       "      <td>FV</td>\n",
       "      <td>84.0</td>\n",
       "      <td>10728</td>\n",
       "      <td>Pave</td>\n",
       "      <td>Reg</td>\n",
       "      <td>Lvl</td>\n",
       "      <td>AllPub</td>\n",
       "      <td>...</td>\n",
       "      <td>0</td>\n",
       "      <td>0</td>\n",
       "      <td>8</td>\n",
       "      <td>2006</td>\n",
       "      <td>New</td>\n",
       "      <td>Partial</td>\n",
       "      <td>266000</td>\n",
       "      <td>12.491252</td>\n",
       "      <td>0</td>\n",
       "      <td>0.687303</td>\n",
       "    </tr>\n",
       "    <tr>\n",
       "      <th>369</th>\n",
       "      <td>370</td>\n",
       "      <td>527276160</td>\n",
       "      <td>60</td>\n",
       "      <td>RL</td>\n",
       "      <td>85.0</td>\n",
       "      <td>11900</td>\n",
       "      <td>Pave</td>\n",
       "      <td>Reg</td>\n",
       "      <td>Lvl</td>\n",
       "      <td>AllPub</td>\n",
       "      <td>...</td>\n",
       "      <td>0</td>\n",
       "      <td>0</td>\n",
       "      <td>7</td>\n",
       "      <td>2009</td>\n",
       "      <td>WD</td>\n",
       "      <td>Normal</td>\n",
       "      <td>185000</td>\n",
       "      <td>12.128111</td>\n",
       "      <td>1</td>\n",
       "      <td>0.897121</td>\n",
       "    </tr>\n",
       "    <tr>\n",
       "      <th>2309</th>\n",
       "      <td>2310</td>\n",
       "      <td>526354020</td>\n",
       "      <td>20</td>\n",
       "      <td>RL</td>\n",
       "      <td>90.0</td>\n",
       "      <td>11727</td>\n",
       "      <td>Pave</td>\n",
       "      <td>Reg</td>\n",
       "      <td>Lvl</td>\n",
       "      <td>AllPub</td>\n",
       "      <td>...</td>\n",
       "      <td>0</td>\n",
       "      <td>0</td>\n",
       "      <td>3</td>\n",
       "      <td>2006</td>\n",
       "      <td>WD</td>\n",
       "      <td>Normal</td>\n",
       "      <td>192100</td>\n",
       "      <td>12.165771</td>\n",
       "      <td>1</td>\n",
       "      <td>0.780795</td>\n",
       "    </tr>\n",
       "    <tr>\n",
       "      <th>1466</th>\n",
       "      <td>1467</td>\n",
       "      <td>907265100</td>\n",
       "      <td>60</td>\n",
       "      <td>RL</td>\n",
       "      <td>96.0</td>\n",
       "      <td>11690</td>\n",
       "      <td>Pave</td>\n",
       "      <td>IR1</td>\n",
       "      <td>Lvl</td>\n",
       "      <td>AllPub</td>\n",
       "      <td>...</td>\n",
       "      <td>0</td>\n",
       "      <td>0</td>\n",
       "      <td>6</td>\n",
       "      <td>2008</td>\n",
       "      <td>WD</td>\n",
       "      <td>Normal</td>\n",
       "      <td>207000</td>\n",
       "      <td>12.240474</td>\n",
       "      <td>1</td>\n",
       "      <td>0.850627</td>\n",
       "    </tr>\n",
       "    <tr>\n",
       "      <th>...</th>\n",
       "      <td>...</td>\n",
       "      <td>...</td>\n",
       "      <td>...</td>\n",
       "      <td>...</td>\n",
       "      <td>...</td>\n",
       "      <td>...</td>\n",
       "      <td>...</td>\n",
       "      <td>...</td>\n",
       "      <td>...</td>\n",
       "      <td>...</td>\n",
       "      <td>...</td>\n",
       "      <td>...</td>\n",
       "      <td>...</td>\n",
       "      <td>...</td>\n",
       "      <td>...</td>\n",
       "      <td>...</td>\n",
       "      <td>...</td>\n",
       "      <td>...</td>\n",
       "      <td>...</td>\n",
       "      <td>...</td>\n",
       "      <td>...</td>\n",
       "    </tr>\n",
       "    <tr>\n",
       "      <th>1823</th>\n",
       "      <td>1824</td>\n",
       "      <td>532376090</td>\n",
       "      <td>20</td>\n",
       "      <td>RL</td>\n",
       "      <td>40.0</td>\n",
       "      <td>13673</td>\n",
       "      <td>Pave</td>\n",
       "      <td>IR1</td>\n",
       "      <td>Lvl</td>\n",
       "      <td>AllPub</td>\n",
       "      <td>...</td>\n",
       "      <td>0</td>\n",
       "      <td>0</td>\n",
       "      <td>3</td>\n",
       "      <td>2007</td>\n",
       "      <td>WD</td>\n",
       "      <td>Normal</td>\n",
       "      <td>143900</td>\n",
       "      <td>11.876874</td>\n",
       "      <td>1</td>\n",
       "      <td>0.867019</td>\n",
       "    </tr>\n",
       "    <tr>\n",
       "      <th>2600</th>\n",
       "      <td>2601</td>\n",
       "      <td>535379100</td>\n",
       "      <td>30</td>\n",
       "      <td>RL</td>\n",
       "      <td>60.0</td>\n",
       "      <td>10800</td>\n",
       "      <td>Pave</td>\n",
       "      <td>Reg</td>\n",
       "      <td>Lvl</td>\n",
       "      <td>AllPub</td>\n",
       "      <td>...</td>\n",
       "      <td>0</td>\n",
       "      <td>0</td>\n",
       "      <td>6</td>\n",
       "      <td>2006</td>\n",
       "      <td>WD</td>\n",
       "      <td>Normal</td>\n",
       "      <td>120000</td>\n",
       "      <td>11.695247</td>\n",
       "      <td>1</td>\n",
       "      <td>0.849575</td>\n",
       "    </tr>\n",
       "    <tr>\n",
       "      <th>2095</th>\n",
       "      <td>2096</td>\n",
       "      <td>906223040</td>\n",
       "      <td>60</td>\n",
       "      <td>RL</td>\n",
       "      <td>75.0</td>\n",
       "      <td>9317</td>\n",
       "      <td>Pave</td>\n",
       "      <td>Reg</td>\n",
       "      <td>Lvl</td>\n",
       "      <td>AllPub</td>\n",
       "      <td>...</td>\n",
       "      <td>0</td>\n",
       "      <td>0</td>\n",
       "      <td>7</td>\n",
       "      <td>2007</td>\n",
       "      <td>CWD</td>\n",
       "      <td>Normal</td>\n",
       "      <td>220000</td>\n",
       "      <td>12.301383</td>\n",
       "      <td>1</td>\n",
       "      <td>0.795786</td>\n",
       "    </tr>\n",
       "    <tr>\n",
       "      <th>2129</th>\n",
       "      <td>2130</td>\n",
       "      <td>907187060</td>\n",
       "      <td>60</td>\n",
       "      <td>RL</td>\n",
       "      <td>43.0</td>\n",
       "      <td>12352</td>\n",
       "      <td>Pave</td>\n",
       "      <td>IR2</td>\n",
       "      <td>Lvl</td>\n",
       "      <td>AllPub</td>\n",
       "      <td>...</td>\n",
       "      <td>0</td>\n",
       "      <td>0</td>\n",
       "      <td>3</td>\n",
       "      <td>2007</td>\n",
       "      <td>WD</td>\n",
       "      <td>Normal</td>\n",
       "      <td>217000</td>\n",
       "      <td>12.287653</td>\n",
       "      <td>1</td>\n",
       "      <td>0.801479</td>\n",
       "    </tr>\n",
       "    <tr>\n",
       "      <th>1860</th>\n",
       "      <td>1861</td>\n",
       "      <td>533350020</td>\n",
       "      <td>20</td>\n",
       "      <td>RL</td>\n",
       "      <td>94.0</td>\n",
       "      <td>17778</td>\n",
       "      <td>Pave</td>\n",
       "      <td>IR1</td>\n",
       "      <td>Lvl</td>\n",
       "      <td>AllPub</td>\n",
       "      <td>...</td>\n",
       "      <td>0</td>\n",
       "      <td>0</td>\n",
       "      <td>3</td>\n",
       "      <td>2007</td>\n",
       "      <td>WD</td>\n",
       "      <td>Normal</td>\n",
       "      <td>373000</td>\n",
       "      <td>12.829334</td>\n",
       "      <td>1</td>\n",
       "      <td>0.602581</td>\n",
       "    </tr>\n",
       "  </tbody>\n",
       "</table>\n",
       "<p>232 rows × 81 columns</p>\n",
       "</div>\n",
       "      <button class=\"colab-df-convert\" onclick=\"convertToInteractive('df-90946596-72fc-4665-ac08-569bf9036950')\"\n",
       "              title=\"Convert this dataframe to an interactive table.\"\n",
       "              style=\"display:none;\">\n",
       "        \n",
       "  <svg xmlns=\"http://www.w3.org/2000/svg\" height=\"24px\"viewBox=\"0 0 24 24\"\n",
       "       width=\"24px\">\n",
       "    <path d=\"M0 0h24v24H0V0z\" fill=\"none\"/>\n",
       "    <path d=\"M18.56 5.44l.94 2.06.94-2.06 2.06-.94-2.06-.94-.94-2.06-.94 2.06-2.06.94zm-11 1L8.5 8.5l.94-2.06 2.06-.94-2.06-.94L8.5 2.5l-.94 2.06-2.06.94zm10 10l.94 2.06.94-2.06 2.06-.94-2.06-.94-.94-2.06-.94 2.06-2.06.94z\"/><path d=\"M17.41 7.96l-1.37-1.37c-.4-.4-.92-.59-1.43-.59-.52 0-1.04.2-1.43.59L10.3 9.45l-7.72 7.72c-.78.78-.78 2.05 0 2.83L4 21.41c.39.39.9.59 1.41.59.51 0 1.02-.2 1.41-.59l7.78-7.78 2.81-2.81c.8-.78.8-2.07 0-2.86zM5.41 20L4 18.59l7.72-7.72 1.47 1.35L5.41 20z\"/>\n",
       "  </svg>\n",
       "      </button>\n",
       "      \n",
       "  <style>\n",
       "    .colab-df-container {\n",
       "      display:flex;\n",
       "      flex-wrap:wrap;\n",
       "      gap: 12px;\n",
       "    }\n",
       "\n",
       "    .colab-df-convert {\n",
       "      background-color: #E8F0FE;\n",
       "      border: none;\n",
       "      border-radius: 50%;\n",
       "      cursor: pointer;\n",
       "      display: none;\n",
       "      fill: #1967D2;\n",
       "      height: 32px;\n",
       "      padding: 0 0 0 0;\n",
       "      width: 32px;\n",
       "    }\n",
       "\n",
       "    .colab-df-convert:hover {\n",
       "      background-color: #E2EBFA;\n",
       "      box-shadow: 0px 1px 2px rgba(60, 64, 67, 0.3), 0px 1px 3px 1px rgba(60, 64, 67, 0.15);\n",
       "      fill: #174EA6;\n",
       "    }\n",
       "\n",
       "    [theme=dark] .colab-df-convert {\n",
       "      background-color: #3B4455;\n",
       "      fill: #D2E3FC;\n",
       "    }\n",
       "\n",
       "    [theme=dark] .colab-df-convert:hover {\n",
       "      background-color: #434B5C;\n",
       "      box-shadow: 0px 1px 3px 1px rgba(0, 0, 0, 0.15);\n",
       "      filter: drop-shadow(0px 1px 2px rgba(0, 0, 0, 0.3));\n",
       "      fill: #FFFFFF;\n",
       "    }\n",
       "  </style>\n",
       "\n",
       "      <script>\n",
       "        const buttonEl =\n",
       "          document.querySelector('#df-90946596-72fc-4665-ac08-569bf9036950 button.colab-df-convert');\n",
       "        buttonEl.style.display =\n",
       "          google.colab.kernel.accessAllowed ? 'block' : 'none';\n",
       "\n",
       "        async function convertToInteractive(key) {\n",
       "          const element = document.querySelector('#df-90946596-72fc-4665-ac08-569bf9036950');\n",
       "          const dataTable =\n",
       "            await google.colab.kernel.invokeFunction('convertToInteractive',\n",
       "                                                     [key], {});\n",
       "          if (!dataTable) return;\n",
       "\n",
       "          const docLinkHtml = 'Like what you see? Visit the ' +\n",
       "            '<a target=\"_blank\" href=https://colab.research.google.com/notebooks/data_table.ipynb>data table notebook</a>'\n",
       "            + ' to learn more about interactive tables.';\n",
       "          element.innerHTML = '';\n",
       "          dataTable['output_type'] = 'display_data';\n",
       "          await google.colab.output.renderOutput(dataTable, element);\n",
       "          const docLink = document.createElement('div');\n",
       "          docLink.innerHTML = docLinkHtml;\n",
       "          element.appendChild(docLink);\n",
       "        }\n",
       "      </script>\n",
       "    </div>\n",
       "  </div>\n",
       "  "
      ],
      "text/plain": [
       "      Order        PID  MS_SubClass MS_Zoning  Lot_Frontage  Lot_Area Street  \\\n",
       "547     548  531452010          160        RL          75.0     10762   Pave   \n",
       "2463   2464  528480070           60        FV          84.0     10728   Pave   \n",
       "369     370  527276160           60        RL          85.0     11900   Pave   \n",
       "2309   2310  526354020           20        RL          90.0     11727   Pave   \n",
       "1466   1467  907265100           60        RL          96.0     11690   Pave   \n",
       "...     ...        ...          ...       ...           ...       ...    ...   \n",
       "1823   1824  532376090           20        RL          40.0     13673   Pave   \n",
       "2600   2601  535379100           30        RL          60.0     10800   Pave   \n",
       "2095   2096  906223040           60        RL          75.0      9317   Pave   \n",
       "2129   2130  907187060           60        RL          43.0     12352   Pave   \n",
       "1860   1861  533350020           20        RL          94.0     17778   Pave   \n",
       "\n",
       "     Lot_Shape Land_Contour Utilities  ... Pool_Area Misc_Val Mo_Sold Yr_Sold  \\\n",
       "547        Reg          Lvl    AllPub  ...         0        0       4    2009   \n",
       "2463       Reg          Lvl    AllPub  ...         0        0       8    2006   \n",
       "369        Reg          Lvl    AllPub  ...         0        0       7    2009   \n",
       "2309       Reg          Lvl    AllPub  ...         0        0       3    2006   \n",
       "1466       IR1          Lvl    AllPub  ...         0        0       6    2008   \n",
       "...        ...          ...       ...  ...       ...      ...     ...     ...   \n",
       "1823       IR1          Lvl    AllPub  ...         0        0       3    2007   \n",
       "2600       Reg          Lvl    AllPub  ...         0        0       6    2006   \n",
       "2095       Reg          Lvl    AllPub  ...         0        0       7    2007   \n",
       "2129       IR2          Lvl    AllPub  ...         0        0       3    2007   \n",
       "1860       IR1          Lvl    AllPub  ...         0        0       3    2007   \n",
       "\n",
       "     Sale_Type Sale_Condition SalePrice  Log_SalePrice  y  phat_test  \n",
       "547        WD          Normal    120000      11.695247  1   0.929538  \n",
       "2463       New        Partial    266000      12.491252  0   0.687303  \n",
       "369        WD          Normal    185000      12.128111  1   0.897121  \n",
       "2309       WD          Normal    192100      12.165771  1   0.780795  \n",
       "1466       WD          Normal    207000      12.240474  1   0.850627  \n",
       "...        ...            ...       ...            ... ..        ...  \n",
       "1823       WD          Normal    143900      11.876874  1   0.867019  \n",
       "2600       WD          Normal    120000      11.695247  1   0.849575  \n",
       "2095       CWD         Normal    220000      12.301383  1   0.795786  \n",
       "2129       WD          Normal    217000      12.287653  1   0.801479  \n",
       "1860       WD          Normal    373000      12.829334  1   0.602581  \n",
       "\n",
       "[232 rows x 81 columns]"
      ]
     },
     "execution_count": 67,
     "metadata": {},
     "output_type": "execute_result"
    }
   ],
   "source": [
    "test['phat_test'] = phat_test\n",
    "test"
   ]
  },
  {
   "cell_type": "markdown",
   "metadata": {
    "id": "Z4SthB8GBiLb"
   },
   "source": [
    "ROC and AUC"
   ]
  },
  {
   "cell_type": "code",
   "execution_count": null,
   "metadata": {
    "id": "7AY4EPkS5sD8"
   },
   "outputs": [],
   "source": [
    "fprs, tprs ,thresholds = roc_curve(y_true = test['y'], y_score = test['phat_test'])\n",
    "auc = roc_auc_score(y_true = test['y'],\n",
    "                    y_score = test['phat_test'])"
   ]
  },
  {
   "cell_type": "code",
   "execution_count": null,
   "metadata": {
    "id": "VI7IZfAa5sD8"
   },
   "outputs": [],
   "source": [
    "def plot_roc(fpr, tpr, auc, lw=2):\n",
    "    plt.plot(fpr, tpr, color='darkorange', lw=lw,\n",
    "             label='ROC curve (area = '+str(round(auc,3))+')')\n",
    "    plt.plot([0, 1], [0, 1], color='navy', lw=lw, linestyle='--')\n",
    "    plt.xlabel('False Positive Rate')\n",
    "    plt.ylabel('True Positive Rate')\n",
    "    plt.title('ROC Curve')\n",
    "    plt.legend(loc=\"lower right\")\n",
    "    plt.show()"
   ]
  },
  {
   "cell_type": "code",
   "execution_count": null,
   "metadata": {
    "colab": {
     "base_uri": "https://localhost:8080/",
     "height": 295
    },
    "id": "ipJT8io65sD8",
    "outputId": "4273505f-cfcc-486a-fbd7-f2bcac279e62"
   },
   "outputs": [
    {
     "data": {
      "image/png": "[encoded data removed]",
      "text/plain": [
       "<Figure size 432x288 with 1 Axes>"
      ]
     },
     "metadata": {
      "needs_background": "light"
     },
     "output_type": "display_data"
    }
   ],
   "source": [
    "plot_roc(fprs,tprs,auc)"
   ]
  },
  {
   "cell_type": "markdown",
   "metadata": {
    "id": "QUaoSr8tJlez"
   },
   "source": [
    "**Research Goal**: How do we find the good probability threshold on plots? \n",
    "\n",
    "Since that the good probability threshold has a largest difference between FPR anf TPR, then we have 2 options below:"
   ]
  },
  {
   "cell_type": "markdown",
   "metadata": {
    "id": "jx-pRZ_Dg4JH"
   },
   "source": [
    "#### <u>Option 1</u>: About (FPR = 0.4, TPR = 0.6)\n",
    "\n",
    "Notice how that at a FPR of 0.4, the TPR starts to level off in the ROC curve above. By increasing the FPR any more past 0.4, we do not gain much more in the way of a better (higher) TPR. So we could choose the predictive probability threshold that gives us this combination of (FPR = 0.4, TPR = 0.6).\n",
    "\n",
    "#### <u>Option 2</u>:  About (FPR = 0.7, TPR = 0.9) \n",
    "\n",
    "Notice how that at a TPR of 0.9, the FPR starts to level off in the ROC curve above. By decreasing the TPR any more past 0.9, we do not gain much more in the way of a better (lower) FPR. So we could choose the predictive probability threshold that gives us this combination of (FPR = 0.7, TPR = 0.9).\n"
   ]
  },
  {
   "cell_type": "markdown",
   "metadata": {
    "id": "iGuDajokW5v-"
   },
   "source": [
    "####5.4 Classification of the test dataset"
   ]
  },
  {
   "cell_type": "code",
   "execution_count": null,
   "metadata": {
    "id": "X9AOPsQ25sD8"
   },
   "outputs": [],
   "source": [
    "def tpr_fpr_thresh(y, pred_prob, thresh):\n",
    "    yhat = 1*(pred_prob >= thresh)\n",
    "    tn, fp, fn, tp = confusion_matrix(y_true=y, y_pred=yhat).ravel()\n",
    "    tpr = tp / (fn + tp)\n",
    "    fpr = fp / (fp + tn)\n",
    "    return pd.DataFrame({'threshold':[thresh],\n",
    "                         'tpr':[tpr], \n",
    "                         'fpr':[fpr]})"
   ]
  },
  {
   "cell_type": "code",
   "execution_count": null,
   "metadata": {
    "colab": {
     "base_uri": "https://localhost:8080/"
    },
    "id": "cLwI51rDdhyb",
    "outputId": "d55d31a7-ec80-4154-8287-b068d7a0928a"
   },
   "outputs": [
    {
     "name": "stdout",
     "output_type": "stream",
     "text": [
      "   threshold  tpr  fpr\n",
      "0        0.0  1.0  1.0\n",
      "   threshold  tpr  fpr\n",
      "0       0.01  1.0  1.0\n",
      "   threshold  tpr  fpr\n",
      "0       0.02  1.0  1.0\n",
      "   threshold  tpr  fpr\n",
      "0       0.03  1.0  1.0\n",
      "   threshold  tpr  fpr\n",
      "0       0.04  1.0  1.0\n",
      "   threshold  tpr  fpr\n",
      "0       0.05  1.0  1.0\n",
      "   threshold  tpr  fpr\n",
      "0       0.06  1.0  1.0\n",
      "   threshold  tpr  fpr\n",
      "0       0.07  1.0  1.0\n",
      "   threshold  tpr  fpr\n",
      "0       0.08  1.0  1.0\n",
      "   threshold  tpr  fpr\n",
      "0       0.09  1.0  1.0\n",
      "   threshold  tpr  fpr\n",
      "0        0.1  1.0  1.0\n",
      "   threshold  tpr  fpr\n",
      "0       0.11  1.0  1.0\n",
      "   threshold  tpr  fpr\n",
      "0       0.12  1.0  1.0\n",
      "   threshold  tpr  fpr\n",
      "0       0.13  1.0  1.0\n",
      "   threshold  tpr  fpr\n",
      "0       0.14  1.0  1.0\n",
      "   threshold  tpr  fpr\n",
      "0       0.15  1.0  1.0\n",
      "   threshold  tpr  fpr\n",
      "0       0.16  1.0  1.0\n",
      "   threshold  tpr  fpr\n",
      "0       0.17  1.0  1.0\n",
      "   threshold  tpr  fpr\n",
      "0       0.18  1.0  1.0\n",
      "   threshold  tpr  fpr\n",
      "0       0.19  1.0  1.0\n",
      "   threshold  tpr  fpr\n",
      "0        0.2  1.0  1.0\n",
      "   threshold  tpr  fpr\n",
      "0       0.21  1.0  1.0\n",
      "   threshold  tpr  fpr\n",
      "0       0.22  1.0  1.0\n",
      "   threshold       tpr  fpr\n",
      "0       0.23  0.994565  1.0\n",
      "   threshold       tpr  fpr\n",
      "0       0.24  0.994565  1.0\n",
      "   threshold       tpr  fpr\n",
      "0       0.25  0.994565  1.0\n",
      "   threshold       tpr  fpr\n",
      "0       0.26  0.994565  1.0\n",
      "   threshold       tpr  fpr\n",
      "0       0.27  0.994565  1.0\n",
      "   threshold       tpr       fpr\n",
      "0       0.28  0.994565  0.979167\n",
      "   threshold       tpr       fpr\n",
      "0       0.29  0.994565  0.979167\n",
      "   threshold       tpr       fpr\n",
      "0        0.3  0.994565  0.979167\n",
      "   threshold       tpr       fpr\n",
      "0       0.31  0.994565  0.979167\n",
      "   threshold       tpr       fpr\n",
      "0       0.32  0.994565  0.979167\n",
      "   threshold       tpr       fpr\n",
      "0       0.33  0.994565  0.979167\n",
      "   threshold       tpr       fpr\n",
      "0       0.34  0.994565  0.979167\n",
      "   threshold       tpr       fpr\n",
      "0       0.35  0.994565  0.979167\n",
      "   threshold       tpr       fpr\n",
      "0       0.36  0.994565  0.979167\n",
      "   threshold       tpr       fpr\n",
      "0       0.37  0.994565  0.979167\n",
      "   threshold       tpr       fpr\n",
      "0       0.38  0.994565  0.979167\n",
      "   threshold       tpr       fpr\n",
      "0       0.39  0.994565  0.979167\n",
      "   threshold       tpr       fpr\n",
      "0        0.4  0.994565  0.958333\n",
      "   threshold       tpr       fpr\n",
      "0       0.41  0.994565  0.958333\n",
      "   threshold       tpr       fpr\n",
      "0       0.42  0.994565  0.958333\n",
      "   threshold       tpr       fpr\n",
      "0       0.43  0.994565  0.958333\n",
      "   threshold       tpr       fpr\n",
      "0       0.44  0.994565  0.958333\n",
      "   threshold       tpr       fpr\n",
      "0       0.45  0.994565  0.958333\n",
      "   threshold       tpr     fpr\n",
      "0       0.46  0.994565  0.9375\n",
      "   threshold      tpr       fpr\n",
      "0       0.47  0.98913  0.916667\n",
      "   threshold      tpr       fpr\n",
      "0       0.48  0.98913  0.895833\n",
      "   threshold       tpr       fpr\n",
      "0       0.49  0.983696  0.895833\n",
      "   threshold       tpr       fpr\n",
      "0        0.5  0.983696  0.895833\n",
      "   threshold       tpr       fpr\n",
      "0       0.51  0.983696  0.895833\n",
      "   threshold       tpr    fpr\n",
      "0       0.52  0.983696  0.875\n",
      "   threshold       tpr    fpr\n",
      "0       0.53  0.983696  0.875\n",
      "   threshold       tpr       fpr\n",
      "0       0.54  0.983696  0.854167\n",
      "   threshold       tpr       fpr\n",
      "0       0.55  0.983696  0.854167\n",
      "   threshold       tpr       fpr\n",
      "0       0.56  0.983696  0.854167\n",
      "   threshold       tpr       fpr\n",
      "0       0.57  0.983696  0.854167\n",
      "   threshold       tpr       fpr\n",
      "0       0.58  0.983696  0.833333\n",
      "   threshold       tpr       fpr\n",
      "0       0.59  0.978261  0.833333\n",
      "   threshold       tpr       fpr\n",
      "0        0.6  0.961957  0.833333\n",
      "   threshold       tpr       fpr\n",
      "0       0.61  0.951087  0.833333\n",
      "   threshold       tpr     fpr\n",
      "0       0.62  0.951087  0.8125\n",
      "   threshold       tpr     fpr\n",
      "0       0.63  0.945652  0.8125\n",
      "   threshold       tpr     fpr\n",
      "0       0.64  0.945652  0.8125\n",
      "   threshold       tpr       fpr\n",
      "0       0.65  0.934783  0.770833\n",
      "   threshold       tpr       fpr\n",
      "0       0.66  0.929348  0.770833\n",
      "   threshold       tpr       fpr\n",
      "0       0.67  0.929348  0.770833\n",
      "   threshold       tpr       fpr\n",
      "0       0.68  0.907609  0.770833\n",
      "   threshold       tpr       fpr\n",
      "0       0.69  0.902174  0.666667\n",
      "   threshold       tpr       fpr\n",
      "0        0.7  0.891304  0.645833\n",
      "   threshold      tpr    fpr\n",
      "0       0.71  0.88587  0.625\n",
      "   threshold    tpr       fpr\n",
      "0       0.72  0.875  0.604167\n",
      "   threshold       tpr       fpr\n",
      "0       0.73  0.858696  0.604167\n",
      "   threshold       tpr       fpr\n",
      "0       0.74  0.853261  0.583333\n",
      "   threshold       tpr       fpr\n",
      "0       0.75  0.847826  0.583333\n",
      "   threshold       tpr       fpr\n",
      "0       0.76  0.836957  0.583333\n",
      "   threshold       tpr       fpr\n",
      "0       0.77  0.804348  0.583333\n",
      "   threshold       tpr     fpr\n",
      "0       0.78  0.777174  0.5625\n",
      "   threshold       tpr       fpr\n",
      "0       0.79  0.733696  0.541667\n",
      "   threshold       tpr       fpr\n",
      "0        0.8  0.711957  0.479167\n",
      "   threshold       tpr    fpr\n",
      "0       0.81  0.663043  0.375\n",
      "   threshold       tpr     fpr\n",
      "0       0.82  0.603261  0.3125\n",
      "   threshold       tpr       fpr\n",
      "0       0.83  0.559783  0.270833\n",
      "   threshold       tpr       fpr\n",
      "0       0.84  0.494565  0.229167\n",
      "   threshold       tpr       fpr\n",
      "0       0.85  0.467391  0.229167\n",
      "   threshold       tpr       fpr\n",
      "0       0.86  0.391304  0.208333\n",
      "   threshold       tpr       fpr\n",
      "0       0.87  0.369565  0.145833\n",
      "   threshold       tpr       fpr\n",
      "0       0.88  0.320652  0.083333\n",
      "   threshold       tpr       fpr\n",
      "0       0.89  0.266304  0.083333\n",
      "   threshold       tpr       fpr\n",
      "0        0.9  0.222826  0.083333\n",
      "   threshold       tpr       fpr\n",
      "0       0.91  0.152174  0.041667\n",
      "   threshold       tpr       fpr\n",
      "0       0.92  0.097826  0.020833\n",
      "   threshold       tpr  fpr\n",
      "0       0.93  0.048913  0.0\n",
      "   threshold       tpr  fpr\n",
      "0       0.94  0.021739  0.0\n",
      "   threshold  tpr  fpr\n",
      "0       0.95  0.0  0.0\n",
      "   threshold  tpr  fpr\n",
      "0       0.96  0.0  0.0\n",
      "   threshold  tpr  fpr\n",
      "0       0.97  0.0  0.0\n",
      "   threshold  tpr  fpr\n",
      "0       0.98  0.0  0.0\n",
      "   threshold  tpr  fpr\n",
      "0       0.99  0.0  0.0\n"
     ]
    }
   ],
   "source": [
    "for thresh in np.arange(0,1,.01):\n",
    "    print(tpr_fpr_thresh(test['y'], test['phat_test'], thresh))"
   ]
  },
  {
   "cell_type": "markdown",
   "metadata": {
    "id": "LaYNGxvMhOnv"
   },
   "source": [
    "<u>Option 1</u>: It looks like a predictive probability threshold of  $p_0=0.82$ will gve us a tpr=0.640816 and a fpr=0.427083.     \n",
    "\n",
    "<u>Option 2</u>: It looks like a predictive probability threshold of  $p_0=0.77$ will gve us a tpr=0.895918 and a fpr=0.708333."
   ]
  },
  {
   "cell_type": "markdown",
   "metadata": {
    "id": "s17sL9VJ5sD8"
   },
   "source": [
    "## Any other type of analysis/question you want to explore with this dataset.\n",
    "\n",
    "<u>Why?</u>: Sometimes undergraduate students will put the research projects that they did for their classes in their resumes when applying for graduate schools, internships, and jobs. If you're interested in showcasing cool analyses to write on your resume, this section could help with that. **(This section is not worth any points though).**"
   ]
  },
  {
   "cell_type": "markdown",
   "metadata": {
    "id": "G1Yy0wng5sD9"
   },
   "source": [
    "## 6. Conclusion"
   ]
  },
  {
   "cell_type": "markdown",
   "metadata": {
    "id": "tjZL4IBN5sD-"
   },
   "source": [
    "### Summarization"
   ]
  },
  {
   "cell_type": "markdown",
   "metadata": {
    "id": "vPoZUUvs6vPN"
   },
   "source": [
    "#### **Descriptive Analysis** - The idea behind descriptive analysis was to understand the variable Sale Price and know its summary Statistics. It was important to know this as we were further going to determine its relationship with two varible one of which was Categorical (Sale condition) and the other one was a discrete numerical variable (Year Sold). Hence, to know the strength of the relationship of these 3 variables we plotted a boxplot as a scatterplot didn't give much clear result. We found that there was a significantly strong association between the three variables as all their median values are different. \n",
    "\n",
    "\n",
    "\n",
    "#### **Inference Research** - From the Inference research, we was trying to determine if we have sufficient evidence to suggest that the average sales price of all property sold in Iowa in REG lot.shape is different from the average sales price of all property sold in Iowa in IR1 lot.shape. As the result, we can found that the null value is not inside 95% confidence interval and the p-value is 0.0 which means that we can get a difference sales price between two different lot shape from our dataset.\n",
    "\n",
    "\n",
    "\n",
    "#### **Linear Regression** - Next, we did built a linear regression model. The motive behind this model was to judge how variables like lot Frontage, Lot Area, the street, and year in which the house was sold would affect it's selling price. There was somewhat strong asociation between all the varibles. However, to increase the confidence in our results we proceeded with the model including linear transformation of the response variable (Saleprice). In the end, we made predictions based on this model and also checked whether we have enough evidence to suggest whether we our slopes are non zero or not. The results suggested that the Lot.Frontage and Lot.Area slope could be non zero and street and Yr.sold slope could be zero.\n",
    "\n",
    "#### **Logistic regression** - From the Logistic research, we was trying to find linear relationship between the log-odds of the success level of Sale Condition and Lot Shape, Lot Area, Sale Price, Year Sold and Street. In order to find our final parsimonious model, we reduced the variable Lot Shape by using AIC and BIC. After that ,we did the hypothesis testing for all slopes in our model and got that Sales Price and Year Sold slopes are non-zero. Then we used ROC and AUC graph found the good predictive probability threshold for our test dataset. In the end, we did the classification of our test dataset by sorting the best points(greatest difference between FPR and TPR) on the graph.\n",
    "\n",
    "\n"
   ]
  },
  {
   "cell_type": "markdown",
   "metadata": {
    "id": "0OcqutpcbdzL"
   },
   "source": [
    "### **Future Work**:\n",
    "#### Someone else who wishes to explore this datatset further could see how the utilities like fence or pools provided with house affect its price. To understand this, one could take the help of descriptive analysis and linear or logistic regression.\n"
   ]
  }
 ],
 "metadata": {
  "colab": {
   "collapsed_sections": [],
   "name": "stat207 project.ipynb",
   "provenance": []
  },
  "kernelspec": {
   "display_name": "Python 3",
   "language": "python",
   "name": "python3"
  },
  "language_info": {
   "codemirror_mode": {
    "name": "ipython",
    "version": 3
   },
   "file_extension": ".py",
   "mimetype": "text/x-python",
   "name": "python",
   "nbconvert_exporter": "python",
   "pygments_lexer": "ipython3",
   "version": "3.8.1"
  }
 },
 "nbformat": 4,
 "nbformat_minor": 1
}
